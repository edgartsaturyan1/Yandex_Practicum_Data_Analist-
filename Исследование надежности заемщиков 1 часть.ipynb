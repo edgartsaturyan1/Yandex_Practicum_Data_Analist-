{
 "cells": [
  {
   "cell_type": "markdown",
   "id": "90e35215",
   "metadata": {
    "deletable": false,
    "editable": false,
    "id": "c81daeeb"
   },
   "source": [
    "# Исследование надежности заемщиков"
   ]
  },
  {
   "cell_type": "markdown",
   "id": "c64b0351",
   "metadata": {
    "deletable": false,
    "editable": false,
    "id": "-G3EJWzf62s6"
   },
   "source": [
    "Это первая часть проекта, она будет проверена автоматически. Вторую часть проверит ревьюер. "
   ]
  },
  {
   "cell_type": "markdown",
   "id": "e9a38e3a",
   "metadata": {
    "deletable": false,
    "editable": false,
    "id": "744d7639"
   },
   "source": [
    "## Откройте таблицу и изучите общую информацию о данных"
   ]
  },
  {
   "cell_type": "markdown",
   "id": "b5268868",
   "metadata": {
    "deletable": false,
    "editable": false,
    "id": "e7a14c31",
    "tags": [
     "start_task"
    ]
   },
   "source": [
    "**Задание 1. Импортируйте библиотеку pandas. Считайте данные из csv-файла в датафрейм и сохраните в переменную `data`. Путь к файлу:**\n",
    "\n",
    "`/datasets/data.csv`"
   ]
  },
  {
   "cell_type": "code",
   "execution_count": 50,
   "id": "7e1aced7",
   "metadata": {
    "id": "7bcf75c9"
   },
   "outputs": [],
   "source": [
    "import pandas as pd"
   ]
  },
  {
   "cell_type": "code",
   "execution_count": 51,
   "id": "00e8ac2f",
   "metadata": {
    "id": "4d240ee2"
   },
   "outputs": [],
   "source": [
    "data = pd.read_csv('/datasets/data.csv')"
   ]
  },
  {
   "cell_type": "markdown",
   "id": "3decd1d6",
   "metadata": {
    "deletable": false,
    "editable": false,
    "id": "b8038fe3",
    "tags": [
     "start_task"
    ]
   },
   "source": [
    "**Задание 2. Выведите первые 20 строчек датафрейма `data` на экран.**"
   ]
  },
  {
   "cell_type": "code",
   "execution_count": 52,
   "id": "65821f75",
   "metadata": {
    "id": "2a7cab99"
   },
   "outputs": [
    {
     "name": "stdout",
     "output_type": "stream",
     "text": [
      "    children  days_employed  dob_years            education  education_id  \\\n",
      "0          1   -8437.673028         42               высшее             0   \n",
      "1          1   -4024.803754         36              среднее             1   \n",
      "2          0   -5623.422610         33              Среднее             1   \n",
      "3          3   -4124.747207         32              среднее             1   \n",
      "4          0  340266.072047         53              среднее             1   \n",
      "5          0    -926.185831         27               высшее             0   \n",
      "6          0   -2879.202052         43               высшее             0   \n",
      "7          0    -152.779569         50              СРЕДНЕЕ             1   \n",
      "8          2   -6929.865299         35               ВЫСШЕЕ             0   \n",
      "9          0   -2188.756445         41              среднее             1   \n",
      "10         2   -4171.483647         36               высшее             0   \n",
      "11         0    -792.701887         40              среднее             1   \n",
      "12         0            NaN         65              среднее             1   \n",
      "13         0   -1846.641941         54  неоконченное высшее             2   \n",
      "14         0   -1844.956182         56               высшее             0   \n",
      "15         1    -972.364419         26              среднее             1   \n",
      "16         0   -1719.934226         35              среднее             1   \n",
      "17         0   -2369.999720         33               высшее             0   \n",
      "18         0  400281.136913         53              среднее             1   \n",
      "19         0  -10038.818549         48              СРЕДНЕЕ             1   \n",
      "\n",
      "       family_status  family_status_id gender income_type  debt  \\\n",
      "0    женат / замужем                 0      F   сотрудник     0   \n",
      "1    женат / замужем                 0      F   сотрудник     0   \n",
      "2    женат / замужем                 0      M   сотрудник     0   \n",
      "3    женат / замужем                 0      M   сотрудник     0   \n",
      "4   гражданский брак                 1      F   пенсионер     0   \n",
      "5   гражданский брак                 1      M   компаньон     0   \n",
      "6    женат / замужем                 0      F   компаньон     0   \n",
      "7    женат / замужем                 0      M   сотрудник     0   \n",
      "8   гражданский брак                 1      F   сотрудник     0   \n",
      "9    женат / замужем                 0      M   сотрудник     0   \n",
      "10   женат / замужем                 0      M   компаньон     0   \n",
      "11   женат / замужем                 0      F   сотрудник     0   \n",
      "12  гражданский брак                 1      M   пенсионер     0   \n",
      "13   женат / замужем                 0      F   сотрудник     0   \n",
      "14  гражданский брак                 1      F   компаньон     1   \n",
      "15   женат / замужем                 0      F   сотрудник     0   \n",
      "16   женат / замужем                 0      F   сотрудник     0   \n",
      "17  гражданский брак                 1      M   сотрудник     0   \n",
      "18    вдовец / вдова                 2      F   пенсионер     0   \n",
      "19         в разводе                 3      F   сотрудник     0   \n",
      "\n",
      "     total_income                                 purpose  \n",
      "0   253875.639453                           покупка жилья  \n",
      "1   112080.014102                 приобретение автомобиля  \n",
      "2   145885.952297                           покупка жилья  \n",
      "3   267628.550329              дополнительное образование  \n",
      "4   158616.077870                         сыграть свадьбу  \n",
      "5   255763.565419                           покупка жилья  \n",
      "6   240525.971920                       операции с жильем  \n",
      "7   135823.934197                             образование  \n",
      "8    95856.832424                   на проведение свадьбы  \n",
      "9   144425.938277                 покупка жилья для семьи  \n",
      "10  113943.491460                    покупка недвижимости  \n",
      "11   77069.234271       покупка коммерческой недвижимости  \n",
      "12            NaN                         сыграть свадьбу  \n",
      "13  130458.228857                 приобретение автомобиля  \n",
      "14  165127.911772              покупка жилой недвижимости  \n",
      "15  116820.904450  строительство собственной недвижимости  \n",
      "16  289202.704229                            недвижимость  \n",
      "17   90410.586745              строительство недвижимости  \n",
      "18   56823.777243      на покупку подержанного автомобиля  \n",
      "19  242831.107982            на покупку своего автомобиля  \n"
     ]
    }
   ],
   "source": [
    "print(data.head(20))"
   ]
  },
  {
   "cell_type": "markdown",
   "id": "2dfe9238",
   "metadata": {
    "deletable": false,
    "editable": false,
    "id": "1c12e233",
    "tags": [
     "start_task"
    ]
   },
   "source": [
    "**Задание 3. Выведите основную информацию о датафрейме с помощью метода `info()`.**"
   ]
  },
  {
   "cell_type": "code",
   "execution_count": 53,
   "id": "ea52806c",
   "metadata": {
    "id": "2b757bca"
   },
   "outputs": [
    {
     "name": "stdout",
     "output_type": "stream",
     "text": [
      "<class 'pandas.core.frame.DataFrame'>\n",
      "RangeIndex: 21525 entries, 0 to 21524\n",
      "Data columns (total 12 columns):\n",
      " #   Column            Non-Null Count  Dtype  \n",
      "---  ------            --------------  -----  \n",
      " 0   children          21525 non-null  int64  \n",
      " 1   days_employed     19351 non-null  float64\n",
      " 2   dob_years         21525 non-null  int64  \n",
      " 3   education         21525 non-null  object \n",
      " 4   education_id      21525 non-null  int64  \n",
      " 5   family_status     21525 non-null  object \n",
      " 6   family_status_id  21525 non-null  int64  \n",
      " 7   gender            21525 non-null  object \n",
      " 8   income_type       21525 non-null  object \n",
      " 9   debt              21525 non-null  int64  \n",
      " 10  total_income      19351 non-null  float64\n",
      " 11  purpose           21525 non-null  object \n",
      "dtypes: float64(2), int64(5), object(5)\n",
      "memory usage: 2.0+ MB\n"
     ]
    }
   ],
   "source": [
    "data.info()"
   ]
  },
  {
   "cell_type": "markdown",
   "id": "832346be",
   "metadata": {
    "deletable": false,
    "editable": false,
    "id": "333ec665"
   },
   "source": [
    "## Предобработка данных"
   ]
  },
  {
   "cell_type": "markdown",
   "id": "ea88b546",
   "metadata": {
    "deletable": false,
    "editable": false,
    "id": "02d92d53"
   },
   "source": [
    "### Удаление пропусков"
   ]
  },
  {
   "cell_type": "markdown",
   "id": "f121c6d2",
   "metadata": {
    "deletable": false,
    "editable": false,
    "id": "cd84967c",
    "tags": [
     "start_task"
    ]
   },
   "source": [
    "**Задание 4. Выведите количество пропущенных значений для каждого столбца. Используйте комбинацию двух методов.**"
   ]
  },
  {
   "cell_type": "code",
   "execution_count": 54,
   "id": "17c6c4c7",
   "metadata": {
    "id": "7f9b2309"
   },
   "outputs": [
    {
     "name": "stdout",
     "output_type": "stream",
     "text": [
      "children               0\n",
      "days_employed       2174\n",
      "dob_years              0\n",
      "education              0\n",
      "education_id           0\n",
      "family_status          0\n",
      "family_status_id       0\n",
      "gender                 0\n",
      "income_type            0\n",
      "debt                   0\n",
      "total_income        2174\n",
      "purpose                0\n",
      "dtype: int64\n"
     ]
    }
   ],
   "source": [
    "print(data.isna().sum())"
   ]
  },
  {
   "cell_type": "markdown",
   "id": "3f32b239",
   "metadata": {
    "deletable": false,
    "editable": false,
    "id": "db86e27b",
    "tags": [
     "start_task"
    ]
   },
   "source": [
    "**Задание 5. В двух столбцах есть пропущенные значения. Один из них — `days_employed`. Пропуски в этом столбце вы обработаете на следующем этапе. Другой столбец с пропущенными значениями — `total_income` — хранит данные о доходах. На сумму дохода сильнее всего влияет тип занятости, поэтому заполнить пропуски в этом столбце нужно медианным значением по каждому типу из столбца `income_type`. Например, у человека с типом занятости `сотрудник` пропуск в столбце `total_income` должен быть заполнен медианным доходом среди всех записей с тем же типом.**"
   ]
  },
  {
   "cell_type": "code",
   "execution_count": 55,
   "id": "378e0026",
   "metadata": {
    "id": "42006a93"
   },
   "outputs": [],
   "source": [
    "data['total_income'] = data['total_income'].fillna(\n",
    "    data.groupby('income_type')['total_income'].transform(\"median\")\n",
    ")"
   ]
  },
  {
   "cell_type": "markdown",
   "id": "f88b445b",
   "metadata": {
    "deletable": false,
    "editable": false,
    "id": "89da5ece"
   },
   "source": [
    "### Обработка аномальных значений"
   ]
  },
  {
   "cell_type": "markdown",
   "id": "2dc8e223",
   "metadata": {
    "deletable": false,
    "editable": false,
    "id": "57964554",
    "tags": [
     "start_task"
    ]
   },
   "source": [
    "**Задание 6. В данных могут встречаться артефакты (аномалии) — значения, которые не отражают действительность и появились по какой-то ошибке. Таким артефактом будет отрицательное количество дней трудового стажа в столбце `days_employed`. Для реальных данных это нормально. Обработайте значения в этом столбце: замените все отрицательные значения положительными с помощью метода `abs()`.**"
   ]
  },
  {
   "cell_type": "code",
   "execution_count": 56,
   "id": "f36c2203",
   "metadata": {
    "id": "f6f055bf"
   },
   "outputs": [],
   "source": [
    "data['days_employed'] = data['days_employed'].abs()"
   ]
  },
  {
   "cell_type": "markdown",
   "id": "4f6a5a04",
   "metadata": {
    "deletable": false,
    "editable": false,
    "id": "6107dd2f",
    "tags": [
     "start_task"
    ]
   },
   "source": [
    "**Задание 7. Для каждого типа занятости выведите медианное значение трудового стажа `days_employed` в днях.**"
   ]
  },
  {
   "cell_type": "code",
   "execution_count": 57,
   "id": "f7297769",
   "metadata": {
    "id": "85a5faf6"
   },
   "outputs": [
    {
     "name": "stdout",
     "output_type": "stream",
     "text": [
      "income_type\n",
      "безработный        366413.652744\n",
      "в декрете            3296.759962\n",
      "госслужащий          2689.368353\n",
      "компаньон            1547.382223\n",
      "пенсионер          365213.306266\n",
      "предприниматель       520.848083\n",
      "сотрудник            1574.202821\n",
      "студент               578.751554\n",
      "Name: days_employed, dtype: float64\n"
     ]
    }
   ],
   "source": [
    "print(data.groupby('income_type')['days_employed'].median())"
   ]
  },
  {
   "cell_type": "markdown",
   "id": "c133f2a2",
   "metadata": {
    "deletable": false,
    "editable": false,
    "id": "38d1a030"
   },
   "source": [
    "У двух типов (безработные и пенсионеры) получатся аномально большие значения. Исправить такие значения сложно, поэтому оставьте их как есть. Тем более этот столбец не понадобится вам для исследования."
   ]
  },
  {
   "cell_type": "markdown",
   "id": "986db2dd",
   "metadata": {
    "deletable": false,
    "editable": false,
    "id": "d8a9f147",
    "tags": [
     "start_task"
    ]
   },
   "source": [
    "**Задание 8. Выведите перечень уникальных значений столбца `children`.**"
   ]
  },
  {
   "cell_type": "code",
   "execution_count": 58,
   "id": "7f179e6e",
   "metadata": {
    "id": "ef5056eb"
   },
   "outputs": [
    {
     "name": "stdout",
     "output_type": "stream",
     "text": [
      "[ 1  0  3  2 -1  4 20  5]\n"
     ]
    }
   ],
   "source": [
    "print(data['children'].unique())"
   ]
  },
  {
   "cell_type": "markdown",
   "id": "f8b0da7b",
   "metadata": {
    "deletable": false,
    "editable": false,
    "id": "40b9ebf2",
    "tags": [
     "start_task"
    ]
   },
   "source": [
    "**Задание 9. В столбце `children` есть два аномальных значения. Удалите строки, в которых встречаются такие аномальные значения из датафрейма `data`.**"
   ]
  },
  {
   "cell_type": "code",
   "execution_count": 59,
   "id": "79389ce0",
   "metadata": {
    "id": "3ff9801d"
   },
   "outputs": [],
   "source": [
    "data = data.loc[(data['children'] != -1) & (data['children'] != 20)]"
   ]
  },
  {
   "cell_type": "markdown",
   "id": "02104e85",
   "metadata": {
    "deletable": false,
    "editable": false,
    "id": "bbc4d0ce",
    "tags": [
     "start_task"
    ]
   },
   "source": [
    "**Задание 10. Ещё раз выведите перечень уникальных значений столбца `children`, чтобы убедиться, что артефакты удалены.**"
   ]
  },
  {
   "cell_type": "code",
   "execution_count": 60,
   "id": "2f709a56",
   "metadata": {
    "id": "ad4fa8b7"
   },
   "outputs": [
    {
     "name": "stdout",
     "output_type": "stream",
     "text": [
      "[1 0 3 2 4 5]\n"
     ]
    }
   ],
   "source": [
    "print(data['children'].unique())"
   ]
  },
  {
   "cell_type": "markdown",
   "id": "0b0e8728",
   "metadata": {
    "deletable": false,
    "editable": false,
    "id": "75440b63"
   },
   "source": [
    "### Удаление пропусков (продолжение)"
   ]
  },
  {
   "cell_type": "markdown",
   "id": "7459a266",
   "metadata": {
    "deletable": false,
    "editable": false,
    "id": "f4ea573f",
    "tags": [
     "start_task"
    ]
   },
   "source": [
    "**Задание 11. Заполните пропуски в столбце `days_employed` медианными значениями по каждому типу занятости `income_type`.**"
   ]
  },
  {
   "cell_type": "code",
   "execution_count": 61,
   "id": "1a1c5d69",
   "metadata": {
    "id": "af6b1a7e"
   },
   "outputs": [],
   "source": [
    "data['days_employed'] = data['days_employed'].fillna(\n",
    "    data.groupby('income_type')['days_employed'].transform(\"median\")\n",
    ")"
   ]
  },
  {
   "cell_type": "markdown",
   "id": "e0d8c735",
   "metadata": {
    "deletable": false,
    "editable": false,
    "id": "2753f40d",
    "tags": [
     "start_task"
    ]
   },
   "source": [
    "**Задание 12. Убедитесь, что все пропуски заполнены. Проверьте себя и ещё раз выведите количество пропущенных значений для каждого столбца с помощью двух методов.**"
   ]
  },
  {
   "cell_type": "code",
   "execution_count": 62,
   "id": "90cd2e4a",
   "metadata": {
    "id": "55f78bc2"
   },
   "outputs": [
    {
     "name": "stdout",
     "output_type": "stream",
     "text": [
      "children            0\n",
      "days_employed       0\n",
      "dob_years           0\n",
      "education           0\n",
      "education_id        0\n",
      "family_status       0\n",
      "family_status_id    0\n",
      "gender              0\n",
      "income_type         0\n",
      "debt                0\n",
      "total_income        0\n",
      "purpose             0\n",
      "dtype: int64\n"
     ]
    }
   ],
   "source": [
    "print(data.isna().sum())"
   ]
  },
  {
   "cell_type": "markdown",
   "id": "8f7d54d8",
   "metadata": {
    "deletable": false,
    "editable": false,
    "id": "ddc81e43"
   },
   "source": [
    "### Изменение типов данных"
   ]
  },
  {
   "cell_type": "markdown",
   "id": "617bea54",
   "metadata": {
    "deletable": false,
    "editable": false,
    "id": "42d19d24",
    "tags": [
     "start_task"
    ]
   },
   "source": [
    "**Задание 13. Замените вещественный тип данных в столбце `total_income` на целочисленный с помощью метода `astype()`.**"
   ]
  },
  {
   "cell_type": "code",
   "execution_count": 65,
   "id": "d4e9fe93",
   "metadata": {
    "id": "920b65ad"
   },
   "outputs": [],
   "source": [
    "data['total_income'] = data['total_income'].astype(int)"
   ]
  },
  {
   "cell_type": "markdown",
   "id": "dd9a2e87",
   "metadata": {
    "deletable": false,
    "editable": false,
    "id": "80c420ba"
   },
   "source": [
    "### Обработка дубликатов"
   ]
  },
  {
   "cell_type": "markdown",
   "id": "669cdabf",
   "metadata": {
    "deletable": false,
    "editable": false,
    "tags": [
     "start_task"
    ]
   },
   "source": [
    "**Задание 14. Обработайте неявные дубликаты в столбце `education`. В этом столбце есть одни и те же значения, но записанные по-разному: с использованием заглавных и строчных букв. Приведите их к нижнему регистру. Проверьте остальные столбцы.**"
   ]
  },
  {
   "cell_type": "code",
   "execution_count": 74,
   "id": "7bf7803b",
   "metadata": {},
   "outputs": [],
   "source": [
    "data['education'] = data['education'].str.lower() "
   ]
  },
  {
   "cell_type": "markdown",
   "id": "f2d3a60b",
   "metadata": {
    "deletable": false,
    "editable": false,
    "id": "dc587695",
    "tags": [
     "start_task"
    ]
   },
   "source": [
    "**Задание 15. Выведите на экран количество строк-дубликатов в данных. Если такие строки присутствуют, удалите их.**"
   ]
  },
  {
   "cell_type": "code",
   "execution_count": 80,
   "id": "48cd966f",
   "metadata": {
    "id": "3ee445e4"
   },
   "outputs": [
    {
     "name": "stdout",
     "output_type": "stream",
     "text": [
      "71\n"
     ]
    }
   ],
   "source": [
    "print(data.duplicated().sum()) "
   ]
  },
  {
   "cell_type": "code",
   "execution_count": 81,
   "id": "d327868a",
   "metadata": {
    "id": "8575fe05"
   },
   "outputs": [],
   "source": [
    "data = data.drop_duplicates() "
   ]
  },
  {
   "cell_type": "markdown",
   "id": "72ea6350",
   "metadata": {
    "deletable": false,
    "editable": false,
    "id": "9904cf55"
   },
   "source": [
    "### Категоризация данных"
   ]
  },
  {
   "cell_type": "markdown",
   "id": "b01c77a3",
   "metadata": {
    "deletable": false,
    "editable": false,
    "id": "72fcc8a2",
    "tags": [
     "start_task"
    ]
   },
   "source": [
    "**Задание 16. На основании диапазонов, указанных ниже, создайте в датафрейме `data` столбец `total_income_category` с категориями:**\n",
    "\n",
    "- 0–30000 — `'E'`;\n",
    "- 30001–50000 — `'D'`;\n",
    "- 50001–200000 — `'C'`;\n",
    "- 200001–1000000 — `'B'`;\n",
    "- 1000001 и выше — `'A'`.\n",
    "\n",
    "\n",
    "**Например, кредитополучателю с доходом 25000 нужно назначить категорию `'E'`, а клиенту, получающему 235000, — `'B'`. Используйте собственную функцию с именем `categorize_income()` и метод `apply()`.**"
   ]
  },
  {
   "cell_type": "code",
   "execution_count": 91,
   "id": "b941e931",
   "metadata": {
    "id": "e1771346"
   },
   "outputs": [],
   "source": [
    "def categorize_income(total_income):\n",
    "    if total_income <=30000:\n",
    "        return 'E'\n",
    "    if 30000 < total_income <=50000:\n",
    "        return 'D'\n",
    "    if 50000 < total_income <= 200000:\n",
    "        return 'C'\n",
    "    if 200000 < total_income <= 1000000:\n",
    "        return 'B'\n",
    "    return 'A'"
   ]
  },
  {
   "cell_type": "code",
   "execution_count": 92,
   "id": "aa25136a",
   "metadata": {
    "id": "d5f3586d"
   },
   "outputs": [],
   "source": [
    "data['total_income_category'] = data['total_income'].apply(categorize_income)"
   ]
  },
  {
   "cell_type": "markdown",
   "id": "613e265e",
   "metadata": {
    "deletable": false,
    "editable": false,
    "id": "dde49b5c",
    "tags": [
     "start_task"
    ]
   },
   "source": [
    "**Задание 17. Выведите на экран перечень уникальных целей взятия кредита из столбца `purpose`.**"
   ]
  },
  {
   "cell_type": "code",
   "execution_count": 93,
   "id": "4a67c5af",
   "metadata": {
    "id": "f67ce9b3"
   },
   "outputs": [
    {
     "name": "stdout",
     "output_type": "stream",
     "text": [
      "['покупка жилья' 'приобретение автомобиля' 'дополнительное образование'\n",
      " 'сыграть свадьбу' 'операции с жильем' 'образование'\n",
      " 'на проведение свадьбы' 'покупка жилья для семьи' 'покупка недвижимости'\n",
      " 'покупка коммерческой недвижимости' 'покупка жилой недвижимости'\n",
      " 'строительство собственной недвижимости' 'недвижимость'\n",
      " 'строительство недвижимости' 'на покупку подержанного автомобиля'\n",
      " 'на покупку своего автомобиля' 'операции с коммерческой недвижимостью'\n",
      " 'строительство жилой недвижимости' 'жилье'\n",
      " 'операции со своей недвижимостью' 'автомобили' 'заняться образованием'\n",
      " 'сделка с подержанным автомобилем' 'получение образования' 'автомобиль'\n",
      " 'свадьба' 'получение дополнительного образования' 'покупка своего жилья'\n",
      " 'операции с недвижимостью' 'получение высшего образования'\n",
      " 'свой автомобиль' 'сделка с автомобилем' 'профильное образование'\n",
      " 'высшее образование' 'покупка жилья для сдачи' 'на покупку автомобиля'\n",
      " 'ремонт жилью' 'заняться высшим образованием']\n"
     ]
    }
   ],
   "source": [
    "print(data['purpose'].unique())"
   ]
  },
  {
   "cell_type": "markdown",
   "id": "1e9565d7",
   "metadata": {
    "deletable": false,
    "editable": false,
    "id": "85d0aef0",
    "tags": [
     "start_task"
    ]
   },
   "source": [
    "**Задание 18. Создайте функцию, которая на основании данных из столбца `purpose` сформирует новый столбец `purpose_category`, в который войдут следующие категории:**\n",
    "\n",
    "- `'операции с автомобилем'`,\n",
    "- `'операции с недвижимостью'`,\n",
    "- `'проведение свадьбы'`,\n",
    "- `'получение образования'`.\n",
    "\n",
    "**Например, если в столбце `purpose` находится подстрока `'на покупку автомобиля'`, то в столбце `purpose_category` должна появиться строка `'операции с автомобилем'`.**\n",
    "\n",
    "**Используйте собственную функцию с именем `categorize_purpose()` и метод `apply()`. Изучите данные в столбце `purpose` и определите, какие подстроки помогут вам правильно определить категорию.**"
   ]
  },
  {
   "cell_type": "code",
   "execution_count": 163,
   "id": "14487d3d",
   "metadata": {
    "id": "e149fab4"
   },
   "outputs": [],
   "source": [
    "def categorize_purpose(row):\n",
    "    if 'автом' in row:\n",
    "        return 'операции с автомобилем'\n",
    "    elif 'недв' in row or 'жиль' in row:\n",
    "        return 'операции с недвижимостью'\n",
    "    elif 'свад' in row:\n",
    "        return 'проведение свадьбы'\n",
    "    elif 'образ' in row:\n",
    "        return 'получение образования'"
   ]
  },
  {
   "cell_type": "code",
   "execution_count": 164,
   "id": "c9b0b8ff",
   "metadata": {
    "id": "bf36e69b"
   },
   "outputs": [],
   "source": [
    "data['purpose_category'] = data['purpose'].apply(categorize_purpose)"
   ]
  },
  {
   "cell_type": "code",
   "execution_count": 165,
   "id": "97734252",
   "metadata": {},
   "outputs": [
    {
     "data": {
      "text/plain": [
       "purpose_category\n",
       "операции с недвижимостью    10751\n",
       "операции с автомобилем       4279\n",
       "получение образования        3988\n",
       "проведение свадьбы           2313\n",
       "dtype: int64"
      ]
     },
     "execution_count": 165,
     "metadata": {},
     "output_type": "execute_result"
    }
   ],
   "source": [
    "data.value_counts('purpose_category')"
   ]
  },
  {
   "cell_type": "code",
   "execution_count": null,
   "id": "47eda982",
   "metadata": {},
   "outputs": [],
   "source": []
  },
  {
   "cell_type": "code",
   "execution_count": null,
   "id": "bf08cb2c",
   "metadata": {},
   "outputs": [],
   "source": []
  }
 ],
 "metadata": {
  "ExecuteTimeLog": [
   {
    "duration": 369,
    "start_time": "2022-10-24T15:24:43.927Z"
   },
   {
    "duration": 289,
    "start_time": "2022-10-24T15:24:46.529Z"
   },
   {
    "duration": 11,
    "start_time": "2022-10-24T15:25:03.256Z"
   },
   {
    "duration": 16,
    "start_time": "2022-10-24T15:25:30.038Z"
   },
   {
    "duration": 49,
    "start_time": "2022-10-24T15:33:38.061Z"
   },
   {
    "duration": 42,
    "start_time": "2022-10-24T15:33:51.007Z"
   },
   {
    "duration": 8,
    "start_time": "2022-10-24T15:37:48.593Z"
   },
   {
    "duration": 8,
    "start_time": "2022-10-24T15:38:30.137Z"
   },
   {
    "duration": 173,
    "start_time": "2022-10-24T15:38:48.632Z"
   },
   {
    "duration": 50,
    "start_time": "2022-10-24T15:39:07.914Z"
   },
   {
    "duration": 10,
    "start_time": "2022-10-24T15:41:10.249Z"
   },
   {
    "duration": 5,
    "start_time": "2022-10-24T15:43:48.734Z"
   },
   {
    "duration": 59,
    "start_time": "2022-10-24T15:44:29.440Z"
   },
   {
    "duration": 40,
    "start_time": "2022-10-24T15:44:36.477Z"
   },
   {
    "duration": 67,
    "start_time": "2022-10-24T15:44:54.862Z"
   },
   {
    "duration": 5,
    "start_time": "2022-10-24T15:56:54.667Z"
   },
   {
    "duration": 6,
    "start_time": "2022-10-24T16:02:31.022Z"
   },
   {
    "duration": 49,
    "start_time": "2022-10-24T16:23:44.648Z"
   },
   {
    "duration": 4,
    "start_time": "2022-10-24T16:23:52.294Z"
   },
   {
    "duration": 4,
    "start_time": "2022-10-24T16:32:25.746Z"
   },
   {
    "duration": 28,
    "start_time": "2022-10-24T16:33:54.988Z"
   },
   {
    "duration": 69,
    "start_time": "2022-10-24T16:38:40.965Z"
   },
   {
    "duration": 44,
    "start_time": "2022-10-24T16:38:59.061Z"
   },
   {
    "duration": 3,
    "start_time": "2022-10-24T16:39:07.335Z"
   },
   {
    "duration": 11,
    "start_time": "2022-10-24T16:39:09.199Z"
   },
   {
    "duration": 11,
    "start_time": "2022-10-24T16:41:56.391Z"
   },
   {
    "duration": 2,
    "start_time": "2022-10-24T16:45:05.737Z"
   },
   {
    "duration": 74,
    "start_time": "2022-10-24T16:45:08.305Z"
   },
   {
    "duration": 10,
    "start_time": "2022-10-24T16:45:10.306Z"
   },
   {
    "duration": 14,
    "start_time": "2022-10-24T16:45:13.108Z"
   },
   {
    "duration": 11,
    "start_time": "2022-10-24T16:45:15.287Z"
   },
   {
    "duration": 7,
    "start_time": "2022-10-24T16:45:17.469Z"
   },
   {
    "duration": 4,
    "start_time": "2022-10-24T16:45:19.286Z"
   },
   {
    "duration": 4,
    "start_time": "2022-10-24T16:47:23.786Z"
   },
   {
    "duration": 11,
    "start_time": "2022-10-24T16:49:04.618Z"
   },
   {
    "duration": 3,
    "start_time": "2022-10-24T16:49:08.842Z"
   },
   {
    "duration": 11,
    "start_time": "2022-10-24T16:49:10.344Z"
   },
   {
    "duration": 6,
    "start_time": "2022-10-24T16:49:34.569Z"
   },
   {
    "duration": 7,
    "start_time": "2022-10-24T16:51:03.205Z"
   },
   {
    "duration": 4,
    "start_time": "2022-10-24T16:51:07.745Z"
   },
   {
    "duration": 11,
    "start_time": "2022-10-24T16:58:43.164Z"
   },
   {
    "duration": 9,
    "start_time": "2022-10-24T16:59:21.964Z"
   },
   {
    "duration": 38,
    "start_time": "2022-10-24T16:59:36.655Z"
   },
   {
    "duration": 7,
    "start_time": "2022-10-24T17:01:28.977Z"
   },
   {
    "duration": 4,
    "start_time": "2022-10-24T17:01:56.573Z"
   },
   {
    "duration": 7,
    "start_time": "2022-10-24T17:04:00.238Z"
   },
   {
    "duration": 7,
    "start_time": "2022-10-24T17:04:50.535Z"
   },
   {
    "duration": 7,
    "start_time": "2022-10-24T17:05:45.248Z"
   },
   {
    "duration": 3,
    "start_time": "2022-10-24T17:05:55.730Z"
   },
   {
    "duration": 69,
    "start_time": "2022-10-24T17:05:57.160Z"
   },
   {
    "duration": 9,
    "start_time": "2022-10-24T17:05:58.947Z"
   },
   {
    "duration": 15,
    "start_time": "2022-10-24T17:06:01.302Z"
   },
   {
    "duration": 9,
    "start_time": "2022-10-24T17:06:03.375Z"
   },
   {
    "duration": 8,
    "start_time": "2022-10-24T17:06:05.270Z"
   },
   {
    "duration": 3,
    "start_time": "2022-10-24T17:06:07.533Z"
   },
   {
    "duration": 7,
    "start_time": "2022-10-24T17:06:10.179Z"
   },
   {
    "duration": 4,
    "start_time": "2022-10-24T17:06:14.251Z"
   },
   {
    "duration": 7,
    "start_time": "2022-10-24T17:06:16.512Z"
   },
   {
    "duration": 3,
    "start_time": "2022-10-24T17:06:18.312Z"
   },
   {
    "duration": 7,
    "start_time": "2022-10-24T17:06:20.945Z"
   },
   {
    "duration": 8,
    "start_time": "2022-10-24T17:06:48.511Z"
   },
   {
    "duration": 4,
    "start_time": "2022-10-24T17:08:50.868Z"
   },
   {
    "duration": 9,
    "start_time": "2022-10-24T17:11:20.294Z"
   },
   {
    "duration": 3,
    "start_time": "2022-10-24T17:11:23.182Z"
   },
   {
    "duration": 8,
    "start_time": "2022-10-24T17:11:24.877Z"
   },
   {
    "duration": 8,
    "start_time": "2022-10-24T17:11:50.660Z"
   },
   {
    "duration": 5,
    "start_time": "2022-10-24T17:13:11.706Z"
   },
   {
    "duration": 17,
    "start_time": "2022-10-24T17:17:32.868Z"
   },
   {
    "duration": 5,
    "start_time": "2022-10-24T17:18:01.441Z"
   },
   {
    "duration": 15,
    "start_time": "2022-10-24T17:18:14.251Z"
   },
   {
    "duration": 16,
    "start_time": "2022-10-24T17:18:34.005Z"
   },
   {
    "duration": 815,
    "start_time": "2022-10-24T17:19:34.467Z"
   },
   {
    "duration": 11,
    "start_time": "2022-10-24T17:19:51.182Z"
   },
   {
    "duration": 21,
    "start_time": "2022-10-24T17:20:41.790Z"
   },
   {
    "duration": 9,
    "start_time": "2022-10-24T17:20:57.890Z"
   },
   {
    "duration": 33,
    "start_time": "2022-10-24T17:22:12.869Z"
   },
   {
    "duration": 23,
    "start_time": "2022-10-24T17:24:07.792Z"
   },
   {
    "duration": 23,
    "start_time": "2022-10-24T17:25:00.300Z"
   },
   {
    "duration": 21,
    "start_time": "2022-10-24T17:25:27.369Z"
   },
   {
    "duration": 24,
    "start_time": "2022-10-24T17:25:54.853Z"
   },
   {
    "duration": 9,
    "start_time": "2022-10-24T17:49:25.609Z"
   },
   {
    "duration": 9,
    "start_time": "2022-10-24T17:50:08.541Z"
   },
   {
    "duration": 54,
    "start_time": "2022-10-24T17:54:11.015Z"
   },
   {
    "duration": 50,
    "start_time": "2022-10-24T17:54:18.391Z"
   },
   {
    "duration": 40,
    "start_time": "2022-10-24T17:54:50.149Z"
   },
   {
    "duration": 47,
    "start_time": "2022-10-24T17:56:59.608Z"
   },
   {
    "duration": 4,
    "start_time": "2022-10-24T17:57:31.921Z"
   },
   {
    "duration": 13,
    "start_time": "2022-10-24T17:57:35.154Z"
   },
   {
    "duration": 15,
    "start_time": "2022-10-24T17:58:14.481Z"
   },
   {
    "duration": 3,
    "start_time": "2022-10-24T17:59:27.148Z"
   },
   {
    "duration": 9,
    "start_time": "2022-10-24T17:59:28.755Z"
   },
   {
    "duration": 5,
    "start_time": "2022-10-24T18:00:59.366Z"
   },
   {
    "duration": 6,
    "start_time": "2022-10-24T18:13:58.456Z"
   },
   {
    "duration": 49,
    "start_time": "2022-10-24T18:21:44.093Z"
   },
   {
    "duration": 49,
    "start_time": "2022-10-24T18:21:54.279Z"
   },
   {
    "duration": 45,
    "start_time": "2022-10-24T18:22:29.641Z"
   },
   {
    "duration": 3,
    "start_time": "2022-10-24T18:22:53.778Z"
   },
   {
    "duration": 8,
    "start_time": "2022-10-24T18:22:57.946Z"
   },
   {
    "duration": 9,
    "start_time": "2022-10-24T18:23:51.351Z"
   },
   {
    "duration": 6,
    "start_time": "2022-10-24T18:23:53.758Z"
   },
   {
    "duration": 4,
    "start_time": "2022-10-24T18:24:18.545Z"
   },
   {
    "duration": 14,
    "start_time": "2022-10-24T18:24:20.580Z"
   },
   {
    "duration": 4,
    "start_time": "2022-10-24T18:24:37.245Z"
   },
   {
    "duration": 19,
    "start_time": "2022-10-24T18:25:34.028Z"
   },
   {
    "duration": 8,
    "start_time": "2022-10-24T18:26:31.117Z"
   },
   {
    "duration": 7,
    "start_time": "2022-10-24T18:26:53.243Z"
   },
   {
    "duration": 3,
    "start_time": "2022-10-24T18:27:24.049Z"
   },
   {
    "duration": 8,
    "start_time": "2022-10-24T18:27:26.243Z"
   },
   {
    "duration": 17,
    "start_time": "2022-10-24T18:27:28.591Z"
   },
   {
    "duration": 11,
    "start_time": "2022-10-24T18:27:31.190Z"
   },
   {
    "duration": 3,
    "start_time": "2022-10-24T18:27:58.962Z"
   },
   {
    "duration": 8,
    "start_time": "2022-10-24T18:28:00.642Z"
   },
   {
    "duration": 16,
    "start_time": "2022-10-24T18:28:02.105Z"
   },
   {
    "duration": 9,
    "start_time": "2022-10-24T18:28:05.352Z"
   },
   {
    "duration": 79,
    "start_time": "2022-10-24T18:29:34.181Z"
   },
   {
    "duration": 4,
    "start_time": "2022-10-24T18:32:17.402Z"
   },
   {
    "duration": 9,
    "start_time": "2022-10-24T18:32:19.698Z"
   },
   {
    "duration": 16,
    "start_time": "2022-10-24T18:32:21.295Z"
   },
   {
    "duration": 9,
    "start_time": "2022-10-24T18:32:23.673Z"
   },
   {
    "duration": 4,
    "start_time": "2022-10-24T18:33:03.243Z"
   },
   {
    "duration": 8,
    "start_time": "2022-10-24T18:33:04.751Z"
   },
   {
    "duration": 15,
    "start_time": "2022-10-24T18:33:06.511Z"
   },
   {
    "duration": 7,
    "start_time": "2022-10-24T18:33:08.841Z"
   },
   {
    "duration": 3,
    "start_time": "2022-10-24T18:35:15.573Z"
   },
   {
    "duration": 152,
    "start_time": "2022-10-24T18:35:17.043Z"
   },
   {
    "duration": 14,
    "start_time": "2022-10-24T18:35:18.787Z"
   },
   {
    "duration": 10,
    "start_time": "2022-10-24T18:35:21.946Z"
   },
   {
    "duration": 10,
    "start_time": "2022-10-24T18:36:27.065Z"
   },
   {
    "duration": 16,
    "start_time": "2022-10-24T18:36:29.199Z"
   },
   {
    "duration": 9,
    "start_time": "2022-10-24T18:36:34.884Z"
   },
   {
    "duration": 5,
    "start_time": "2022-10-24T18:37:01.059Z"
   },
   {
    "duration": 7,
    "start_time": "2022-10-24T18:37:03.222Z"
   },
   {
    "duration": 21,
    "start_time": "2022-10-24T18:37:07.350Z"
   },
   {
    "duration": 9,
    "start_time": "2022-10-24T18:37:09.686Z"
   },
   {
    "duration": 44,
    "start_time": "2022-10-24T18:39:39.163Z"
   },
   {
    "duration": 44,
    "start_time": "2022-10-24T18:39:46.116Z"
   },
   {
    "duration": 4,
    "start_time": "2022-10-24T18:39:58.904Z"
   },
   {
    "duration": 7,
    "start_time": "2022-10-24T18:40:00.859Z"
   },
   {
    "duration": 9,
    "start_time": "2022-10-24T18:40:02.713Z"
   },
   {
    "duration": 303,
    "start_time": "2022-10-24T18:40:40.347Z"
   },
   {
    "duration": 4,
    "start_time": "2022-10-24T18:40:47.697Z"
   },
   {
    "duration": 8,
    "start_time": "2022-10-24T18:40:49.643Z"
   },
   {
    "duration": 10,
    "start_time": "2022-10-24T18:40:51.382Z"
   },
   {
    "duration": 3,
    "start_time": "2022-10-24T18:41:04.675Z"
   },
   {
    "duration": 7,
    "start_time": "2022-10-24T18:41:06.303Z"
   },
   {
    "duration": 7,
    "start_time": "2022-10-24T18:41:07.848Z"
   },
   {
    "duration": 3,
    "start_time": "2022-10-24T18:41:19.787Z"
   },
   {
    "duration": 8,
    "start_time": "2022-10-24T18:41:21.649Z"
   },
   {
    "duration": 7,
    "start_time": "2022-10-24T18:41:23.650Z"
   },
   {
    "duration": 4,
    "start_time": "2022-10-24T18:41:44.570Z"
   },
   {
    "duration": 11,
    "start_time": "2022-10-24T18:41:46.071Z"
   },
   {
    "duration": 10,
    "start_time": "2022-10-24T18:41:47.980Z"
   },
   {
    "duration": 4,
    "start_time": "2022-10-24T18:43:33.582Z"
   },
   {
    "duration": 12,
    "start_time": "2022-10-24T18:43:35.398Z"
   },
   {
    "duration": 7,
    "start_time": "2022-10-24T18:43:45.811Z"
   },
   {
    "duration": 4,
    "start_time": "2022-10-24T18:53:41.181Z"
   },
   {
    "duration": 10,
    "start_time": "2022-10-24T18:53:43.258Z"
   },
   {
    "duration": 10,
    "start_time": "2022-10-24T18:53:45.324Z"
   },
   {
    "duration": 3,
    "start_time": "2022-10-24T18:54:05.619Z"
   },
   {
    "duration": 9,
    "start_time": "2022-10-24T18:54:07.238Z"
   },
   {
    "duration": 8,
    "start_time": "2022-10-24T18:54:08.872Z"
   },
   {
    "duration": 4,
    "start_time": "2022-10-24T18:54:33.288Z"
   },
   {
    "duration": 12,
    "start_time": "2022-10-24T18:54:35.016Z"
   },
   {
    "duration": 8,
    "start_time": "2022-10-24T18:54:36.806Z"
   }
  ],
  "colab": {
   "name": "dpp_template_part1.ipynb",
   "provenance": []
  },
  "kernelspec": {
   "display_name": "Python 3 (ipykernel)",
   "language": "python",
   "name": "python3"
  },
  "language_info": {
   "codemirror_mode": {
    "name": "ipython",
    "version": 3
   },
   "file_extension": ".py",
   "mimetype": "text/x-python",
   "name": "python",
   "nbconvert_exporter": "python",
   "pygments_lexer": "ipython3",
   "version": "3.9.5"
  },
  "toc": {
   "base_numbering": 1,
   "nav_menu": {},
   "number_sections": true,
   "sideBar": true,
   "skip_h1_title": true,
   "title_cell": "Table of Contents",
   "title_sidebar": "Contents",
   "toc_cell": false,
   "toc_position": {},
   "toc_section_display": true,
   "toc_window_display": false
  }
 },
 "nbformat": 4,
 "nbformat_minor": 5
}
