{
 "cells": [
  {
   "cell_type": "markdown",
   "metadata": {},
   "source": [
    "<div class=\"alert alert-success\">\n",
    "  <b> ✔️Комментарий ревьюера ✔️</b>\n",
    "\n",
    "Привет, Эдгар! Меня зовут Михаил Майоров, я буду проверять твой проект. Предлагаю общаться на 'ты' :)\n",
    "Однако, если это неудобно - сообщи, и мы перейдем на 'Вы'. Моя главная цель —  поделиться с тобой своим опытом и помочь тебе стать аналитиком данных, а не только указать на совершенные тобой ошибки.\n",
    "\n",
    "Видно, что к проету приложен большой труд. Все ключевые этапы в работе выполнены, статистическое исследование проведено качественно. Так что в целом справиться с задачей тебе удалось.\n",
    "\n",
    "Есть несколько аспектов, которые **требуют** твоего **внимания**. Комментарии по ним помечены красным цветом и символами ❌. После их доработки проект будет принят, осталось совсем немного :) \n",
    "    \n",
    "\n",
    "Давай работать над проектом в диалоге: если **ты что-то меняешь** в проекте по моим рекомендациям — **пиши об этом**. Мне будет легче отследить изменения, если ты будешь использовать синюю форму, которую я прикреплю ниже. Пожалуйста, **не перемещай, не изменяй и не удаляй мои комментарии**. Всё это поможет выполнить повторную проверку твоего проекта оперативнее. \n",
    "\n",
    "\n",
    "\n",
    "Жду проект на повторное ревью. Успехов в изучении!\n",
    "\n",
    "\n",
    "\n",
    "</div>\n",
    "<div class=\"alert alert-block alert-danger\"> <b>❌ Комментарий ревьюера ❌</b> \n",
    "    Так я выделяю моменты, которые требуют особого внимания. Нужно будет учесть их и внести корректировки в свою работу. </div>\n",
    "<div class=\"alert alert-block alert-warning\"> <b>⚠️ Комментарий ревьюера ⚠️</b> \n",
    "    Желтым я отмечу рекомендации, которые, могут быть полезными при твоей работе. Они носят рекомендационный характер, но будет классно, если ты будешь учитывать их при работе.</div>\n",
    "<div class=\"alert alert-block alert-success\"> <b>✔️ Комментарий ревьюера ✔️</b>\n",
    "    Так я выделяю удачные и элегантные решения, на которые можно опираться в будущих проектах.</div>\n",
    "<div class=\"alert alert-block alert-info\">\n",
    "    \n",
    "А в таком блоке ты можешь оставить комментарии для меня \n",
    "    \n",
    "</div>"
   ]
  },
  {
   "cell_type": "markdown",
   "metadata": {},
   "source": [
    "В нашем распоряжении данные стартапа, который продает продукты питания.  Наша задача - изучить и проверить данные, воронку событий, результаты эксперимента. В конечном итоге мы должны получить результат, который поможет разобраться с поведением пользователей нашего мобильного приложения."
   ]
  },
  {
   "cell_type": "markdown",
   "metadata": {},
   "source": [
    "<div class=\"alert alert-warning\">\n",
    "\n",
    "**⚠️ Комментарий ревьюера ⚠️**\n",
    "   \n",
    "   Рекомендую написать небольшой план работы - навык составления ТЗ пригодится в будущем\n",
    "\n",
    "</div>\n",
    "\n",
    "\n"
   ]
  },
  {
   "cell_type": "markdown",
   "metadata": {},
   "source": [
    "### Откроем файл с данными и изучим общую информацию"
   ]
  },
  {
   "cell_type": "code",
   "execution_count": 131,
   "metadata": {},
   "outputs": [],
   "source": [
    "import pandas as pd #импортируем нужные библиотеки\n",
    "import numpy as np\n",
    "import matplotlib.pyplot as plt\n",
    "from scipy import stats as st\n",
    "import seaborn as sns\n",
    "from datetime import datetime, timedelta\n",
    "from IPython.display import display_html\n",
    "from plotly import graph_objects as go\n",
    "import math as mth\n",
    "pd.set_option('display.max_columns', 30)\n",
    "pd.set_option(\"display.float_format\", \"{:.2f}\".format)\n",
    "import warnings\n",
    "warnings.simplefilter('ignore')"
   ]
  },
  {
   "cell_type": "code",
   "execution_count": 132,
   "metadata": {},
   "outputs": [],
   "source": [
    "logs = pd.read_csv('/datasets/logs_exp.csv', sep='\\t') #чтение файла с данными и сохранение в logs"
   ]
  },
  {
   "cell_type": "code",
   "execution_count": 133,
   "metadata": {
    "scrolled": true
   },
   "outputs": [
    {
     "data": {
      "text/html": [
       "<div>\n",
       "<style scoped>\n",
       "    .dataframe tbody tr th:only-of-type {\n",
       "        vertical-align: middle;\n",
       "    }\n",
       "\n",
       "    .dataframe tbody tr th {\n",
       "        vertical-align: top;\n",
       "    }\n",
       "\n",
       "    .dataframe thead th {\n",
       "        text-align: right;\n",
       "    }\n",
       "</style>\n",
       "<table border=\"1\" class=\"dataframe\">\n",
       "  <thead>\n",
       "    <tr style=\"text-align: right;\">\n",
       "      <th></th>\n",
       "      <th>EventName</th>\n",
       "      <th>DeviceIDHash</th>\n",
       "      <th>EventTimestamp</th>\n",
       "      <th>ExpId</th>\n",
       "    </tr>\n",
       "  </thead>\n",
       "  <tbody>\n",
       "    <tr>\n",
       "      <th>0</th>\n",
       "      <td>MainScreenAppear</td>\n",
       "      <td>4575588528974610257</td>\n",
       "      <td>1564029816</td>\n",
       "      <td>246</td>\n",
       "    </tr>\n",
       "    <tr>\n",
       "      <th>1</th>\n",
       "      <td>MainScreenAppear</td>\n",
       "      <td>7416695313311560658</td>\n",
       "      <td>1564053102</td>\n",
       "      <td>246</td>\n",
       "    </tr>\n",
       "    <tr>\n",
       "      <th>2</th>\n",
       "      <td>PaymentScreenSuccessful</td>\n",
       "      <td>3518123091307005509</td>\n",
       "      <td>1564054127</td>\n",
       "      <td>248</td>\n",
       "    </tr>\n",
       "    <tr>\n",
       "      <th>3</th>\n",
       "      <td>CartScreenAppear</td>\n",
       "      <td>3518123091307005509</td>\n",
       "      <td>1564054127</td>\n",
       "      <td>248</td>\n",
       "    </tr>\n",
       "    <tr>\n",
       "      <th>4</th>\n",
       "      <td>PaymentScreenSuccessful</td>\n",
       "      <td>6217807653094995999</td>\n",
       "      <td>1564055322</td>\n",
       "      <td>248</td>\n",
       "    </tr>\n",
       "    <tr>\n",
       "      <th>...</th>\n",
       "      <td>...</td>\n",
       "      <td>...</td>\n",
       "      <td>...</td>\n",
       "      <td>...</td>\n",
       "    </tr>\n",
       "    <tr>\n",
       "      <th>244121</th>\n",
       "      <td>MainScreenAppear</td>\n",
       "      <td>4599628364049201812</td>\n",
       "      <td>1565212345</td>\n",
       "      <td>247</td>\n",
       "    </tr>\n",
       "    <tr>\n",
       "      <th>244122</th>\n",
       "      <td>MainScreenAppear</td>\n",
       "      <td>5849806612437486590</td>\n",
       "      <td>1565212439</td>\n",
       "      <td>246</td>\n",
       "    </tr>\n",
       "    <tr>\n",
       "      <th>244123</th>\n",
       "      <td>MainScreenAppear</td>\n",
       "      <td>5746969938801999050</td>\n",
       "      <td>1565212483</td>\n",
       "      <td>246</td>\n",
       "    </tr>\n",
       "    <tr>\n",
       "      <th>244124</th>\n",
       "      <td>MainScreenAppear</td>\n",
       "      <td>5746969938801999050</td>\n",
       "      <td>1565212498</td>\n",
       "      <td>246</td>\n",
       "    </tr>\n",
       "    <tr>\n",
       "      <th>244125</th>\n",
       "      <td>OffersScreenAppear</td>\n",
       "      <td>5746969938801999050</td>\n",
       "      <td>1565212517</td>\n",
       "      <td>246</td>\n",
       "    </tr>\n",
       "  </tbody>\n",
       "</table>\n",
       "<p>244126 rows × 4 columns</p>\n",
       "</div>"
      ],
      "text/plain": [
       "                      EventName         DeviceIDHash  EventTimestamp  ExpId\n",
       "0              MainScreenAppear  4575588528974610257      1564029816    246\n",
       "1              MainScreenAppear  7416695313311560658      1564053102    246\n",
       "2       PaymentScreenSuccessful  3518123091307005509      1564054127    248\n",
       "3              CartScreenAppear  3518123091307005509      1564054127    248\n",
       "4       PaymentScreenSuccessful  6217807653094995999      1564055322    248\n",
       "...                         ...                  ...             ...    ...\n",
       "244121         MainScreenAppear  4599628364049201812      1565212345    247\n",
       "244122         MainScreenAppear  5849806612437486590      1565212439    246\n",
       "244123         MainScreenAppear  5746969938801999050      1565212483    246\n",
       "244124         MainScreenAppear  5746969938801999050      1565212498    246\n",
       "244125       OffersScreenAppear  5746969938801999050      1565212517    246\n",
       "\n",
       "[244126 rows x 4 columns]"
      ]
     },
     "execution_count": 133,
     "metadata": {},
     "output_type": "execute_result"
    }
   ],
   "source": [
    "pd.set_option('display.max_colwidth', 500) #посмотрим на записи в логе\n",
    "logs"
   ]
  },
  {
   "cell_type": "code",
   "execution_count": 134,
   "metadata": {},
   "outputs": [
    {
     "name": "stdout",
     "output_type": "stream",
     "text": [
      "<class 'pandas.core.frame.DataFrame'>\n",
      "RangeIndex: 244126 entries, 0 to 244125\n",
      "Data columns (total 4 columns):\n",
      " #   Column          Non-Null Count   Dtype \n",
      "---  ------          --------------   ----- \n",
      " 0   EventName       244126 non-null  object\n",
      " 1   DeviceIDHash    244126 non-null  int64 \n",
      " 2   EventTimestamp  244126 non-null  int64 \n",
      " 3   ExpId           244126 non-null  int64 \n",
      "dtypes: int64(3), object(1)\n",
      "memory usage: 7.5+ MB\n"
     ]
    }
   ],
   "source": [
    "logs.info() #изучим записи в логе"
   ]
  },
  {
   "cell_type": "code",
   "execution_count": 135,
   "metadata": {},
   "outputs": [
    {
     "data": {
      "text/plain": [
       "EventName         0\n",
       "DeviceIDHash      0\n",
       "EventTimestamp    0\n",
       "ExpId             0\n",
       "dtype: int64"
      ]
     },
     "execution_count": 135,
     "metadata": {},
     "output_type": "execute_result"
    }
   ],
   "source": [
    "logs.isna().sum() #изучим пропуски в логе"
   ]
  },
  {
   "cell_type": "code",
   "execution_count": 136,
   "metadata": {},
   "outputs": [
    {
     "data": {
      "text/plain": [
       "413"
      ]
     },
     "execution_count": 136,
     "metadata": {},
     "output_type": "execute_result"
    }
   ],
   "source": [
    "logs.duplicated().sum() #изучим дубликаты в логе"
   ]
  },
  {
   "cell_type": "markdown",
   "metadata": {},
   "source": [
    "### Подготовим данные"
   ]
  },
  {
   "cell_type": "code",
   "execution_count": 137,
   "metadata": {},
   "outputs": [],
   "source": [
    "logs.columns = ['event', 'user_id', 'event_time', 'group'] #переименуем столбцы в логе"
   ]
  },
  {
   "cell_type": "code",
   "execution_count": 138,
   "metadata": {
    "scrolled": true
   },
   "outputs": [
    {
     "data": {
      "text/html": [
       "<div>\n",
       "<style scoped>\n",
       "    .dataframe tbody tr th:only-of-type {\n",
       "        vertical-align: middle;\n",
       "    }\n",
       "\n",
       "    .dataframe tbody tr th {\n",
       "        vertical-align: top;\n",
       "    }\n",
       "\n",
       "    .dataframe thead th {\n",
       "        text-align: right;\n",
       "    }\n",
       "</style>\n",
       "<table border=\"1\" class=\"dataframe\">\n",
       "  <thead>\n",
       "    <tr style=\"text-align: right;\">\n",
       "      <th></th>\n",
       "      <th>event</th>\n",
       "      <th>user_id</th>\n",
       "      <th>event_time</th>\n",
       "      <th>group</th>\n",
       "    </tr>\n",
       "  </thead>\n",
       "  <tbody>\n",
       "    <tr>\n",
       "      <th>104108</th>\n",
       "      <td>CartScreenAppear</td>\n",
       "      <td>34565258828294726</td>\n",
       "      <td>1564857221</td>\n",
       "      <td>248</td>\n",
       "    </tr>\n",
       "    <tr>\n",
       "      <th>17037</th>\n",
       "      <td>CartScreenAppear</td>\n",
       "      <td>197027893265565660</td>\n",
       "      <td>1564659614</td>\n",
       "      <td>246</td>\n",
       "    </tr>\n",
       "    <tr>\n",
       "      <th>23421</th>\n",
       "      <td>CartScreenAppear</td>\n",
       "      <td>197027893265565660</td>\n",
       "      <td>1564668928</td>\n",
       "      <td>246</td>\n",
       "    </tr>\n",
       "    <tr>\n",
       "      <th>34223</th>\n",
       "      <td>CartScreenAppear</td>\n",
       "      <td>197027893265565660</td>\n",
       "      <td>1564684544</td>\n",
       "      <td>246</td>\n",
       "    </tr>\n",
       "    <tr>\n",
       "      <th>112562</th>\n",
       "      <td>CartScreenAppear</td>\n",
       "      <td>197027893265565660</td>\n",
       "      <td>1564902904</td>\n",
       "      <td>246</td>\n",
       "    </tr>\n",
       "    <tr>\n",
       "      <th>144045</th>\n",
       "      <td>CartScreenAppear</td>\n",
       "      <td>197027893265565660</td>\n",
       "      <td>1564983860</td>\n",
       "      <td>246</td>\n",
       "    </tr>\n",
       "    <tr>\n",
       "      <th>235186</th>\n",
       "      <td>CartScreenAppear</td>\n",
       "      <td>299409047914517767</td>\n",
       "      <td>1565193055</td>\n",
       "      <td>248</td>\n",
       "    </tr>\n",
       "    <tr>\n",
       "      <th>42988</th>\n",
       "      <td>CartScreenAppear</td>\n",
       "      <td>438481114985016111</td>\n",
       "      <td>1564722577</td>\n",
       "      <td>247</td>\n",
       "    </tr>\n",
       "    <tr>\n",
       "      <th>136430</th>\n",
       "      <td>CartScreenAppear</td>\n",
       "      <td>789235048114585398</td>\n",
       "      <td>1564942828</td>\n",
       "      <td>246</td>\n",
       "    </tr>\n",
       "    <tr>\n",
       "      <th>238473</th>\n",
       "      <td>CartScreenAppear</td>\n",
       "      <td>789235048114585398</td>\n",
       "      <td>1565197952</td>\n",
       "      <td>246</td>\n",
       "    </tr>\n",
       "    <tr>\n",
       "      <th>103070</th>\n",
       "      <td>CartScreenAppear</td>\n",
       "      <td>987620840339193594</td>\n",
       "      <td>1564855026</td>\n",
       "      <td>247</td>\n",
       "    </tr>\n",
       "    <tr>\n",
       "      <th>241191</th>\n",
       "      <td>CartScreenAppear</td>\n",
       "      <td>1379176160808388540</td>\n",
       "      <td>1565203745</td>\n",
       "      <td>246</td>\n",
       "    </tr>\n",
       "    <tr>\n",
       "      <th>175876</th>\n",
       "      <td>CartScreenAppear</td>\n",
       "      <td>1566802255817691325</td>\n",
       "      <td>1565038615</td>\n",
       "      <td>247</td>\n",
       "    </tr>\n",
       "    <tr>\n",
       "      <th>2350</th>\n",
       "      <td>CartScreenAppear</td>\n",
       "      <td>1694940645335807244</td>\n",
       "      <td>1564609899</td>\n",
       "      <td>248</td>\n",
       "    </tr>\n",
       "    <tr>\n",
       "      <th>14333</th>\n",
       "      <td>CartScreenAppear</td>\n",
       "      <td>1807104407388801321</td>\n",
       "      <td>1564655427</td>\n",
       "      <td>248</td>\n",
       "    </tr>\n",
       "    <tr>\n",
       "      <th>242362</th>\n",
       "      <td>CartScreenAppear</td>\n",
       "      <td>2382591782303281935</td>\n",
       "      <td>1565206049</td>\n",
       "      <td>246</td>\n",
       "    </tr>\n",
       "    <tr>\n",
       "      <th>102784</th>\n",
       "      <td>CartScreenAppear</td>\n",
       "      <td>2863001408302662673</td>\n",
       "      <td>1564854470</td>\n",
       "      <td>246</td>\n",
       "    </tr>\n",
       "    <tr>\n",
       "      <th>74336</th>\n",
       "      <td>CartScreenAppear</td>\n",
       "      <td>3001657979204168225</td>\n",
       "      <td>1564784702</td>\n",
       "      <td>248</td>\n",
       "    </tr>\n",
       "    <tr>\n",
       "      <th>132141</th>\n",
       "      <td>CartScreenAppear</td>\n",
       "      <td>3001657979204168225</td>\n",
       "      <td>1564935489</td>\n",
       "      <td>248</td>\n",
       "    </tr>\n",
       "    <tr>\n",
       "      <th>50985</th>\n",
       "      <td>CartScreenAppear</td>\n",
       "      <td>3086763691799539568</td>\n",
       "      <td>1564739827</td>\n",
       "      <td>247</td>\n",
       "    </tr>\n",
       "    <tr>\n",
       "      <th>177139</th>\n",
       "      <td>CartScreenAppear</td>\n",
       "      <td>3198863056321683492</td>\n",
       "      <td>1565049409</td>\n",
       "      <td>248</td>\n",
       "    </tr>\n",
       "    <tr>\n",
       "      <th>177144</th>\n",
       "      <td>CartScreenAppear</td>\n",
       "      <td>3198863056321683492</td>\n",
       "      <td>1565049435</td>\n",
       "      <td>248</td>\n",
       "    </tr>\n",
       "    <tr>\n",
       "      <th>57681</th>\n",
       "      <td>CartScreenAppear</td>\n",
       "      <td>3378284981439931935</td>\n",
       "      <td>1564751387</td>\n",
       "      <td>246</td>\n",
       "    </tr>\n",
       "    <tr>\n",
       "      <th>86150</th>\n",
       "      <td>CartScreenAppear</td>\n",
       "      <td>3447945165857834216</td>\n",
       "      <td>1564828576</td>\n",
       "      <td>247</td>\n",
       "    </tr>\n",
       "    <tr>\n",
       "      <th>183774</th>\n",
       "      <td>CartScreenAppear</td>\n",
       "      <td>3511939253889671876</td>\n",
       "      <td>1565075997</td>\n",
       "      <td>248</td>\n",
       "    </tr>\n",
       "    <tr>\n",
       "      <th>227398</th>\n",
       "      <td>CartScreenAppear</td>\n",
       "      <td>4127885408060891243</td>\n",
       "      <td>1565180947</td>\n",
       "      <td>248</td>\n",
       "    </tr>\n",
       "    <tr>\n",
       "      <th>5641</th>\n",
       "      <td>CartScreenAppear</td>\n",
       "      <td>4248762472840564256</td>\n",
       "      <td>1564637764</td>\n",
       "      <td>248</td>\n",
       "    </tr>\n",
       "    <tr>\n",
       "      <th>123005</th>\n",
       "      <td>CartScreenAppear</td>\n",
       "      <td>4286084469604846869</td>\n",
       "      <td>1564920820</td>\n",
       "      <td>247</td>\n",
       "    </tr>\n",
       "    <tr>\n",
       "      <th>140186</th>\n",
       "      <td>CartScreenAppear</td>\n",
       "      <td>4559082052520013938</td>\n",
       "      <td>1564954465</td>\n",
       "      <td>246</td>\n",
       "    </tr>\n",
       "    <tr>\n",
       "      <th>44176</th>\n",
       "      <td>CartScreenAppear</td>\n",
       "      <td>4581794435043716955</td>\n",
       "      <td>1564726576</td>\n",
       "      <td>247</td>\n",
       "    </tr>\n",
       "  </tbody>\n",
       "</table>\n",
       "</div>"
      ],
      "text/plain": [
       "                   event              user_id  event_time  group\n",
       "104108  CartScreenAppear    34565258828294726  1564857221    248\n",
       "17037   CartScreenAppear   197027893265565660  1564659614    246\n",
       "23421   CartScreenAppear   197027893265565660  1564668928    246\n",
       "34223   CartScreenAppear   197027893265565660  1564684544    246\n",
       "112562  CartScreenAppear   197027893265565660  1564902904    246\n",
       "144045  CartScreenAppear   197027893265565660  1564983860    246\n",
       "235186  CartScreenAppear   299409047914517767  1565193055    248\n",
       "42988   CartScreenAppear   438481114985016111  1564722577    247\n",
       "136430  CartScreenAppear   789235048114585398  1564942828    246\n",
       "238473  CartScreenAppear   789235048114585398  1565197952    246\n",
       "103070  CartScreenAppear   987620840339193594  1564855026    247\n",
       "241191  CartScreenAppear  1379176160808388540  1565203745    246\n",
       "175876  CartScreenAppear  1566802255817691325  1565038615    247\n",
       "2350    CartScreenAppear  1694940645335807244  1564609899    248\n",
       "14333   CartScreenAppear  1807104407388801321  1564655427    248\n",
       "242362  CartScreenAppear  2382591782303281935  1565206049    246\n",
       "102784  CartScreenAppear  2863001408302662673  1564854470    246\n",
       "74336   CartScreenAppear  3001657979204168225  1564784702    248\n",
       "132141  CartScreenAppear  3001657979204168225  1564935489    248\n",
       "50985   CartScreenAppear  3086763691799539568  1564739827    247\n",
       "177139  CartScreenAppear  3198863056321683492  1565049409    248\n",
       "177144  CartScreenAppear  3198863056321683492  1565049435    248\n",
       "57681   CartScreenAppear  3378284981439931935  1564751387    246\n",
       "86150   CartScreenAppear  3447945165857834216  1564828576    247\n",
       "183774  CartScreenAppear  3511939253889671876  1565075997    248\n",
       "227398  CartScreenAppear  4127885408060891243  1565180947    248\n",
       "5641    CartScreenAppear  4248762472840564256  1564637764    248\n",
       "123005  CartScreenAppear  4286084469604846869  1564920820    247\n",
       "140186  CartScreenAppear  4559082052520013938  1564954465    246\n",
       "44176   CartScreenAppear  4581794435043716955  1564726576    247"
      ]
     },
     "execution_count": 138,
     "metadata": {},
     "output_type": "execute_result"
    }
   ],
   "source": [
    "logs[logs.duplicated()==True].sort_values(by=['event', 'user_id', 'event_time', 'group']).head(30) #рассмотрим наши дубликаты в логе"
   ]
  },
  {
   "cell_type": "code",
   "execution_count": 139,
   "metadata": {},
   "outputs": [],
   "source": [
    "logs = logs.drop_duplicates().reset_index(drop=True) #Удалим дубликаты в логе"
   ]
  },
  {
   "cell_type": "code",
   "execution_count": 140,
   "metadata": {},
   "outputs": [
    {
     "data": {
      "text/html": [
       "<div>\n",
       "<style scoped>\n",
       "    .dataframe tbody tr th:only-of-type {\n",
       "        vertical-align: middle;\n",
       "    }\n",
       "\n",
       "    .dataframe tbody tr th {\n",
       "        vertical-align: top;\n",
       "    }\n",
       "\n",
       "    .dataframe thead th {\n",
       "        text-align: right;\n",
       "    }\n",
       "</style>\n",
       "<table border=\"1\" class=\"dataframe\">\n",
       "  <thead>\n",
       "    <tr style=\"text-align: right;\">\n",
       "      <th></th>\n",
       "      <th>event</th>\n",
       "      <th>user_id</th>\n",
       "      <th>event_time</th>\n",
       "      <th>group</th>\n",
       "      <th>date</th>\n",
       "    </tr>\n",
       "  </thead>\n",
       "  <tbody>\n",
       "    <tr>\n",
       "      <th>0</th>\n",
       "      <td>MainScreenAppear</td>\n",
       "      <td>4575588528974610257</td>\n",
       "      <td>2019-07-25 04:43:36</td>\n",
       "      <td>246</td>\n",
       "      <td>2019-07-25</td>\n",
       "    </tr>\n",
       "    <tr>\n",
       "      <th>1</th>\n",
       "      <td>MainScreenAppear</td>\n",
       "      <td>7416695313311560658</td>\n",
       "      <td>2019-07-25 11:11:42</td>\n",
       "      <td>246</td>\n",
       "      <td>2019-07-25</td>\n",
       "    </tr>\n",
       "    <tr>\n",
       "      <th>2</th>\n",
       "      <td>PaymentScreenSuccessful</td>\n",
       "      <td>3518123091307005509</td>\n",
       "      <td>2019-07-25 11:28:47</td>\n",
       "      <td>248</td>\n",
       "      <td>2019-07-25</td>\n",
       "    </tr>\n",
       "    <tr>\n",
       "      <th>3</th>\n",
       "      <td>CartScreenAppear</td>\n",
       "      <td>3518123091307005509</td>\n",
       "      <td>2019-07-25 11:28:47</td>\n",
       "      <td>248</td>\n",
       "      <td>2019-07-25</td>\n",
       "    </tr>\n",
       "    <tr>\n",
       "      <th>4</th>\n",
       "      <td>PaymentScreenSuccessful</td>\n",
       "      <td>6217807653094995999</td>\n",
       "      <td>2019-07-25 11:48:42</td>\n",
       "      <td>248</td>\n",
       "      <td>2019-07-25</td>\n",
       "    </tr>\n",
       "  </tbody>\n",
       "</table>\n",
       "</div>"
      ],
      "text/plain": [
       "                     event              user_id          event_time  group  \\\n",
       "0         MainScreenAppear  4575588528974610257 2019-07-25 04:43:36    246   \n",
       "1         MainScreenAppear  7416695313311560658 2019-07-25 11:11:42    246   \n",
       "2  PaymentScreenSuccessful  3518123091307005509 2019-07-25 11:28:47    248   \n",
       "3         CartScreenAppear  3518123091307005509 2019-07-25 11:28:47    248   \n",
       "4  PaymentScreenSuccessful  6217807653094995999 2019-07-25 11:48:42    248   \n",
       "\n",
       "        date  \n",
       "0 2019-07-25  \n",
       "1 2019-07-25  \n",
       "2 2019-07-25  \n",
       "3 2019-07-25  \n",
       "4 2019-07-25  "
      ]
     },
     "execution_count": 140,
     "metadata": {},
     "output_type": "execute_result"
    }
   ],
   "source": [
    "logs['event_time'] = pd.to_datetime(logs['event_time'], unit='s')  #заменим тип дат в логе\n",
    "logs['date'] = logs['event_time'].dt.date\n",
    "logs['date'] = logs['date'].astype('datetime64')\n",
    "logs.head()"
   ]
  },
  {
   "cell_type": "code",
   "execution_count": 141,
   "metadata": {},
   "outputs": [],
   "source": [
    "def sort_group(group): #переименуем наши группы\n",
    "    if group == 246:\n",
    "        return 'A'\n",
    "    elif group == 247:\n",
    "        return 'A1'\n",
    "    elif group == 248:\n",
    "        return 'B'\n",
    "    else:\n",
    "        return 'Ошибка'\n",
    "\n",
    "logs['group'] = logs['group'].apply(sort_group) "
   ]
  },
  {
   "cell_type": "code",
   "execution_count": 142,
   "metadata": {
    "scrolled": true
   },
   "outputs": [
    {
     "name": "stdout",
     "output_type": "stream",
     "text": [
      "<class 'pandas.core.frame.DataFrame'>\n",
      "RangeIndex: 243713 entries, 0 to 243712\n",
      "Data columns (total 5 columns):\n",
      " #   Column      Non-Null Count   Dtype         \n",
      "---  ------      --------------   -----         \n",
      " 0   event       243713 non-null  object        \n",
      " 1   user_id     243713 non-null  int64         \n",
      " 2   event_time  243713 non-null  datetime64[ns]\n",
      " 3   group       243713 non-null  object        \n",
      " 4   date        243713 non-null  datetime64[ns]\n",
      "dtypes: datetime64[ns](2), int64(1), object(2)\n",
      "memory usage: 9.3+ MB\n"
     ]
    }
   ],
   "source": [
    "logs.info() #Посмотрим еще раз на записи в логе"
   ]
  },
  {
   "cell_type": "markdown",
   "metadata": {},
   "source": [
    "Наши данные изучены и прошли предобработку. Пропуски отсутствуют. Дубликаты удалены, скорее всего техническая ошибка, так как маловероятно что один пользователь в группе совершал идентичные события в одно и тоже время. Типы данных заменены на соответствующие в них значениям, столбцы приведены к единному стилю. Также добалены столбцы с датой и временем, и отдельный столбец дат. Таким образом, данные подготовлены к дальнейшему анализу."
   ]
  },
  {
   "cell_type": "markdown",
   "metadata": {},
   "source": [
    "<div class=\"alert alert-success\">\n",
    "\n",
    "**✔️ Комментарий ревьюера ✔️**\n",
    "   \n",
    "   Очень хорошо, что не забываешь проверять данные на наличие пропусков и дубликатов.  Молодец, что приводишь даты к нужному формату - предобработка проведена отлично.\n",
    "\n",
    "</div>"
   ]
  },
  {
   "cell_type": "markdown",
   "metadata": {},
   "source": [
    "### Изучим и проверим данные"
   ]
  },
  {
   "cell_type": "code",
   "execution_count": 143,
   "metadata": {},
   "outputs": [
    {
     "data": {
      "text/plain": [
       "243713"
      ]
     },
     "execution_count": 143,
     "metadata": {},
     "output_type": "execute_result"
    }
   ],
   "source": [
    "event = logs['event'].count() #изучим сколько событий в логе\n",
    "event"
   ]
  },
  {
   "cell_type": "markdown",
   "metadata": {},
   "source": [
    "Всего в нашем логе 243713 событий."
   ]
  },
  {
   "cell_type": "code",
   "execution_count": 144,
   "metadata": {},
   "outputs": [
    {
     "data": {
      "text/plain": [
       "7551"
      ]
     },
     "execution_count": 144,
     "metadata": {},
     "output_type": "execute_result"
    }
   ],
   "source": [
    "user = logs['user_id'].nunique() #изучим сколько пользователей в логе\n",
    "user"
   ]
  },
  {
   "cell_type": "markdown",
   "metadata": {},
   "source": [
    "Всего в нашем логе 7551 уникальных пользователей."
   ]
  },
  {
   "cell_type": "code",
   "execution_count": 145,
   "metadata": {},
   "outputs": [
    {
     "data": {
      "text/plain": [
       "32.0"
      ]
     },
     "execution_count": 145,
     "metadata": {},
     "output_type": "execute_result"
    }
   ],
   "source": [
    "(event / user).round() #изучим сколько в среднем событий приходится на пользователя"
   ]
  },
  {
   "cell_type": "markdown",
   "metadata": {},
   "source": [
    "Всего в среднем 32 события на одного пользователя."
   ]
  },
  {
   "cell_type": "code",
   "execution_count": 146,
   "metadata": {},
   "outputs": [
    {
     "data": {
      "text/plain": [
       "'Период данных которым мы располагаем: с 2019-07-25 04:43:36 по 2019-08-07 21:15:17'"
      ]
     },
     "metadata": {},
     "output_type": "display_data"
    },
    {
     "data": {
      "text/plain": [
       "'период: 13 days 16:31:41'"
      ]
     },
     "metadata": {},
     "output_type": "display_data"
    }
   ],
   "source": [
    "display(f\"Период данных которым мы располагаем: с {logs['event_time'].min()} по {logs['event_time'].max()}\") #посмотрим период, которым мы распологаем\n",
    "display(f\"период: {logs['event_time'].max() - logs['event_time'].min()}\") "
   ]
  },
  {
   "cell_type": "code",
   "execution_count": 147,
   "metadata": {
    "scrolled": true
   },
   "outputs": [
    {
     "data": {
      "image/png": "[encoded data removed]",
      "text/plain": [
       "<Figure size 1080x648 with 1 Axes>"
      ]
     },
     "metadata": {},
     "output_type": "display_data"
    }
   ],
   "source": [
    "#Построим график\n",
    "plt.figure(figsize=(15,9))\n",
    "ax = logs['event_time'].hist(bins=logs['date'].nunique())\n",
    "plt.title('Гистограмма по дате и времени')\n",
    "plt.ylabel(\"Частота\")\n",
    "plt.xlabel(\"Дата\")\n",
    "plt.xticks(rotation=45)\n",
    "plt.show()"
   ]
  },
  {
   "cell_type": "code",
   "execution_count": 148,
   "metadata": {},
   "outputs": [
    {
     "data": {
      "text/html": [
       "<div>\n",
       "<style scoped>\n",
       "    .dataframe tbody tr th:only-of-type {\n",
       "        vertical-align: middle;\n",
       "    }\n",
       "\n",
       "    .dataframe tbody tr th {\n",
       "        vertical-align: top;\n",
       "    }\n",
       "\n",
       "    .dataframe thead th {\n",
       "        text-align: right;\n",
       "    }\n",
       "</style>\n",
       "<table border=\"1\" class=\"dataframe\">\n",
       "  <thead>\n",
       "    <tr style=\"text-align: right;\">\n",
       "      <th></th>\n",
       "      <th>event</th>\n",
       "      <th>user_id</th>\n",
       "      <th>event_time</th>\n",
       "      <th>group</th>\n",
       "      <th>date</th>\n",
       "    </tr>\n",
       "  </thead>\n",
       "  <tbody>\n",
       "    <tr>\n",
       "      <th>0</th>\n",
       "      <td>Tutorial</td>\n",
       "      <td>3737462046622621720</td>\n",
       "      <td>2019-08-01 00:07:28</td>\n",
       "      <td>A</td>\n",
       "      <td>2019-08-01</td>\n",
       "    </tr>\n",
       "    <tr>\n",
       "      <th>1</th>\n",
       "      <td>MainScreenAppear</td>\n",
       "      <td>3737462046622621720</td>\n",
       "      <td>2019-08-01 00:08:00</td>\n",
       "      <td>A</td>\n",
       "      <td>2019-08-01</td>\n",
       "    </tr>\n",
       "    <tr>\n",
       "      <th>2</th>\n",
       "      <td>MainScreenAppear</td>\n",
       "      <td>3737462046622621720</td>\n",
       "      <td>2019-08-01 00:08:55</td>\n",
       "      <td>A</td>\n",
       "      <td>2019-08-01</td>\n",
       "    </tr>\n",
       "    <tr>\n",
       "      <th>3</th>\n",
       "      <td>OffersScreenAppear</td>\n",
       "      <td>3737462046622621720</td>\n",
       "      <td>2019-08-01 00:08:58</td>\n",
       "      <td>A</td>\n",
       "      <td>2019-08-01</td>\n",
       "    </tr>\n",
       "    <tr>\n",
       "      <th>4</th>\n",
       "      <td>MainScreenAppear</td>\n",
       "      <td>1433840883824088890</td>\n",
       "      <td>2019-08-01 00:08:59</td>\n",
       "      <td>A1</td>\n",
       "      <td>2019-08-01</td>\n",
       "    </tr>\n",
       "    <tr>\n",
       "      <th>...</th>\n",
       "      <td>...</td>\n",
       "      <td>...</td>\n",
       "      <td>...</td>\n",
       "      <td>...</td>\n",
       "      <td>...</td>\n",
       "    </tr>\n",
       "    <tr>\n",
       "      <th>240882</th>\n",
       "      <td>MainScreenAppear</td>\n",
       "      <td>4599628364049201812</td>\n",
       "      <td>2019-08-07 21:12:25</td>\n",
       "      <td>A1</td>\n",
       "      <td>2019-08-07</td>\n",
       "    </tr>\n",
       "    <tr>\n",
       "      <th>240883</th>\n",
       "      <td>MainScreenAppear</td>\n",
       "      <td>5849806612437486590</td>\n",
       "      <td>2019-08-07 21:13:59</td>\n",
       "      <td>A</td>\n",
       "      <td>2019-08-07</td>\n",
       "    </tr>\n",
       "    <tr>\n",
       "      <th>240884</th>\n",
       "      <td>MainScreenAppear</td>\n",
       "      <td>5746969938801999050</td>\n",
       "      <td>2019-08-07 21:14:43</td>\n",
       "      <td>A</td>\n",
       "      <td>2019-08-07</td>\n",
       "    </tr>\n",
       "    <tr>\n",
       "      <th>240885</th>\n",
       "      <td>MainScreenAppear</td>\n",
       "      <td>5746969938801999050</td>\n",
       "      <td>2019-08-07 21:14:58</td>\n",
       "      <td>A</td>\n",
       "      <td>2019-08-07</td>\n",
       "    </tr>\n",
       "    <tr>\n",
       "      <th>240886</th>\n",
       "      <td>OffersScreenAppear</td>\n",
       "      <td>5746969938801999050</td>\n",
       "      <td>2019-08-07 21:15:17</td>\n",
       "      <td>A</td>\n",
       "      <td>2019-08-07</td>\n",
       "    </tr>\n",
       "  </tbody>\n",
       "</table>\n",
       "<p>240887 rows × 5 columns</p>\n",
       "</div>"
      ],
      "text/plain": [
       "                     event              user_id          event_time group  \\\n",
       "0                 Tutorial  3737462046622621720 2019-08-01 00:07:28     A   \n",
       "1         MainScreenAppear  3737462046622621720 2019-08-01 00:08:00     A   \n",
       "2         MainScreenAppear  3737462046622621720 2019-08-01 00:08:55     A   \n",
       "3       OffersScreenAppear  3737462046622621720 2019-08-01 00:08:58     A   \n",
       "4         MainScreenAppear  1433840883824088890 2019-08-01 00:08:59    A1   \n",
       "...                    ...                  ...                 ...   ...   \n",
       "240882    MainScreenAppear  4599628364049201812 2019-08-07 21:12:25    A1   \n",
       "240883    MainScreenAppear  5849806612437486590 2019-08-07 21:13:59     A   \n",
       "240884    MainScreenAppear  5746969938801999050 2019-08-07 21:14:43     A   \n",
       "240885    MainScreenAppear  5746969938801999050 2019-08-07 21:14:58     A   \n",
       "240886  OffersScreenAppear  5746969938801999050 2019-08-07 21:15:17     A   \n",
       "\n",
       "             date  \n",
       "0      2019-08-01  \n",
       "1      2019-08-01  \n",
       "2      2019-08-01  \n",
       "3      2019-08-01  \n",
       "4      2019-08-01  \n",
       "...           ...  \n",
       "240882 2019-08-07  \n",
       "240883 2019-08-07  \n",
       "240884 2019-08-07  \n",
       "240885 2019-08-07  \n",
       "240886 2019-08-07  \n",
       "\n",
       "[240887 rows x 5 columns]"
      ]
     },
     "execution_count": 148,
     "metadata": {},
     "output_type": "execute_result"
    }
   ],
   "source": [
    "logs_new = logs.loc[logs['date'] > '2019-07-31'].reset_index(drop=True) #отбросим старые данные\n",
    "logs_new.sort_values(by='event_time')"
   ]
  },
  {
   "cell_type": "markdown",
   "metadata": {},
   "source": [
    "Посмотрим какими данными в определенный период мы распологаем и построим гистограмму, чтобы с уверенностью утверждать, что у нас одинаково полные данные за весь период. Технически в логи новых дней по некоторым пользователям могут «доезжать» события из прошлого — это может «перекашивать данные». Определим, с какого момента данные полные и отбросим более старые. На графике видно, что в нашем распоряжении данными только второй недели из двух. Получается, что действительный диапазон данных это с 01.08 по 07.08. Поэтому отбросим более старые данные."
   ]
  },
  {
   "cell_type": "code",
   "execution_count": 149,
   "metadata": {},
   "outputs": [
    {
     "data": {
      "text/plain": [
       "2826"
      ]
     },
     "metadata": {},
     "output_type": "display_data"
    },
    {
     "data": {
      "text/plain": [
       "1.0"
      ]
     },
     "metadata": {},
     "output_type": "display_data"
    }
   ],
   "source": [
    "event_new = logs_new['event'].count() #посчитаем сколько событий мы потеряли\n",
    "display(event - event_new)\n",
    "display(((event - event_new)/event*100).round()) "
   ]
  },
  {
   "cell_type": "markdown",
   "metadata": {},
   "source": [
    "Отбросив старые данные мы потеряли 2826 событий, что составляет 1% от общего количества событий. "
   ]
  },
  {
   "cell_type": "code",
   "execution_count": 150,
   "metadata": {},
   "outputs": [
    {
     "data": {
      "text/plain": [
       "17"
      ]
     },
     "metadata": {},
     "output_type": "display_data"
    },
    {
     "data": {
      "text/plain": [
       "0.22513574361011784"
      ]
     },
     "metadata": {},
     "output_type": "display_data"
    }
   ],
   "source": [
    "user_new = logs_new['user_id'].nunique() #посчитаем сколько пользователей мы потеряли\n",
    "display(user - user_new)\n",
    "display(((user - user_new)/user*100))"
   ]
  },
  {
   "cell_type": "markdown",
   "metadata": {},
   "source": [
    "Отбросив старые данные мы потеряли 17 пользователей, что составляет 0.2% от общего количества пользователей. "
   ]
  },
  {
   "cell_type": "code",
   "execution_count": 151,
   "metadata": {},
   "outputs": [
    {
     "data": {
      "text/plain": [
       "B     84563\n",
       "A     79302\n",
       "A1    77022\n",
       "Name: group, dtype: int64"
      ]
     },
     "metadata": {},
     "output_type": "display_data"
    },
    {
     "data": {
      "text/plain": [
       "group\n",
       "A     2484\n",
       "A1    2513\n",
       "B     2537\n",
       "Name: user_id, dtype: int64"
      ]
     },
     "metadata": {},
     "output_type": "display_data"
    }
   ],
   "source": [
    "display(logs_new['group'].value_counts(), logs_new.groupby('group')['user_id'].nunique()) #проверим данные и пользователей по всем экспериментальным группам"
   ]
  },
  {
   "cell_type": "markdown",
   "metadata": {},
   "source": [
    "Данные по всем пользователям из трех экспериментальных групп на месте."
   ]
  },
  {
   "cell_type": "markdown",
   "metadata": {},
   "source": [
    "<div class=\"alert alert-success\">\n",
    "\n",
    "**✔️ Комментарий ревьюера ✔️**\n",
    "   \n",
    "   Хорошо, отбросив данные, мы потеряли незначительную долю от общего числа, при этом сохранили пользователей из каждой группы - приступим к изучению воронки\n",
    "\n",
    "</div>\n"
   ]
  },
  {
   "cell_type": "markdown",
   "metadata": {},
   "source": [
    "### Изучим воронку событий"
   ]
  },
  {
   "cell_type": "code",
   "execution_count": 152,
   "metadata": {},
   "outputs": [
    {
     "data": {
      "text/plain": [
       "MainScreenAppear           117328\n",
       "OffersScreenAppear          46333\n",
       "CartScreenAppear            42303\n",
       "PaymentScreenSuccessful     33918\n",
       "Tutorial                     1005\n",
       "Name: event, dtype: int64"
      ]
     },
     "execution_count": 152,
     "metadata": {},
     "output_type": "execute_result"
    }
   ],
   "source": [
    "logs_new['event'].value_counts() #посмотрим какие события есть в логах по их частоте"
   ]
  },
  {
   "cell_type": "markdown",
   "metadata": {},
   "source": [
    "Посмотрим какие события есть в логах и как часто они встречаются. Самое популярное событие - \"Появление главного экрана\". Далее идет \"появление экрана предложений\". Следующее \"появление экрана корзины\". Предпоследним и последним событием идут: \"экран успешного платежа\", \"руководство\".  "
   ]
  },
  {
   "cell_type": "code",
   "execution_count": 153,
   "metadata": {},
   "outputs": [
    {
     "data": {
      "text/html": [
       "<div>\n",
       "<style scoped>\n",
       "    .dataframe tbody tr th:only-of-type {\n",
       "        vertical-align: middle;\n",
       "    }\n",
       "\n",
       "    .dataframe tbody tr th {\n",
       "        vertical-align: top;\n",
       "    }\n",
       "\n",
       "    .dataframe thead th {\n",
       "        text-align: right;\n",
       "    }\n",
       "</style>\n",
       "<table border=\"1\" class=\"dataframe\">\n",
       "  <thead>\n",
       "    <tr style=\"text-align: right;\">\n",
       "      <th></th>\n",
       "      <th>event</th>\n",
       "      <th>total_users</th>\n",
       "      <th>percent_1event</th>\n",
       "    </tr>\n",
       "  </thead>\n",
       "  <tbody>\n",
       "    <tr>\n",
       "      <th>0</th>\n",
       "      <td>MainScreenAppear</td>\n",
       "      <td>7419</td>\n",
       "      <td>98.00</td>\n",
       "    </tr>\n",
       "    <tr>\n",
       "      <th>1</th>\n",
       "      <td>OffersScreenAppear</td>\n",
       "      <td>4593</td>\n",
       "      <td>61.00</td>\n",
       "    </tr>\n",
       "    <tr>\n",
       "      <th>2</th>\n",
       "      <td>CartScreenAppear</td>\n",
       "      <td>3734</td>\n",
       "      <td>50.00</td>\n",
       "    </tr>\n",
       "    <tr>\n",
       "      <th>3</th>\n",
       "      <td>PaymentScreenSuccessful</td>\n",
       "      <td>3539</td>\n",
       "      <td>47.00</td>\n",
       "    </tr>\n",
       "    <tr>\n",
       "      <th>4</th>\n",
       "      <td>Tutorial</td>\n",
       "      <td>840</td>\n",
       "      <td>11.00</td>\n",
       "    </tr>\n",
       "  </tbody>\n",
       "</table>\n",
       "</div>"
      ],
      "text/plain": [
       "                     event  total_users  percent_1event\n",
       "0         MainScreenAppear         7419           98.00\n",
       "1       OffersScreenAppear         4593           61.00\n",
       "2         CartScreenAppear         3734           50.00\n",
       "3  PaymentScreenSuccessful         3539           47.00\n",
       "4                 Tutorial          840           11.00"
      ]
     },
     "execution_count": 153,
     "metadata": {},
     "output_type": "execute_result"
    }
   ],
   "source": [
    "funnel = logs_new.groupby('event')['user_id'].nunique().sort_values(ascending=False).to_frame().reset_index()\\\n",
    "        .rename(columns={'user_id': 'total_users'}) #посчитаем сколько пользователей совершали каждое из этих событий\n",
    "\n",
    "funnel['percent_1event'] = (funnel['total_users'] / logs_new['user_id'].nunique() * 100).round()\n",
    "funnel"
   ]
  },
  {
   "cell_type": "markdown",
   "metadata": {},
   "source": [
    "Посчитаем сколько пользователей совершали каждое из данных событий. Таким образом, самое популярное событие - \"Появление главного экрана\". Дальше события идут также по списку, что и появление в логе по их частоте. "
   ]
  },
  {
   "cell_type": "code",
   "execution_count": 154,
   "metadata": {},
   "outputs": [
    {
     "data": {
      "image/png": "[encoded data removed]",
      "text/plain": [
       "<Figure size 1080x360 with 1 Axes>"
      ]
     },
     "metadata": {},
     "output_type": "display_data"
    }
   ],
   "source": [
    "sns.set_style(\"whitegrid\") #построим график воронки событий\n",
    "plt.figure(figsize=(15,5))\n",
    "sns.barplot(y='total_users', x='event', data=funnel, palette='gnuplot_r')\n",
    "plt.title('Воронка событий')\n",
    "plt.xlabel('Событие')\n",
    "plt.ylabel('Количество пользователей')\n",
    "plt.show()"
   ]
  },
  {
   "cell_type": "markdown",
   "metadata": {},
   "source": [
    "Посмотрим в каком порядке происходят события. События выстраиваются в последовательную цепочку: \n",
    "- \"Появление главного экрана\";\n",
    "- \"Появление экрана предложений\";\n",
    "- \"Появление экрана корзины\";\n",
    "- \"Экран успешного платежа\";\n",
    "- \"Руководство\".  \n",
    "Единственное, что событие связанное с руководством (обучением) выпадает из общей цепочки."
   ]
  },
  {
   "cell_type": "code",
   "execution_count": 155,
   "metadata": {},
   "outputs": [],
   "source": [
    "funnel = funnel.query('event != \"Tutorial\"') #исключим событие связанное с обучением"
   ]
  },
  {
   "cell_type": "code",
   "execution_count": 156,
   "metadata": {},
   "outputs": [
    {
     "data": {
      "application/vnd.plotly.v1+json": {
       "config": {
        "plotlyServerURL": "https://plot.ly"
       },
       "data": [
        {
         "textinfo": "value+percent initial+percent previous",
         "type": "funnel",
         "x": [
          7419,
          4593,
          3734,
          3539
         ],
         "y": [
          "MainScreenAppear",
          "OffersScreenAppear",
          "CartScreenAppear",
          "PaymentScreenSuccessful"
         ]
        }
       ],
       "layout": {
        "template": {
         "data": {
          "bar": [
           {
            "error_x": {
             "color": "#2a3f5f"
            },
            "error_y": {
             "color": "#2a3f5f"
            },
            "marker": {
             "line": {
              "color": "#E5ECF6",
              "width": 0.5
             },
             "pattern": {
              "fillmode": "overlay",
              "size": 10,
              "solidity": 0.2
             }
            },
            "type": "bar"
           }
          ],
          "barpolar": [
           {
            "marker": {
             "line": {
              "color": "#E5ECF6",
              "width": 0.5
             },
             "pattern": {
              "fillmode": "overlay",
              "size": 10,
              "solidity": 0.2
             }
            },
            "type": "barpolar"
           }
          ],
          "carpet": [
           {
            "aaxis": {
             "endlinecolor": "#2a3f5f",
             "gridcolor": "white",
             "linecolor": "white",
             "minorgridcolor": "white",
             "startlinecolor": "#2a3f5f"
            },
            "baxis": {
             "endlinecolor": "#2a3f5f",
             "gridcolor": "white",
             "linecolor": "white",
             "minorgridcolor": "white",
             "startlinecolor": "#2a3f5f"
            },
            "type": "carpet"
           }
          ],
          "choropleth": [
           {
            "colorbar": {
             "outlinewidth": 0,
             "ticks": ""
            },
            "type": "choropleth"
           }
          ],
          "contour": [
           {
            "colorbar": {
             "outlinewidth": 0,
             "ticks": ""
            },
            "colorscale": [
             [
              0,
              "#0d0887"
             ],
             [
              0.1111111111111111,
              "#46039f"
             ],
             [
              0.2222222222222222,
              "#7201a8"
             ],
             [
              0.3333333333333333,
              "#9c179e"
             ],
             [
              0.4444444444444444,
              "#bd3786"
             ],
             [
              0.5555555555555556,
              "#d8576b"
             ],
             [
              0.6666666666666666,
              "#ed7953"
             ],
             [
              0.7777777777777778,
              "#fb9f3a"
             ],
             [
              0.8888888888888888,
              "#fdca26"
             ],
             [
              1,
              "#f0f921"
             ]
            ],
            "type": "contour"
           }
          ],
          "contourcarpet": [
           {
            "colorbar": {
             "outlinewidth": 0,
             "ticks": ""
            },
            "type": "contourcarpet"
           }
          ],
          "heatmap": [
           {
            "colorbar": {
             "outlinewidth": 0,
             "ticks": ""
            },
            "colorscale": [
             [
              0,
              "#0d0887"
             ],
             [
              0.1111111111111111,
              "#46039f"
             ],
             [
              0.2222222222222222,
              "#7201a8"
             ],
             [
              0.3333333333333333,
              "#9c179e"
             ],
             [
              0.4444444444444444,
              "#bd3786"
             ],
             [
              0.5555555555555556,
              "#d8576b"
             ],
             [
              0.6666666666666666,
              "#ed7953"
             ],
             [
              0.7777777777777778,
              "#fb9f3a"
             ],
             [
              0.8888888888888888,
              "#fdca26"
             ],
             [
              1,
              "#f0f921"
             ]
            ],
            "type": "heatmap"
           }
          ],
          "heatmapgl": [
           {
            "colorbar": {
             "outlinewidth": 0,
             "ticks": ""
            },
            "colorscale": [
             [
              0,
              "#0d0887"
             ],
             [
              0.1111111111111111,
              "#46039f"
             ],
             [
              0.2222222222222222,
              "#7201a8"
             ],
             [
              0.3333333333333333,
              "#9c179e"
             ],
             [
              0.4444444444444444,
              "#bd3786"
             ],
             [
              0.5555555555555556,
              "#d8576b"
             ],
             [
              0.6666666666666666,
              "#ed7953"
             ],
             [
              0.7777777777777778,
              "#fb9f3a"
             ],
             [
              0.8888888888888888,
              "#fdca26"
             ],
             [
              1,
              "#f0f921"
             ]
            ],
            "type": "heatmapgl"
           }
          ],
          "histogram": [
           {
            "marker": {
             "pattern": {
              "fillmode": "overlay",
              "size": 10,
              "solidity": 0.2
             }
            },
            "type": "histogram"
           }
          ],
          "histogram2d": [
           {
            "colorbar": {
             "outlinewidth": 0,
             "ticks": ""
            },
            "colorscale": [
             [
              0,
              "#0d0887"
             ],
             [
              0.1111111111111111,
              "#46039f"
             ],
             [
              0.2222222222222222,
              "#7201a8"
             ],
             [
              0.3333333333333333,
              "#9c179e"
             ],
             [
              0.4444444444444444,
              "#bd3786"
             ],
             [
              0.5555555555555556,
              "#d8576b"
             ],
             [
              0.6666666666666666,
              "#ed7953"
             ],
             [
              0.7777777777777778,
              "#fb9f3a"
             ],
             [
              0.8888888888888888,
              "#fdca26"
             ],
             [
              1,
              "#f0f921"
             ]
            ],
            "type": "histogram2d"
           }
          ],
          "histogram2dcontour": [
           {
            "colorbar": {
             "outlinewidth": 0,
             "ticks": ""
            },
            "colorscale": [
             [
              0,
              "#0d0887"
             ],
             [
              0.1111111111111111,
              "#46039f"
             ],
             [
              0.2222222222222222,
              "#7201a8"
             ],
             [
              0.3333333333333333,
              "#9c179e"
             ],
             [
              0.4444444444444444,
              "#bd3786"
             ],
             [
              0.5555555555555556,
              "#d8576b"
             ],
             [
              0.6666666666666666,
              "#ed7953"
             ],
             [
              0.7777777777777778,
              "#fb9f3a"
             ],
             [
              0.8888888888888888,
              "#fdca26"
             ],
             [
              1,
              "#f0f921"
             ]
            ],
            "type": "histogram2dcontour"
           }
          ],
          "mesh3d": [
           {
            "colorbar": {
             "outlinewidth": 0,
             "ticks": ""
            },
            "type": "mesh3d"
           }
          ],
          "parcoords": [
           {
            "line": {
             "colorbar": {
              "outlinewidth": 0,
              "ticks": ""
             }
            },
            "type": "parcoords"
           }
          ],
          "pie": [
           {
            "automargin": true,
            "type": "pie"
           }
          ],
          "scatter": [
           {
            "marker": {
             "colorbar": {
              "outlinewidth": 0,
              "ticks": ""
             }
            },
            "type": "scatter"
           }
          ],
          "scatter3d": [
           {
            "line": {
             "colorbar": {
              "outlinewidth": 0,
              "ticks": ""
             }
            },
            "marker": {
             "colorbar": {
              "outlinewidth": 0,
              "ticks": ""
             }
            },
            "type": "scatter3d"
           }
          ],
          "scattercarpet": [
           {
            "marker": {
             "colorbar": {
              "outlinewidth": 0,
              "ticks": ""
             }
            },
            "type": "scattercarpet"
           }
          ],
          "scattergeo": [
           {
            "marker": {
             "colorbar": {
              "outlinewidth": 0,
              "ticks": ""
             }
            },
            "type": "scattergeo"
           }
          ],
          "scattergl": [
           {
            "marker": {
             "colorbar": {
              "outlinewidth": 0,
              "ticks": ""
             }
            },
            "type": "scattergl"
           }
          ],
          "scattermapbox": [
           {
            "marker": {
             "colorbar": {
              "outlinewidth": 0,
              "ticks": ""
             }
            },
            "type": "scattermapbox"
           }
          ],
          "scatterpolar": [
           {
            "marker": {
             "colorbar": {
              "outlinewidth": 0,
              "ticks": ""
             }
            },
            "type": "scatterpolar"
           }
          ],
          "scatterpolargl": [
           {
            "marker": {
             "colorbar": {
              "outlinewidth": 0,
              "ticks": ""
             }
            },
            "type": "scatterpolargl"
           }
          ],
          "scatterternary": [
           {
            "marker": {
             "colorbar": {
              "outlinewidth": 0,
              "ticks": ""
             }
            },
            "type": "scatterternary"
           }
          ],
          "surface": [
           {
            "colorbar": {
             "outlinewidth": 0,
             "ticks": ""
            },
            "colorscale": [
             [
              0,
              "#0d0887"
             ],
             [
              0.1111111111111111,
              "#46039f"
             ],
             [
              0.2222222222222222,
              "#7201a8"
             ],
             [
              0.3333333333333333,
              "#9c179e"
             ],
             [
              0.4444444444444444,
              "#bd3786"
             ],
             [
              0.5555555555555556,
              "#d8576b"
             ],
             [
              0.6666666666666666,
              "#ed7953"
             ],
             [
              0.7777777777777778,
              "#fb9f3a"
             ],
             [
              0.8888888888888888,
              "#fdca26"
             ],
             [
              1,
              "#f0f921"
             ]
            ],
            "type": "surface"
           }
          ],
          "table": [
           {
            "cells": {
             "fill": {
              "color": "#EBF0F8"
             },
             "line": {
              "color": "white"
             }
            },
            "header": {
             "fill": {
              "color": "#C8D4E3"
             },
             "line": {
              "color": "white"
             }
            },
            "type": "table"
           }
          ]
         },
         "layout": {
          "annotationdefaults": {
           "arrowcolor": "#2a3f5f",
           "arrowhead": 0,
           "arrowwidth": 1
          },
          "autotypenumbers": "strict",
          "coloraxis": {
           "colorbar": {
            "outlinewidth": 0,
            "ticks": ""
           }
          },
          "colorscale": {
           "diverging": [
            [
             0,
             "#8e0152"
            ],
            [
             0.1,
             "#c51b7d"
            ],
            [
             0.2,
             "#de77ae"
            ],
            [
             0.3,
             "#f1b6da"
            ],
            [
             0.4,
             "#fde0ef"
            ],
            [
             0.5,
             "#f7f7f7"
            ],
            [
             0.6,
             "#e6f5d0"
            ],
            [
             0.7,
             "#b8e186"
            ],
            [
             0.8,
             "#7fbc41"
            ],
            [
             0.9,
             "#4d9221"
            ],
            [
             1,
             "#276419"
            ]
           ],
           "sequential": [
            [
             0,
             "#0d0887"
            ],
            [
             0.1111111111111111,
             "#46039f"
            ],
            [
             0.2222222222222222,
             "#7201a8"
            ],
            [
             0.3333333333333333,
             "#9c179e"
            ],
            [
             0.4444444444444444,
             "#bd3786"
            ],
            [
             0.5555555555555556,
             "#d8576b"
            ],
            [
             0.6666666666666666,
             "#ed7953"
            ],
            [
             0.7777777777777778,
             "#fb9f3a"
            ],
            [
             0.8888888888888888,
             "#fdca26"
            ],
            [
             1,
             "#f0f921"
            ]
           ],
           "sequentialminus": [
            [
             0,
             "#0d0887"
            ],
            [
             0.1111111111111111,
             "#46039f"
            ],
            [
             0.2222222222222222,
             "#7201a8"
            ],
            [
             0.3333333333333333,
             "#9c179e"
            ],
            [
             0.4444444444444444,
             "#bd3786"
            ],
            [
             0.5555555555555556,
             "#d8576b"
            ],
            [
             0.6666666666666666,
             "#ed7953"
            ],
            [
             0.7777777777777778,
             "#fb9f3a"
            ],
            [
             0.8888888888888888,
             "#fdca26"
            ],
            [
             1,
             "#f0f921"
            ]
           ]
          },
          "colorway": [
           "#636efa",
           "#EF553B",
           "#00cc96",
           "#ab63fa",
           "#FFA15A",
           "#19d3f3",
           "#FF6692",
           "#B6E880",
           "#FF97FF",
           "#FECB52"
          ],
          "font": {
           "color": "#2a3f5f"
          },
          "geo": {
           "bgcolor": "white",
           "lakecolor": "white",
           "landcolor": "#E5ECF6",
           "showlakes": true,
           "showland": true,
           "subunitcolor": "white"
          },
          "hoverlabel": {
           "align": "left"
          },
          "hovermode": "closest",
          "mapbox": {
           "style": "light"
          },
          "paper_bgcolor": "white",
          "plot_bgcolor": "#E5ECF6",
          "polar": {
           "angularaxis": {
            "gridcolor": "white",
            "linecolor": "white",
            "ticks": ""
           },
           "bgcolor": "#E5ECF6",
           "radialaxis": {
            "gridcolor": "white",
            "linecolor": "white",
            "ticks": ""
           }
          },
          "scene": {
           "xaxis": {
            "backgroundcolor": "#E5ECF6",
            "gridcolor": "white",
            "gridwidth": 2,
            "linecolor": "white",
            "showbackground": true,
            "ticks": "",
            "zerolinecolor": "white"
           },
           "yaxis": {
            "backgroundcolor": "#E5ECF6",
            "gridcolor": "white",
            "gridwidth": 2,
            "linecolor": "white",
            "showbackground": true,
            "ticks": "",
            "zerolinecolor": "white"
           },
           "zaxis": {
            "backgroundcolor": "#E5ECF6",
            "gridcolor": "white",
            "gridwidth": 2,
            "linecolor": "white",
            "showbackground": true,
            "ticks": "",
            "zerolinecolor": "white"
           }
          },
          "shapedefaults": {
           "line": {
            "color": "#2a3f5f"
           }
          },
          "ternary": {
           "aaxis": {
            "gridcolor": "white",
            "linecolor": "white",
            "ticks": ""
           },
           "baxis": {
            "gridcolor": "white",
            "linecolor": "white",
            "ticks": ""
           },
           "bgcolor": "#E5ECF6",
           "caxis": {
            "gridcolor": "white",
            "linecolor": "white",
            "ticks": ""
           }
          },
          "title": {
           "x": 0.05
          },
          "xaxis": {
           "automargin": true,
           "gridcolor": "white",
           "linecolor": "white",
           "ticks": "",
           "title": {
            "standoff": 15
           },
           "zerolinecolor": "white",
           "zerolinewidth": 2
          },
          "yaxis": {
           "automargin": true,
           "gridcolor": "white",
           "linecolor": "white",
           "ticks": "",
           "title": {
            "standoff": 15
           },
           "zerolinecolor": "white",
           "zerolinewidth": 2
          }
         }
        },
        "title": {
         "text": "График воронки по шагам"
        }
       }
      },
      "text/html": [
       "<div>                            <div id=\"52a9a8d4-e619-4cdd-a21f-6ad365e33abd\" class=\"plotly-graph-div\" style=\"height:525px; width:100%;\"></div>            <script type=\"text/javascript\">                require([\"plotly\"], function(Plotly) {                    window.PLOTLYENV=window.PLOTLYENV || {};                                    if (document.getElementById(\"52a9a8d4-e619-4cdd-a21f-6ad365e33abd\")) {                    Plotly.newPlot(                        \"52a9a8d4-e619-4cdd-a21f-6ad365e33abd\",                        [{\"textinfo\":\"value+percent initial+percent previous\",\"x\":[7419,4593,3734,3539],\"y\":[\"MainScreenAppear\",\"OffersScreenAppear\",\"CartScreenAppear\",\"PaymentScreenSuccessful\"],\"type\":\"funnel\"}],                        {\"template\":{\"data\":{\"bar\":[{\"error_x\":{\"color\":\"#2a3f5f\"},\"error_y\":{\"color\":\"#2a3f5f\"},\"marker\":{\"line\":{\"color\":\"#E5ECF6\",\"width\":0.5},\"pattern\":{\"fillmode\":\"overlay\",\"size\":10,\"solidity\":0.2}},\"type\":\"bar\"}],\"barpolar\":[{\"marker\":{\"line\":{\"color\":\"#E5ECF6\",\"width\":0.5},\"pattern\":{\"fillmode\":\"overlay\",\"size\":10,\"solidity\":0.2}},\"type\":\"barpolar\"}],\"carpet\":[{\"aaxis\":{\"endlinecolor\":\"#2a3f5f\",\"gridcolor\":\"white\",\"linecolor\":\"white\",\"minorgridcolor\":\"white\",\"startlinecolor\":\"#2a3f5f\"},\"baxis\":{\"endlinecolor\":\"#2a3f5f\",\"gridcolor\":\"white\",\"linecolor\":\"white\",\"minorgridcolor\":\"white\",\"startlinecolor\":\"#2a3f5f\"},\"type\":\"carpet\"}],\"choropleth\":[{\"colorbar\":{\"outlinewidth\":0,\"ticks\":\"\"},\"type\":\"choropleth\"}],\"contour\":[{\"colorbar\":{\"outlinewidth\":0,\"ticks\":\"\"},\"colorscale\":[[0.0,\"#0d0887\"],[0.1111111111111111,\"#46039f\"],[0.2222222222222222,\"#7201a8\"],[0.3333333333333333,\"#9c179e\"],[0.4444444444444444,\"#bd3786\"],[0.5555555555555556,\"#d8576b\"],[0.6666666666666666,\"#ed7953\"],[0.7777777777777778,\"#fb9f3a\"],[0.8888888888888888,\"#fdca26\"],[1.0,\"#f0f921\"]],\"type\":\"contour\"}],\"contourcarpet\":[{\"colorbar\":{\"outlinewidth\":0,\"ticks\":\"\"},\"type\":\"contourcarpet\"}],\"heatmap\":[{\"colorbar\":{\"outlinewidth\":0,\"ticks\":\"\"},\"colorscale\":[[0.0,\"#0d0887\"],[0.1111111111111111,\"#46039f\"],[0.2222222222222222,\"#7201a8\"],[0.3333333333333333,\"#9c179e\"],[0.4444444444444444,\"#bd3786\"],[0.5555555555555556,\"#d8576b\"],[0.6666666666666666,\"#ed7953\"],[0.7777777777777778,\"#fb9f3a\"],[0.8888888888888888,\"#fdca26\"],[1.0,\"#f0f921\"]],\"type\":\"heatmap\"}],\"heatmapgl\":[{\"colorbar\":{\"outlinewidth\":0,\"ticks\":\"\"},\"colorscale\":[[0.0,\"#0d0887\"],[0.1111111111111111,\"#46039f\"],[0.2222222222222222,\"#7201a8\"],[0.3333333333333333,\"#9c179e\"],[0.4444444444444444,\"#bd3786\"],[0.5555555555555556,\"#d8576b\"],[0.6666666666666666,\"#ed7953\"],[0.7777777777777778,\"#fb9f3a\"],[0.8888888888888888,\"#fdca26\"],[1.0,\"#f0f921\"]],\"type\":\"heatmapgl\"}],\"histogram\":[{\"marker\":{\"pattern\":{\"fillmode\":\"overlay\",\"size\":10,\"solidity\":0.2}},\"type\":\"histogram\"}],\"histogram2d\":[{\"colorbar\":{\"outlinewidth\":0,\"ticks\":\"\"},\"colorscale\":[[0.0,\"#0d0887\"],[0.1111111111111111,\"#46039f\"],[0.2222222222222222,\"#7201a8\"],[0.3333333333333333,\"#9c179e\"],[0.4444444444444444,\"#bd3786\"],[0.5555555555555556,\"#d8576b\"],[0.6666666666666666,\"#ed7953\"],[0.7777777777777778,\"#fb9f3a\"],[0.8888888888888888,\"#fdca26\"],[1.0,\"#f0f921\"]],\"type\":\"histogram2d\"}],\"histogram2dcontour\":[{\"colorbar\":{\"outlinewidth\":0,\"ticks\":\"\"},\"colorscale\":[[0.0,\"#0d0887\"],[0.1111111111111111,\"#46039f\"],[0.2222222222222222,\"#7201a8\"],[0.3333333333333333,\"#9c179e\"],[0.4444444444444444,\"#bd3786\"],[0.5555555555555556,\"#d8576b\"],[0.6666666666666666,\"#ed7953\"],[0.7777777777777778,\"#fb9f3a\"],[0.8888888888888888,\"#fdca26\"],[1.0,\"#f0f921\"]],\"type\":\"histogram2dcontour\"}],\"mesh3d\":[{\"colorbar\":{\"outlinewidth\":0,\"ticks\":\"\"},\"type\":\"mesh3d\"}],\"parcoords\":[{\"line\":{\"colorbar\":{\"outlinewidth\":0,\"ticks\":\"\"}},\"type\":\"parcoords\"}],\"pie\":[{\"automargin\":true,\"type\":\"pie\"}],\"scatter\":[{\"marker\":{\"colorbar\":{\"outlinewidth\":0,\"ticks\":\"\"}},\"type\":\"scatter\"}],\"scatter3d\":[{\"line\":{\"colorbar\":{\"outlinewidth\":0,\"ticks\":\"\"}},\"marker\":{\"colorbar\":{\"outlinewidth\":0,\"ticks\":\"\"}},\"type\":\"scatter3d\"}],\"scattercarpet\":[{\"marker\":{\"colorbar\":{\"outlinewidth\":0,\"ticks\":\"\"}},\"type\":\"scattercarpet\"}],\"scattergeo\":[{\"marker\":{\"colorbar\":{\"outlinewidth\":0,\"ticks\":\"\"}},\"type\":\"scattergeo\"}],\"scattergl\":[{\"marker\":{\"colorbar\":{\"outlinewidth\":0,\"ticks\":\"\"}},\"type\":\"scattergl\"}],\"scattermapbox\":[{\"marker\":{\"colorbar\":{\"outlinewidth\":0,\"ticks\":\"\"}},\"type\":\"scattermapbox\"}],\"scatterpolar\":[{\"marker\":{\"colorbar\":{\"outlinewidth\":0,\"ticks\":\"\"}},\"type\":\"scatterpolar\"}],\"scatterpolargl\":[{\"marker\":{\"colorbar\":{\"outlinewidth\":0,\"ticks\":\"\"}},\"type\":\"scatterpolargl\"}],\"scatterternary\":[{\"marker\":{\"colorbar\":{\"outlinewidth\":0,\"ticks\":\"\"}},\"type\":\"scatterternary\"}],\"surface\":[{\"colorbar\":{\"outlinewidth\":0,\"ticks\":\"\"},\"colorscale\":[[0.0,\"#0d0887\"],[0.1111111111111111,\"#46039f\"],[0.2222222222222222,\"#7201a8\"],[0.3333333333333333,\"#9c179e\"],[0.4444444444444444,\"#bd3786\"],[0.5555555555555556,\"#d8576b\"],[0.6666666666666666,\"#ed7953\"],[0.7777777777777778,\"#fb9f3a\"],[0.8888888888888888,\"#fdca26\"],[1.0,\"#f0f921\"]],\"type\":\"surface\"}],\"table\":[{\"cells\":{\"fill\":{\"color\":\"#EBF0F8\"},\"line\":{\"color\":\"white\"}},\"header\":{\"fill\":{\"color\":\"#C8D4E3\"},\"line\":{\"color\":\"white\"}},\"type\":\"table\"}]},\"layout\":{\"annotationdefaults\":{\"arrowcolor\":\"#2a3f5f\",\"arrowhead\":0,\"arrowwidth\":1},\"autotypenumbers\":\"strict\",\"coloraxis\":{\"colorbar\":{\"outlinewidth\":0,\"ticks\":\"\"}},\"colorscale\":{\"diverging\":[[0,\"#8e0152\"],[0.1,\"#c51b7d\"],[0.2,\"#de77ae\"],[0.3,\"#f1b6da\"],[0.4,\"#fde0ef\"],[0.5,\"#f7f7f7\"],[0.6,\"#e6f5d0\"],[0.7,\"#b8e186\"],[0.8,\"#7fbc41\"],[0.9,\"#4d9221\"],[1,\"#276419\"]],\"sequential\":[[0.0,\"#0d0887\"],[0.1111111111111111,\"#46039f\"],[0.2222222222222222,\"#7201a8\"],[0.3333333333333333,\"#9c179e\"],[0.4444444444444444,\"#bd3786\"],[0.5555555555555556,\"#d8576b\"],[0.6666666666666666,\"#ed7953\"],[0.7777777777777778,\"#fb9f3a\"],[0.8888888888888888,\"#fdca26\"],[1.0,\"#f0f921\"]],\"sequentialminus\":[[0.0,\"#0d0887\"],[0.1111111111111111,\"#46039f\"],[0.2222222222222222,\"#7201a8\"],[0.3333333333333333,\"#9c179e\"],[0.4444444444444444,\"#bd3786\"],[0.5555555555555556,\"#d8576b\"],[0.6666666666666666,\"#ed7953\"],[0.7777777777777778,\"#fb9f3a\"],[0.8888888888888888,\"#fdca26\"],[1.0,\"#f0f921\"]]},\"colorway\":[\"#636efa\",\"#EF553B\",\"#00cc96\",\"#ab63fa\",\"#FFA15A\",\"#19d3f3\",\"#FF6692\",\"#B6E880\",\"#FF97FF\",\"#FECB52\"],\"font\":{\"color\":\"#2a3f5f\"},\"geo\":{\"bgcolor\":\"white\",\"lakecolor\":\"white\",\"landcolor\":\"#E5ECF6\",\"showlakes\":true,\"showland\":true,\"subunitcolor\":\"white\"},\"hoverlabel\":{\"align\":\"left\"},\"hovermode\":\"closest\",\"mapbox\":{\"style\":\"light\"},\"paper_bgcolor\":\"white\",\"plot_bgcolor\":\"#E5ECF6\",\"polar\":{\"angularaxis\":{\"gridcolor\":\"white\",\"linecolor\":\"white\",\"ticks\":\"\"},\"bgcolor\":\"#E5ECF6\",\"radialaxis\":{\"gridcolor\":\"white\",\"linecolor\":\"white\",\"ticks\":\"\"}},\"scene\":{\"xaxis\":{\"backgroundcolor\":\"#E5ECF6\",\"gridcolor\":\"white\",\"gridwidth\":2,\"linecolor\":\"white\",\"showbackground\":true,\"ticks\":\"\",\"zerolinecolor\":\"white\"},\"yaxis\":{\"backgroundcolor\":\"#E5ECF6\",\"gridcolor\":\"white\",\"gridwidth\":2,\"linecolor\":\"white\",\"showbackground\":true,\"ticks\":\"\",\"zerolinecolor\":\"white\"},\"zaxis\":{\"backgroundcolor\":\"#E5ECF6\",\"gridcolor\":\"white\",\"gridwidth\":2,\"linecolor\":\"white\",\"showbackground\":true,\"ticks\":\"\",\"zerolinecolor\":\"white\"}},\"shapedefaults\":{\"line\":{\"color\":\"#2a3f5f\"}},\"ternary\":{\"aaxis\":{\"gridcolor\":\"white\",\"linecolor\":\"white\",\"ticks\":\"\"},\"baxis\":{\"gridcolor\":\"white\",\"linecolor\":\"white\",\"ticks\":\"\"},\"bgcolor\":\"#E5ECF6\",\"caxis\":{\"gridcolor\":\"white\",\"linecolor\":\"white\",\"ticks\":\"\"}},\"title\":{\"x\":0.05},\"xaxis\":{\"automargin\":true,\"gridcolor\":\"white\",\"linecolor\":\"white\",\"ticks\":\"\",\"title\":{\"standoff\":15},\"zerolinecolor\":\"white\",\"zerolinewidth\":2},\"yaxis\":{\"automargin\":true,\"gridcolor\":\"white\",\"linecolor\":\"white\",\"ticks\":\"\",\"title\":{\"standoff\":15},\"zerolinecolor\":\"white\",\"zerolinewidth\":2}}},\"title\":{\"text\":\"\\u0413\\u0440\\u0430\\u0444\\u0438\\u043a \\u0432\\u043e\\u0440\\u043e\\u043d\\u043a\\u0438 \\u043f\\u043e \\u0448\\u0430\\u0433\\u0430\\u043c\"}},                        {\"responsive\": true}                    ).then(function(){\n",
       "                            \n",
       "var gd = document.getElementById('52a9a8d4-e619-4cdd-a21f-6ad365e33abd');\n",
       "var x = new MutationObserver(function (mutations, observer) {{\n",
       "        var display = window.getComputedStyle(gd).display;\n",
       "        if (!display || display === 'none') {{\n",
       "            console.log([gd, 'removed!']);\n",
       "            Plotly.purge(gd);\n",
       "            observer.disconnect();\n",
       "        }}\n",
       "}});\n",
       "\n",
       "// Listen for the removal of the full notebook cells\n",
       "var notebookContainer = gd.closest('#notebook-container');\n",
       "if (notebookContainer) {{\n",
       "    x.observe(notebookContainer, {childList: true});\n",
       "}}\n",
       "\n",
       "// Listen for the clearing of the current output cell\n",
       "var outputEl = gd.closest('.output');\n",
       "if (outputEl) {{\n",
       "    x.observe(outputEl, {childList: true});\n",
       "}}\n",
       "\n",
       "                        })                };                });            </script>        </div>"
      ]
     },
     "metadata": {},
     "output_type": "display_data"
    }
   ],
   "source": [
    "fig = go.Figure()  #построим график воронки по шагам\n",
    "fig = go.Figure(go.Funnel(\n",
    "    y = funnel['event'],\n",
    "    x = funnel['total_users'],\n",
    "    textinfo = \"value+percent initial+percent previous\"))\n",
    "fig.update_layout(title='График воронки по шагам') "
   ]
  },
  {
   "cell_type": "markdown",
   "metadata": {},
   "source": [
    "Из 7419 пользователей в наших данных до следующего шага доходят 4593 пользователя, что составляет 62% от общего числа. До следующего шага доходят 3754 пользователя, что составляет от первого шага 50% и 81% от второго шага. До последнего шага доходят 3539, что составляет 48% от первого шага и 95% от третьего шага. Показатели хорошие, учитывая, что на втором шаге у нас отваливаются 38% пользователей. Получается, что на втором шаге теряется больше всего пользователей - 38%."
   ]
  },
  {
   "cell_type": "markdown",
   "metadata": {},
   "source": [
    "<div class=\"alert alert-success\">\n",
    "\n",
    "**✔️ Комментарий ревьюера ✔️** \n",
    "   \n",
    "   Очень хорошо - проблема обнаружена - провал на первом шаге: от `MainScreenAppear` к `OffersScreenAppear`. Вероятно, нужно лучше прорабатывать механику, чтобы пользователи переходили к `OffersScreen`.\n",
    "    \n",
    "`Tutorial`, действительно, можно просто пропустить.\n",
    "</div>\n"
   ]
  },
  {
   "cell_type": "markdown",
   "metadata": {},
   "source": [
    "<div class=\"alert alert-warning\">\n",
    "\n",
    "**⚠️ Комментарий ревьюера ⚠️**\n",
    "   \n",
    "   Не забывай добавлять графикам заголовки\n",
    "\n",
    "</div>\n",
    "\n",
    "\n"
   ]
  },
  {
   "cell_type": "markdown",
   "metadata": {},
   "source": [
    "<div class=\"alert alert-block alert-info\">\n",
    "  \n",
    "<b>Комментарий cтудента</b>\n",
    " \n",
    "Добавил заголовок."
   ]
  },
  {
   "cell_type": "markdown",
   "metadata": {},
   "source": [
    "### Изучим результаты эксперимента"
   ]
  },
  {
   "cell_type": "code",
   "execution_count": 157,
   "metadata": {},
   "outputs": [
    {
     "data": {
      "text/plain": [
       "group\n",
       "A      2483\n",
       "A1     2512\n",
       "B      2535\n",
       "AA1    4995\n",
       "Name: user_id, dtype: int64"
      ]
     },
     "execution_count": 157,
     "metadata": {},
     "output_type": "execute_result"
    }
   ],
   "source": [
    "logs_new = logs_new.query('event != \"Tutorial\"') #посмотрим сколько пользователей в каждой группе\n",
    "users_group = logs_new.groupby('group')['user_id'].nunique()\n",
    "users_group['AA1'] = users_group['A'] + users_group['A1']\n",
    "users_group"
   ]
  },
  {
   "cell_type": "code",
   "execution_count": 158,
   "metadata": {},
   "outputs": [
    {
     "data": {
      "text/plain": [
       "0"
      ]
     },
     "execution_count": 158,
     "metadata": {},
     "output_type": "execute_result"
    }
   ],
   "source": [
    "len(logs_new.groupby('user_id')['group'].nunique().reset_index().query('group > 1')) #посмотрим пересекаются ли пользователи между друг другом в группах"
   ]
  },
  {
   "cell_type": "markdown",
   "metadata": {},
   "source": [
    "<div class=\"alert alert-danger\">\n",
    "\n",
    "**❌ Комментарий ревьюера ❌**\n",
    "   \n",
    "   Также стоит проверить, чтобы пользователи не пересекались между собой в группах\n",
    "\n",
    "</div>\n"
   ]
  },
  {
   "cell_type": "markdown",
   "metadata": {},
   "source": [
    "Проверим сколько пользователей в каждой из экспериментальной групп. Также посмотрим, пересекаются ли пользователи между собой в группах. Данные выглядят сопостовимо с друг другом, пользователи не пересекаются. "
   ]
  },
  {
   "cell_type": "markdown",
   "metadata": {},
   "source": [
    "<div class=\"alert alert-block alert-info\">\n",
    "  \n",
    "<b>Комментарий cтудента</b>\n",
    " \n",
    "Зачемание учтел, добавил код, который проверит есть ли пользователи, которые пересекаются между собой в группах."
   ]
  },
  {
   "cell_type": "code",
   "execution_count": 159,
   "metadata": {},
   "outputs": [
    {
     "name": "stdout",
     "output_type": "stream",
     "text": [
      "Количество пользователей в группах A-A1 различается на 1.15 %\n",
      "Количество пользователей в группах A-B различается на 2.05 %\n",
      "Количество пользователей в группах A1-B различается на 0.91 %\n"
     ]
    }
   ],
   "source": [
    "users_A = (logs_new[logs_new['group'] == 'A']['user_id']).nunique() #посмотрим статистические критерии разниц между выборками A и A1\n",
    "users_A1 = (logs_new[logs_new['group'] == 'A1']['user_id']).nunique()\n",
    "users_B = (logs_new[logs_new['group'] == 'B']['user_id']).nunique()\n",
    "print('Количество пользователей в группах A-A1 различается на', round(100 - (users_A / users_A1 * 100), 2), '%')\n",
    "print('Количество пользователей в группах A-B различается на', round(100 - (users_A / users_B * 100), 2), '%')\n",
    "print('Количество пользователей в группах A1-B различается на', round(100 - (users_A1 / users_B * 100), 2), '%')"
   ]
  },
  {
   "cell_type": "markdown",
   "metadata": {},
   "source": [
    "Посмотрим разницу между выборками 246(A) и 247(A1). Группы отличаются по количеству более, чем на 1%. Далее мы посмотрим на сколько эти различия статистически значимы."
   ]
  },
  {
   "cell_type": "code",
   "execution_count": 160,
   "metadata": {},
   "outputs": [
    {
     "data": {
      "text/html": [
       "<div>\n",
       "<style scoped>\n",
       "    .dataframe tbody tr th:only-of-type {\n",
       "        vertical-align: middle;\n",
       "    }\n",
       "\n",
       "    .dataframe tbody tr th {\n",
       "        vertical-align: top;\n",
       "    }\n",
       "\n",
       "    .dataframe thead th {\n",
       "        text-align: right;\n",
       "    }\n",
       "</style>\n",
       "<table border=\"1\" class=\"dataframe\">\n",
       "  <thead>\n",
       "    <tr style=\"text-align: right;\">\n",
       "      <th>group</th>\n",
       "      <th>event</th>\n",
       "      <th>A</th>\n",
       "      <th>A1</th>\n",
       "      <th>B</th>\n",
       "      <th>AA1</th>\n",
       "      <th>share_A</th>\n",
       "      <th>share_A1</th>\n",
       "      <th>share_B</th>\n",
       "      <th>share_AA1</th>\n",
       "    </tr>\n",
       "  </thead>\n",
       "  <tbody>\n",
       "    <tr>\n",
       "      <th>0</th>\n",
       "      <td>MainScreenAppear</td>\n",
       "      <td>2450</td>\n",
       "      <td>2476</td>\n",
       "      <td>2493</td>\n",
       "      <td>4926</td>\n",
       "      <td>98.70</td>\n",
       "      <td>98.60</td>\n",
       "      <td>98.30</td>\n",
       "      <td>98.60</td>\n",
       "    </tr>\n",
       "    <tr>\n",
       "      <th>1</th>\n",
       "      <td>OffersScreenAppear</td>\n",
       "      <td>1542</td>\n",
       "      <td>1520</td>\n",
       "      <td>1531</td>\n",
       "      <td>3062</td>\n",
       "      <td>62.10</td>\n",
       "      <td>60.50</td>\n",
       "      <td>60.40</td>\n",
       "      <td>61.30</td>\n",
       "    </tr>\n",
       "    <tr>\n",
       "      <th>2</th>\n",
       "      <td>CartScreenAppear</td>\n",
       "      <td>1266</td>\n",
       "      <td>1238</td>\n",
       "      <td>1230</td>\n",
       "      <td>2504</td>\n",
       "      <td>51.00</td>\n",
       "      <td>49.30</td>\n",
       "      <td>48.50</td>\n",
       "      <td>50.10</td>\n",
       "    </tr>\n",
       "    <tr>\n",
       "      <th>3</th>\n",
       "      <td>PaymentScreenSuccessful</td>\n",
       "      <td>1200</td>\n",
       "      <td>1158</td>\n",
       "      <td>1181</td>\n",
       "      <td>2358</td>\n",
       "      <td>48.30</td>\n",
       "      <td>46.10</td>\n",
       "      <td>46.60</td>\n",
       "      <td>47.20</td>\n",
       "    </tr>\n",
       "  </tbody>\n",
       "</table>\n",
       "</div>"
      ],
      "text/plain": [
       "group                    event     A    A1     B   AA1  share_A  share_A1  \\\n",
       "0             MainScreenAppear  2450  2476  2493  4926    98.70     98.60   \n",
       "1           OffersScreenAppear  1542  1520  1531  3062    62.10     60.50   \n",
       "2             CartScreenAppear  1266  1238  1230  2504    51.00     49.30   \n",
       "3      PaymentScreenSuccessful  1200  1158  1181  2358    48.30     46.10   \n",
       "\n",
       "group  share_B  share_AA1  \n",
       "0        98.30      98.60  \n",
       "1        60.40      61.30  \n",
       "2        48.50      50.10  \n",
       "3        46.60      47.20  "
      ]
     },
     "execution_count": 160,
     "metadata": {},
     "output_type": "execute_result"
    }
   ],
   "source": [
    "df_test = logs_new.pivot_table( #создадим отдельную таблицу с нашими группами и выберем самое популярное событие\n",
    "    index='event', \n",
    "    columns='group', \n",
    "    values='user_id',\n",
    "    aggfunc='nunique').sort_values(by='A', ascending=False).reset_index()\n",
    "\n",
    "df_test['AA1'] = df_test['A1'] + df_test['A']\n",
    "\n",
    "df_test['share_A'] = (df_test['A'] / users_group['A'] * 100).round(1)\n",
    "df_test['share_A1'] = (df_test['A1'] / users_group['A1'] * 100).round(1)\n",
    "df_test['share_B'] = (df_test['B'] / users_group['B'] * 100).round(1)\n",
    "df_test['share_AA1'] = ((df_test['A'] + df_test['A1']) / (users_group['A'] + users_group['A1']) * 100).round(1)\n",
    "\n",
    "df_test"
   ]
  },
  {
   "cell_type": "code",
   "execution_count": 161,
   "metadata": {},
   "outputs": [
    {
     "data": {
      "application/vnd.plotly.v1+json": {
       "config": {
        "plotlyServerURL": "https://plot.ly"
       },
       "data": [
        {
         "name": "A",
         "textinfo": "value+percent initial+percent previous",
         "type": "funnel",
         "x": [
          2450,
          1542,
          1266,
          1200
         ],
         "y": [
          "MainScreenAppear",
          "OffersScreenAppear",
          "CartScreenAppear",
          "PaymentScreenSuccessful"
         ]
        },
        {
         "name": "A1",
         "textinfo": "value+percent initial+percent previous",
         "type": "funnel",
         "x": [
          2476,
          1520,
          1238,
          1158
         ],
         "y": [
          "MainScreenAppear",
          "OffersScreenAppear",
          "CartScreenAppear",
          "PaymentScreenSuccessful"
         ]
        },
        {
         "name": "B",
         "textinfo": "value+percent initial+percent previous",
         "type": "funnel",
         "x": [
          2493,
          1531,
          1230,
          1181
         ],
         "y": [
          "MainScreenAppear",
          "OffersScreenAppear",
          "CartScreenAppear",
          "PaymentScreenSuccessful"
         ]
        }
       ],
       "layout": {
        "template": {
         "data": {
          "bar": [
           {
            "error_x": {
             "color": "#2a3f5f"
            },
            "error_y": {
             "color": "#2a3f5f"
            },
            "marker": {
             "line": {
              "color": "#E5ECF6",
              "width": 0.5
             },
             "pattern": {
              "fillmode": "overlay",
              "size": 10,
              "solidity": 0.2
             }
            },
            "type": "bar"
           }
          ],
          "barpolar": [
           {
            "marker": {
             "line": {
              "color": "#E5ECF6",
              "width": 0.5
             },
             "pattern": {
              "fillmode": "overlay",
              "size": 10,
              "solidity": 0.2
             }
            },
            "type": "barpolar"
           }
          ],
          "carpet": [
           {
            "aaxis": {
             "endlinecolor": "#2a3f5f",
             "gridcolor": "white",
             "linecolor": "white",
             "minorgridcolor": "white",
             "startlinecolor": "#2a3f5f"
            },
            "baxis": {
             "endlinecolor": "#2a3f5f",
             "gridcolor": "white",
             "linecolor": "white",
             "minorgridcolor": "white",
             "startlinecolor": "#2a3f5f"
            },
            "type": "carpet"
           }
          ],
          "choropleth": [
           {
            "colorbar": {
             "outlinewidth": 0,
             "ticks": ""
            },
            "type": "choropleth"
           }
          ],
          "contour": [
           {
            "colorbar": {
             "outlinewidth": 0,
             "ticks": ""
            },
            "colorscale": [
             [
              0,
              "#0d0887"
             ],
             [
              0.1111111111111111,
              "#46039f"
             ],
             [
              0.2222222222222222,
              "#7201a8"
             ],
             [
              0.3333333333333333,
              "#9c179e"
             ],
             [
              0.4444444444444444,
              "#bd3786"
             ],
             [
              0.5555555555555556,
              "#d8576b"
             ],
             [
              0.6666666666666666,
              "#ed7953"
             ],
             [
              0.7777777777777778,
              "#fb9f3a"
             ],
             [
              0.8888888888888888,
              "#fdca26"
             ],
             [
              1,
              "#f0f921"
             ]
            ],
            "type": "contour"
           }
          ],
          "contourcarpet": [
           {
            "colorbar": {
             "outlinewidth": 0,
             "ticks": ""
            },
            "type": "contourcarpet"
           }
          ],
          "heatmap": [
           {
            "colorbar": {
             "outlinewidth": 0,
             "ticks": ""
            },
            "colorscale": [
             [
              0,
              "#0d0887"
             ],
             [
              0.1111111111111111,
              "#46039f"
             ],
             [
              0.2222222222222222,
              "#7201a8"
             ],
             [
              0.3333333333333333,
              "#9c179e"
             ],
             [
              0.4444444444444444,
              "#bd3786"
             ],
             [
              0.5555555555555556,
              "#d8576b"
             ],
             [
              0.6666666666666666,
              "#ed7953"
             ],
             [
              0.7777777777777778,
              "#fb9f3a"
             ],
             [
              0.8888888888888888,
              "#fdca26"
             ],
             [
              1,
              "#f0f921"
             ]
            ],
            "type": "heatmap"
           }
          ],
          "heatmapgl": [
           {
            "colorbar": {
             "outlinewidth": 0,
             "ticks": ""
            },
            "colorscale": [
             [
              0,
              "#0d0887"
             ],
             [
              0.1111111111111111,
              "#46039f"
             ],
             [
              0.2222222222222222,
              "#7201a8"
             ],
             [
              0.3333333333333333,
              "#9c179e"
             ],
             [
              0.4444444444444444,
              "#bd3786"
             ],
             [
              0.5555555555555556,
              "#d8576b"
             ],
             [
              0.6666666666666666,
              "#ed7953"
             ],
             [
              0.7777777777777778,
              "#fb9f3a"
             ],
             [
              0.8888888888888888,
              "#fdca26"
             ],
             [
              1,
              "#f0f921"
             ]
            ],
            "type": "heatmapgl"
           }
          ],
          "histogram": [
           {
            "marker": {
             "pattern": {
              "fillmode": "overlay",
              "size": 10,
              "solidity": 0.2
             }
            },
            "type": "histogram"
           }
          ],
          "histogram2d": [
           {
            "colorbar": {
             "outlinewidth": 0,
             "ticks": ""
            },
            "colorscale": [
             [
              0,
              "#0d0887"
             ],
             [
              0.1111111111111111,
              "#46039f"
             ],
             [
              0.2222222222222222,
              "#7201a8"
             ],
             [
              0.3333333333333333,
              "#9c179e"
             ],
             [
              0.4444444444444444,
              "#bd3786"
             ],
             [
              0.5555555555555556,
              "#d8576b"
             ],
             [
              0.6666666666666666,
              "#ed7953"
             ],
             [
              0.7777777777777778,
              "#fb9f3a"
             ],
             [
              0.8888888888888888,
              "#fdca26"
             ],
             [
              1,
              "#f0f921"
             ]
            ],
            "type": "histogram2d"
           }
          ],
          "histogram2dcontour": [
           {
            "colorbar": {
             "outlinewidth": 0,
             "ticks": ""
            },
            "colorscale": [
             [
              0,
              "#0d0887"
             ],
             [
              0.1111111111111111,
              "#46039f"
             ],
             [
              0.2222222222222222,
              "#7201a8"
             ],
             [
              0.3333333333333333,
              "#9c179e"
             ],
             [
              0.4444444444444444,
              "#bd3786"
             ],
             [
              0.5555555555555556,
              "#d8576b"
             ],
             [
              0.6666666666666666,
              "#ed7953"
             ],
             [
              0.7777777777777778,
              "#fb9f3a"
             ],
             [
              0.8888888888888888,
              "#fdca26"
             ],
             [
              1,
              "#f0f921"
             ]
            ],
            "type": "histogram2dcontour"
           }
          ],
          "mesh3d": [
           {
            "colorbar": {
             "outlinewidth": 0,
             "ticks": ""
            },
            "type": "mesh3d"
           }
          ],
          "parcoords": [
           {
            "line": {
             "colorbar": {
              "outlinewidth": 0,
              "ticks": ""
             }
            },
            "type": "parcoords"
           }
          ],
          "pie": [
           {
            "automargin": true,
            "type": "pie"
           }
          ],
          "scatter": [
           {
            "marker": {
             "colorbar": {
              "outlinewidth": 0,
              "ticks": ""
             }
            },
            "type": "scatter"
           }
          ],
          "scatter3d": [
           {
            "line": {
             "colorbar": {
              "outlinewidth": 0,
              "ticks": ""
             }
            },
            "marker": {
             "colorbar": {
              "outlinewidth": 0,
              "ticks": ""
             }
            },
            "type": "scatter3d"
           }
          ],
          "scattercarpet": [
           {
            "marker": {
             "colorbar": {
              "outlinewidth": 0,
              "ticks": ""
             }
            },
            "type": "scattercarpet"
           }
          ],
          "scattergeo": [
           {
            "marker": {
             "colorbar": {
              "outlinewidth": 0,
              "ticks": ""
             }
            },
            "type": "scattergeo"
           }
          ],
          "scattergl": [
           {
            "marker": {
             "colorbar": {
              "outlinewidth": 0,
              "ticks": ""
             }
            },
            "type": "scattergl"
           }
          ],
          "scattermapbox": [
           {
            "marker": {
             "colorbar": {
              "outlinewidth": 0,
              "ticks": ""
             }
            },
            "type": "scattermapbox"
           }
          ],
          "scatterpolar": [
           {
            "marker": {
             "colorbar": {
              "outlinewidth": 0,
              "ticks": ""
             }
            },
            "type": "scatterpolar"
           }
          ],
          "scatterpolargl": [
           {
            "marker": {
             "colorbar": {
              "outlinewidth": 0,
              "ticks": ""
             }
            },
            "type": "scatterpolargl"
           }
          ],
          "scatterternary": [
           {
            "marker": {
             "colorbar": {
              "outlinewidth": 0,
              "ticks": ""
             }
            },
            "type": "scatterternary"
           }
          ],
          "surface": [
           {
            "colorbar": {
             "outlinewidth": 0,
             "ticks": ""
            },
            "colorscale": [
             [
              0,
              "#0d0887"
             ],
             [
              0.1111111111111111,
              "#46039f"
             ],
             [
              0.2222222222222222,
              "#7201a8"
             ],
             [
              0.3333333333333333,
              "#9c179e"
             ],
             [
              0.4444444444444444,
              "#bd3786"
             ],
             [
              0.5555555555555556,
              "#d8576b"
             ],
             [
              0.6666666666666666,
              "#ed7953"
             ],
             [
              0.7777777777777778,
              "#fb9f3a"
             ],
             [
              0.8888888888888888,
              "#fdca26"
             ],
             [
              1,
              "#f0f921"
             ]
            ],
            "type": "surface"
           }
          ],
          "table": [
           {
            "cells": {
             "fill": {
              "color": "#EBF0F8"
             },
             "line": {
              "color": "white"
             }
            },
            "header": {
             "fill": {
              "color": "#C8D4E3"
             },
             "line": {
              "color": "white"
             }
            },
            "type": "table"
           }
          ]
         },
         "layout": {
          "annotationdefaults": {
           "arrowcolor": "#2a3f5f",
           "arrowhead": 0,
           "arrowwidth": 1
          },
          "autotypenumbers": "strict",
          "coloraxis": {
           "colorbar": {
            "outlinewidth": 0,
            "ticks": ""
           }
          },
          "colorscale": {
           "diverging": [
            [
             0,
             "#8e0152"
            ],
            [
             0.1,
             "#c51b7d"
            ],
            [
             0.2,
             "#de77ae"
            ],
            [
             0.3,
             "#f1b6da"
            ],
            [
             0.4,
             "#fde0ef"
            ],
            [
             0.5,
             "#f7f7f7"
            ],
            [
             0.6,
             "#e6f5d0"
            ],
            [
             0.7,
             "#b8e186"
            ],
            [
             0.8,
             "#7fbc41"
            ],
            [
             0.9,
             "#4d9221"
            ],
            [
             1,
             "#276419"
            ]
           ],
           "sequential": [
            [
             0,
             "#0d0887"
            ],
            [
             0.1111111111111111,
             "#46039f"
            ],
            [
             0.2222222222222222,
             "#7201a8"
            ],
            [
             0.3333333333333333,
             "#9c179e"
            ],
            [
             0.4444444444444444,
             "#bd3786"
            ],
            [
             0.5555555555555556,
             "#d8576b"
            ],
            [
             0.6666666666666666,
             "#ed7953"
            ],
            [
             0.7777777777777778,
             "#fb9f3a"
            ],
            [
             0.8888888888888888,
             "#fdca26"
            ],
            [
             1,
             "#f0f921"
            ]
           ],
           "sequentialminus": [
            [
             0,
             "#0d0887"
            ],
            [
             0.1111111111111111,
             "#46039f"
            ],
            [
             0.2222222222222222,
             "#7201a8"
            ],
            [
             0.3333333333333333,
             "#9c179e"
            ],
            [
             0.4444444444444444,
             "#bd3786"
            ],
            [
             0.5555555555555556,
             "#d8576b"
            ],
            [
             0.6666666666666666,
             "#ed7953"
            ],
            [
             0.7777777777777778,
             "#fb9f3a"
            ],
            [
             0.8888888888888888,
             "#fdca26"
            ],
            [
             1,
             "#f0f921"
            ]
           ]
          },
          "colorway": [
           "#636efa",
           "#EF553B",
           "#00cc96",
           "#ab63fa",
           "#FFA15A",
           "#19d3f3",
           "#FF6692",
           "#B6E880",
           "#FF97FF",
           "#FECB52"
          ],
          "font": {
           "color": "#2a3f5f"
          },
          "geo": {
           "bgcolor": "white",
           "lakecolor": "white",
           "landcolor": "#E5ECF6",
           "showlakes": true,
           "showland": true,
           "subunitcolor": "white"
          },
          "hoverlabel": {
           "align": "left"
          },
          "hovermode": "closest",
          "mapbox": {
           "style": "light"
          },
          "paper_bgcolor": "white",
          "plot_bgcolor": "#E5ECF6",
          "polar": {
           "angularaxis": {
            "gridcolor": "white",
            "linecolor": "white",
            "ticks": ""
           },
           "bgcolor": "#E5ECF6",
           "radialaxis": {
            "gridcolor": "white",
            "linecolor": "white",
            "ticks": ""
           }
          },
          "scene": {
           "xaxis": {
            "backgroundcolor": "#E5ECF6",
            "gridcolor": "white",
            "gridwidth": 2,
            "linecolor": "white",
            "showbackground": true,
            "ticks": "",
            "zerolinecolor": "white"
           },
           "yaxis": {
            "backgroundcolor": "#E5ECF6",
            "gridcolor": "white",
            "gridwidth": 2,
            "linecolor": "white",
            "showbackground": true,
            "ticks": "",
            "zerolinecolor": "white"
           },
           "zaxis": {
            "backgroundcolor": "#E5ECF6",
            "gridcolor": "white",
            "gridwidth": 2,
            "linecolor": "white",
            "showbackground": true,
            "ticks": "",
            "zerolinecolor": "white"
           }
          },
          "shapedefaults": {
           "line": {
            "color": "#2a3f5f"
           }
          },
          "ternary": {
           "aaxis": {
            "gridcolor": "white",
            "linecolor": "white",
            "ticks": ""
           },
           "baxis": {
            "gridcolor": "white",
            "linecolor": "white",
            "ticks": ""
           },
           "bgcolor": "#E5ECF6",
           "caxis": {
            "gridcolor": "white",
            "linecolor": "white",
            "ticks": ""
           }
          },
          "title": {
           "x": 0.05
          },
          "xaxis": {
           "automargin": true,
           "gridcolor": "white",
           "linecolor": "white",
           "ticks": "",
           "title": {
            "standoff": 15
           },
           "zerolinecolor": "white",
           "zerolinewidth": 2
          },
          "yaxis": {
           "automargin": true,
           "gridcolor": "white",
           "linecolor": "white",
           "ticks": "",
           "title": {
            "standoff": 15
           },
           "zerolinecolor": "white",
           "zerolinewidth": 2
          }
         }
        },
        "title": {
         "text": "График событий между группами"
        }
       }
      },
      "text/html": [
       "<div>                            <div id=\"422cec84-3eab-40e3-b1a2-a87907cc6078\" class=\"plotly-graph-div\" style=\"height:525px; width:100%;\"></div>            <script type=\"text/javascript\">                require([\"plotly\"], function(Plotly) {                    window.PLOTLYENV=window.PLOTLYENV || {};                                    if (document.getElementById(\"422cec84-3eab-40e3-b1a2-a87907cc6078\")) {                    Plotly.newPlot(                        \"422cec84-3eab-40e3-b1a2-a87907cc6078\",                        [{\"name\":\"A\",\"textinfo\":\"value+percent initial+percent previous\",\"x\":[2450,1542,1266,1200],\"y\":[\"MainScreenAppear\",\"OffersScreenAppear\",\"CartScreenAppear\",\"PaymentScreenSuccessful\"],\"type\":\"funnel\"},{\"name\":\"A1\",\"textinfo\":\"value+percent initial+percent previous\",\"x\":[2476,1520,1238,1158],\"y\":[\"MainScreenAppear\",\"OffersScreenAppear\",\"CartScreenAppear\",\"PaymentScreenSuccessful\"],\"type\":\"funnel\"},{\"name\":\"B\",\"textinfo\":\"value+percent initial+percent previous\",\"x\":[2493,1531,1230,1181],\"y\":[\"MainScreenAppear\",\"OffersScreenAppear\",\"CartScreenAppear\",\"PaymentScreenSuccessful\"],\"type\":\"funnel\"}],                        {\"template\":{\"data\":{\"bar\":[{\"error_x\":{\"color\":\"#2a3f5f\"},\"error_y\":{\"color\":\"#2a3f5f\"},\"marker\":{\"line\":{\"color\":\"#E5ECF6\",\"width\":0.5},\"pattern\":{\"fillmode\":\"overlay\",\"size\":10,\"solidity\":0.2}},\"type\":\"bar\"}],\"barpolar\":[{\"marker\":{\"line\":{\"color\":\"#E5ECF6\",\"width\":0.5},\"pattern\":{\"fillmode\":\"overlay\",\"size\":10,\"solidity\":0.2}},\"type\":\"barpolar\"}],\"carpet\":[{\"aaxis\":{\"endlinecolor\":\"#2a3f5f\",\"gridcolor\":\"white\",\"linecolor\":\"white\",\"minorgridcolor\":\"white\",\"startlinecolor\":\"#2a3f5f\"},\"baxis\":{\"endlinecolor\":\"#2a3f5f\",\"gridcolor\":\"white\",\"linecolor\":\"white\",\"minorgridcolor\":\"white\",\"startlinecolor\":\"#2a3f5f\"},\"type\":\"carpet\"}],\"choropleth\":[{\"colorbar\":{\"outlinewidth\":0,\"ticks\":\"\"},\"type\":\"choropleth\"}],\"contour\":[{\"colorbar\":{\"outlinewidth\":0,\"ticks\":\"\"},\"colorscale\":[[0.0,\"#0d0887\"],[0.1111111111111111,\"#46039f\"],[0.2222222222222222,\"#7201a8\"],[0.3333333333333333,\"#9c179e\"],[0.4444444444444444,\"#bd3786\"],[0.5555555555555556,\"#d8576b\"],[0.6666666666666666,\"#ed7953\"],[0.7777777777777778,\"#fb9f3a\"],[0.8888888888888888,\"#fdca26\"],[1.0,\"#f0f921\"]],\"type\":\"contour\"}],\"contourcarpet\":[{\"colorbar\":{\"outlinewidth\":0,\"ticks\":\"\"},\"type\":\"contourcarpet\"}],\"heatmap\":[{\"colorbar\":{\"outlinewidth\":0,\"ticks\":\"\"},\"colorscale\":[[0.0,\"#0d0887\"],[0.1111111111111111,\"#46039f\"],[0.2222222222222222,\"#7201a8\"],[0.3333333333333333,\"#9c179e\"],[0.4444444444444444,\"#bd3786\"],[0.5555555555555556,\"#d8576b\"],[0.6666666666666666,\"#ed7953\"],[0.7777777777777778,\"#fb9f3a\"],[0.8888888888888888,\"#fdca26\"],[1.0,\"#f0f921\"]],\"type\":\"heatmap\"}],\"heatmapgl\":[{\"colorbar\":{\"outlinewidth\":0,\"ticks\":\"\"},\"colorscale\":[[0.0,\"#0d0887\"],[0.1111111111111111,\"#46039f\"],[0.2222222222222222,\"#7201a8\"],[0.3333333333333333,\"#9c179e\"],[0.4444444444444444,\"#bd3786\"],[0.5555555555555556,\"#d8576b\"],[0.6666666666666666,\"#ed7953\"],[0.7777777777777778,\"#fb9f3a\"],[0.8888888888888888,\"#fdca26\"],[1.0,\"#f0f921\"]],\"type\":\"heatmapgl\"}],\"histogram\":[{\"marker\":{\"pattern\":{\"fillmode\":\"overlay\",\"size\":10,\"solidity\":0.2}},\"type\":\"histogram\"}],\"histogram2d\":[{\"colorbar\":{\"outlinewidth\":0,\"ticks\":\"\"},\"colorscale\":[[0.0,\"#0d0887\"],[0.1111111111111111,\"#46039f\"],[0.2222222222222222,\"#7201a8\"],[0.3333333333333333,\"#9c179e\"],[0.4444444444444444,\"#bd3786\"],[0.5555555555555556,\"#d8576b\"],[0.6666666666666666,\"#ed7953\"],[0.7777777777777778,\"#fb9f3a\"],[0.8888888888888888,\"#fdca26\"],[1.0,\"#f0f921\"]],\"type\":\"histogram2d\"}],\"histogram2dcontour\":[{\"colorbar\":{\"outlinewidth\":0,\"ticks\":\"\"},\"colorscale\":[[0.0,\"#0d0887\"],[0.1111111111111111,\"#46039f\"],[0.2222222222222222,\"#7201a8\"],[0.3333333333333333,\"#9c179e\"],[0.4444444444444444,\"#bd3786\"],[0.5555555555555556,\"#d8576b\"],[0.6666666666666666,\"#ed7953\"],[0.7777777777777778,\"#fb9f3a\"],[0.8888888888888888,\"#fdca26\"],[1.0,\"#f0f921\"]],\"type\":\"histogram2dcontour\"}],\"mesh3d\":[{\"colorbar\":{\"outlinewidth\":0,\"ticks\":\"\"},\"type\":\"mesh3d\"}],\"parcoords\":[{\"line\":{\"colorbar\":{\"outlinewidth\":0,\"ticks\":\"\"}},\"type\":\"parcoords\"}],\"pie\":[{\"automargin\":true,\"type\":\"pie\"}],\"scatter\":[{\"marker\":{\"colorbar\":{\"outlinewidth\":0,\"ticks\":\"\"}},\"type\":\"scatter\"}],\"scatter3d\":[{\"line\":{\"colorbar\":{\"outlinewidth\":0,\"ticks\":\"\"}},\"marker\":{\"colorbar\":{\"outlinewidth\":0,\"ticks\":\"\"}},\"type\":\"scatter3d\"}],\"scattercarpet\":[{\"marker\":{\"colorbar\":{\"outlinewidth\":0,\"ticks\":\"\"}},\"type\":\"scattercarpet\"}],\"scattergeo\":[{\"marker\":{\"colorbar\":{\"outlinewidth\":0,\"ticks\":\"\"}},\"type\":\"scattergeo\"}],\"scattergl\":[{\"marker\":{\"colorbar\":{\"outlinewidth\":0,\"ticks\":\"\"}},\"type\":\"scattergl\"}],\"scattermapbox\":[{\"marker\":{\"colorbar\":{\"outlinewidth\":0,\"ticks\":\"\"}},\"type\":\"scattermapbox\"}],\"scatterpolar\":[{\"marker\":{\"colorbar\":{\"outlinewidth\":0,\"ticks\":\"\"}},\"type\":\"scatterpolar\"}],\"scatterpolargl\":[{\"marker\":{\"colorbar\":{\"outlinewidth\":0,\"ticks\":\"\"}},\"type\":\"scatterpolargl\"}],\"scatterternary\":[{\"marker\":{\"colorbar\":{\"outlinewidth\":0,\"ticks\":\"\"}},\"type\":\"scatterternary\"}],\"surface\":[{\"colorbar\":{\"outlinewidth\":0,\"ticks\":\"\"},\"colorscale\":[[0.0,\"#0d0887\"],[0.1111111111111111,\"#46039f\"],[0.2222222222222222,\"#7201a8\"],[0.3333333333333333,\"#9c179e\"],[0.4444444444444444,\"#bd3786\"],[0.5555555555555556,\"#d8576b\"],[0.6666666666666666,\"#ed7953\"],[0.7777777777777778,\"#fb9f3a\"],[0.8888888888888888,\"#fdca26\"],[1.0,\"#f0f921\"]],\"type\":\"surface\"}],\"table\":[{\"cells\":{\"fill\":{\"color\":\"#EBF0F8\"},\"line\":{\"color\":\"white\"}},\"header\":{\"fill\":{\"color\":\"#C8D4E3\"},\"line\":{\"color\":\"white\"}},\"type\":\"table\"}]},\"layout\":{\"annotationdefaults\":{\"arrowcolor\":\"#2a3f5f\",\"arrowhead\":0,\"arrowwidth\":1},\"autotypenumbers\":\"strict\",\"coloraxis\":{\"colorbar\":{\"outlinewidth\":0,\"ticks\":\"\"}},\"colorscale\":{\"diverging\":[[0,\"#8e0152\"],[0.1,\"#c51b7d\"],[0.2,\"#de77ae\"],[0.3,\"#f1b6da\"],[0.4,\"#fde0ef\"],[0.5,\"#f7f7f7\"],[0.6,\"#e6f5d0\"],[0.7,\"#b8e186\"],[0.8,\"#7fbc41\"],[0.9,\"#4d9221\"],[1,\"#276419\"]],\"sequential\":[[0.0,\"#0d0887\"],[0.1111111111111111,\"#46039f\"],[0.2222222222222222,\"#7201a8\"],[0.3333333333333333,\"#9c179e\"],[0.4444444444444444,\"#bd3786\"],[0.5555555555555556,\"#d8576b\"],[0.6666666666666666,\"#ed7953\"],[0.7777777777777778,\"#fb9f3a\"],[0.8888888888888888,\"#fdca26\"],[1.0,\"#f0f921\"]],\"sequentialminus\":[[0.0,\"#0d0887\"],[0.1111111111111111,\"#46039f\"],[0.2222222222222222,\"#7201a8\"],[0.3333333333333333,\"#9c179e\"],[0.4444444444444444,\"#bd3786\"],[0.5555555555555556,\"#d8576b\"],[0.6666666666666666,\"#ed7953\"],[0.7777777777777778,\"#fb9f3a\"],[0.8888888888888888,\"#fdca26\"],[1.0,\"#f0f921\"]]},\"colorway\":[\"#636efa\",\"#EF553B\",\"#00cc96\",\"#ab63fa\",\"#FFA15A\",\"#19d3f3\",\"#FF6692\",\"#B6E880\",\"#FF97FF\",\"#FECB52\"],\"font\":{\"color\":\"#2a3f5f\"},\"geo\":{\"bgcolor\":\"white\",\"lakecolor\":\"white\",\"landcolor\":\"#E5ECF6\",\"showlakes\":true,\"showland\":true,\"subunitcolor\":\"white\"},\"hoverlabel\":{\"align\":\"left\"},\"hovermode\":\"closest\",\"mapbox\":{\"style\":\"light\"},\"paper_bgcolor\":\"white\",\"plot_bgcolor\":\"#E5ECF6\",\"polar\":{\"angularaxis\":{\"gridcolor\":\"white\",\"linecolor\":\"white\",\"ticks\":\"\"},\"bgcolor\":\"#E5ECF6\",\"radialaxis\":{\"gridcolor\":\"white\",\"linecolor\":\"white\",\"ticks\":\"\"}},\"scene\":{\"xaxis\":{\"backgroundcolor\":\"#E5ECF6\",\"gridcolor\":\"white\",\"gridwidth\":2,\"linecolor\":\"white\",\"showbackground\":true,\"ticks\":\"\",\"zerolinecolor\":\"white\"},\"yaxis\":{\"backgroundcolor\":\"#E5ECF6\",\"gridcolor\":\"white\",\"gridwidth\":2,\"linecolor\":\"white\",\"showbackground\":true,\"ticks\":\"\",\"zerolinecolor\":\"white\"},\"zaxis\":{\"backgroundcolor\":\"#E5ECF6\",\"gridcolor\":\"white\",\"gridwidth\":2,\"linecolor\":\"white\",\"showbackground\":true,\"ticks\":\"\",\"zerolinecolor\":\"white\"}},\"shapedefaults\":{\"line\":{\"color\":\"#2a3f5f\"}},\"ternary\":{\"aaxis\":{\"gridcolor\":\"white\",\"linecolor\":\"white\",\"ticks\":\"\"},\"baxis\":{\"gridcolor\":\"white\",\"linecolor\":\"white\",\"ticks\":\"\"},\"bgcolor\":\"#E5ECF6\",\"caxis\":{\"gridcolor\":\"white\",\"linecolor\":\"white\",\"ticks\":\"\"}},\"title\":{\"x\":0.05},\"xaxis\":{\"automargin\":true,\"gridcolor\":\"white\",\"linecolor\":\"white\",\"ticks\":\"\",\"title\":{\"standoff\":15},\"zerolinecolor\":\"white\",\"zerolinewidth\":2},\"yaxis\":{\"automargin\":true,\"gridcolor\":\"white\",\"linecolor\":\"white\",\"ticks\":\"\",\"title\":{\"standoff\":15},\"zerolinecolor\":\"white\",\"zerolinewidth\":2}}},\"title\":{\"text\":\"\\u0413\\u0440\\u0430\\u0444\\u0438\\u043a \\u0441\\u043e\\u0431\\u044b\\u0442\\u0438\\u0439 \\u043c\\u0435\\u0436\\u0434\\u0443 \\u0433\\u0440\\u0443\\u043f\\u043f\\u0430\\u043c\\u0438\"}},                        {\"responsive\": true}                    ).then(function(){\n",
       "                            \n",
       "var gd = document.getElementById('422cec84-3eab-40e3-b1a2-a87907cc6078');\n",
       "var x = new MutationObserver(function (mutations, observer) {{\n",
       "        var display = window.getComputedStyle(gd).display;\n",
       "        if (!display || display === 'none') {{\n",
       "            console.log([gd, 'removed!']);\n",
       "            Plotly.purge(gd);\n",
       "            observer.disconnect();\n",
       "        }}\n",
       "}});\n",
       "\n",
       "// Listen for the removal of the full notebook cells\n",
       "var notebookContainer = gd.closest('#notebook-container');\n",
       "if (notebookContainer) {{\n",
       "    x.observe(notebookContainer, {childList: true});\n",
       "}}\n",
       "\n",
       "// Listen for the clearing of the current output cell\n",
       "var outputEl = gd.closest('.output');\n",
       "if (outputEl) {{\n",
       "    x.observe(outputEl, {childList: true});\n",
       "}}\n",
       "\n",
       "                        })                };                });            </script>        </div>"
      ]
     },
     "metadata": {},
     "output_type": "display_data"
    }
   ],
   "source": [
    "fig = go.Figure() #создадим график событий между группами\n",
    "fig.add_trace(go.Funnel(\n",
    "    name = 'A',\n",
    "    y = df_test['event'],\n",
    "    x = df_test['A'],\n",
    "    textinfo = \"value+percent initial+percent previous\"))\n",
    "\n",
    "fig.add_trace(go.Funnel(\n",
    "    name = 'A1',\n",
    "    y = df_test['event'],\n",
    "    x = df_test['A1'],\n",
    "    textinfo = \"value+percent initial+percent previous\"))\n",
    "\n",
    "fig.add_trace(go.Funnel(\n",
    "    name = 'B',\n",
    "    y = df_test['event'],\n",
    "    x = df_test['B'],\n",
    "    textinfo = \"value+percent initial+percent previous\"))\n",
    "fig.update_layout(title='График событий между группами') "
   ]
  },
  {
   "cell_type": "markdown",
   "metadata": {},
   "source": [
    "Посмотрим какое самое популярное событие и посчитаем долю пользователей совершивших это событие в каждой из контрольных групп. Самым популярным событием является \"Появление главного экрана\". Разбиение на группы работает корректно."
   ]
  },
  {
   "cell_type": "code",
   "execution_count": 162,
   "metadata": {},
   "outputs": [
    {
     "name": "stdout",
     "output_type": "stream",
     "text": [
      "p-значение:  0.12044299485641763\n",
      "Не получилось отвергнуть нулевую гипотезу, нет статистически значимой разницы\n"
     ]
    }
   ],
   "source": [
    "def my_ztest(a1, a2, b1, b2):\n",
    "    # Обоснование коэффициента будет ниже, в соответствующем разделе\n",
    "    alpha = 0.01\n",
    "\n",
    "    # исходные данные\n",
    "    first_step = np.array([a1, b1])\n",
    "    next_step = np.array([a2, b2])\n",
    "\n",
    "    # пропорция успехов в первой группе:\n",
    "    p1 = next_step[0]/first_step[0]\n",
    "\n",
    "    # пропорция успехов во второй группе:\n",
    "    p2 = next_step[1]/first_step[1]\n",
    "\n",
    "    # пропорция успехов в комбинированном датасете:\n",
    "    p_combined = (next_step[0] + next_step[1]) / (first_step[0] + first_step[1])\n",
    "\n",
    "    # разница пропорций в датасетах\n",
    "    difference = p1 - p2\n",
    "\n",
    "    # считаем статистику в ст.отклонениях стандартного нормального распределения\n",
    "    z_value = difference / mth.sqrt(p_combined * (1 - p_combined) * (1/first_step[0] + 1/first_step[1]))\n",
    "\n",
    "    # задаем стандартное нормальное распределение (среднее 0, ст.отклонение 1)\n",
    "    distr = st.norm(0, 1)\n",
    "\n",
    "    p_value = (1 - distr.cdf(abs(z_value))) * 2\n",
    "\n",
    "print('p-значение: ', p_value)\n",
    "if (p_value < alpha):\n",
    "        print(\"Отвергаем нулевую гипотезу, есть статистически значимая разница\")\n",
    "else:\n",
    "        print(\"Не получилось отвергнуть нулевую гипотезу, нет статистически значимой разницы\")"
   ]
  },
  {
   "cell_type": "markdown",
   "metadata": {},
   "source": [
    "<div class=\"alert alert-danger\">\n",
    "\n",
    "**❌ Комментарий ревьюера ❌**\n",
    "   \n",
    "   Не рекомендую прописывать числа 1200, 1158 вручную - легко допустить ошибку. Эти числа можно получить с помощью данных \n",
    "\n",
    "</div>\n"
   ]
  },
  {
   "cell_type": "markdown",
   "metadata": {},
   "source": [
    "<div class=\"alert alert-block alert-info\">\n",
    "  \n",
    "<b>Комментарий cтудента</b>\n",
    " \n",
    "Зачемание учтел, исправил код."
   ]
  },
  {
   "cell_type": "markdown",
   "metadata": {},
   "source": [
    "Посмотрим, есть ли статистические критерии разниц между выборками А и А1\n",
    "Зададим следующие гипотезы:\n",
    "- H0: Статистически значимой разницы между конверсиями пользователей в оплату заказа между выборками нет;\n",
    "- H1: Статистически значимая разница между конверсиями пользователей в оплату заказа между группами есть.\n",
    "\n",
    "\n",
    "\n",
    "z-тест показывает, что статистически значимой разницы между конверсиями пользователей в оплату заказа между выборками А и А1 нет."
   ]
  },
  {
   "cell_type": "code",
   "execution_count": 163,
   "metadata": {},
   "outputs": [],
   "source": [
    "def z_test(group1, group2, alpha): \n",
    "    p1_event = df_test.loc[event_name, group1]\n",
    "    p2_event = df_test.loc[event_name, group2] \n",
    "    p1_users = users_group.loc[group1] \n",
    "    p2_users = users_group.loc[group2] \n",
    "    \n",
    "    # пропорция успехов в первой группе:\n",
    "    p1 = p1_event / p1_users \n",
    "    # пропорция успехов во второй группе\n",
    "    p2 = p2_event / p2_users \n",
    "    \n",
    "    # пропорция успехов в комбинированном датасете\n",
    "    p_combined = (p1_event + p2_event) / (p1_users + p2_users) \n",
    "    \n",
    "    # разница пропорций в датасетах\n",
    "    difference = p1 - p2\n",
    "    \n",
    "    # считаем статистику в ст.отклонениях стандартного нормального распределения\n",
    "    z_value = difference / mth.sqrt(p_combined * (1 - p_combined) * (1 / p1_users + 1 / p2_users))\n",
    "    \n",
    "    # задаем стандартное нормальное распределение (среднее 0, ст.отклонение 1)\n",
    "    distr = st.norm(0, 1)\n",
    "    p_value = (1 - distr.cdf(abs(z_value))) * 2\n",
    "    \n",
    "    # введем поправку Бонферрони, поделим альфа на число гипотез для всех проверок\n",
    "    bonferroni_alpha = alpha / 17\n",
    "    \n",
    "    print('Проверка для групп {} и {}, событие: {}, p-значение: {p_value:.2f}'.format(group1, group2, event_name, p_value=p_value))\n",
    "    if (p_value < bonferroni_alpha):\n",
    "        print(\"Отвергаем нулевую гипотезу о равенстве данных в группах\")\n",
    "    else:\n",
    "        print(\"Не получилось отвергнуть нулевую гипотезу о равенстве данных в группах\")"
   ]
  },
  {
   "cell_type": "code",
   "execution_count": 164,
   "metadata": {},
   "outputs": [
    {
     "name": "stdout",
     "output_type": "stream",
     "text": [
      "Проверка для групп A и A1, событие: 0, p-значение: 0.75\n",
      "Не получилось отвергнуть нулевую гипотезу о равенстве данных в группах\n",
      "\n",
      "Проверка для групп A и A1, событие: 1, p-значение: 0.25\n",
      "Не получилось отвергнуть нулевую гипотезу о равенстве данных в группах\n",
      "\n",
      "Проверка для групп A и A1, событие: 2, p-значение: 0.23\n",
      "Не получилось отвергнуть нулевую гипотезу о равенстве данных в группах\n",
      "\n",
      "Проверка для групп A и A1, событие: 3, p-значение: 0.11\n",
      "Не получилось отвергнуть нулевую гипотезу о равенстве данных в группах\n",
      "\n"
     ]
    }
   ],
   "source": [
    "for event_name in df_test.index: #сравним группы A и A1\n",
    "    z_test('A', 'A1', 0.01)\n",
    "    print()"
   ]
  },
  {
   "cell_type": "markdown",
   "metadata": {},
   "source": [
    "Посмотрим отличаются группы статистически для всех событий. Проверку зададим в отдельную функцию. Разбиение на группы работает корректно. Статистически значимой разницы для всех событий воронки продаж в группах нет."
   ]
  },
  {
   "cell_type": "code",
   "execution_count": 165,
   "metadata": {},
   "outputs": [
    {
     "name": "stdout",
     "output_type": "stream",
     "text": [
      "Проверка для групп B и A, событие: 0, p-значение: 0.34\n",
      "Не получилось отвергнуть нулевую гипотезу о равенстве данных в группах\n",
      "\n",
      "Проверка для групп B и A, событие: 1, p-значение: 0.21\n",
      "Не получилось отвергнуть нулевую гипотезу о равенстве данных в группах\n",
      "\n",
      "Проверка для групп B и A, событие: 2, p-значение: 0.08\n",
      "Не получилось отвергнуть нулевую гипотезу о равенстве данных в группах\n",
      "\n",
      "Проверка для групп B и A, событие: 3, p-значение: 0.22\n",
      "Не получилось отвергнуть нулевую гипотезу о равенстве данных в группах\n",
      "\n"
     ]
    }
   ],
   "source": [
    "# Сравним группу В с тестовой группой А\n",
    "for event_name in df_test.index:\n",
    "    z_test('B', 'A', 0.01)\n",
    "    print()"
   ]
  },
  {
   "cell_type": "markdown",
   "metadata": {},
   "source": [
    "Сравним результаты контрольной группы B с А. Статистически значимой разницы для всех событий воронки продаж в группах B и A нет."
   ]
  },
  {
   "cell_type": "code",
   "execution_count": 166,
   "metadata": {},
   "outputs": [
    {
     "name": "stdout",
     "output_type": "stream",
     "text": [
      "Проверка для групп B и A1, событие: 0, p-значение: 0.52\n",
      "Не получилось отвергнуть нулевую гипотезу о равенстве данных в группах\n",
      "\n",
      "Проверка для групп B и A1, событие: 1, p-значение: 0.93\n",
      "Не получилось отвергнуть нулевую гипотезу о равенстве данных в группах\n",
      "\n",
      "Проверка для групп B и A1, событие: 2, p-значение: 0.59\n",
      "Не получилось отвергнуть нулевую гипотезу о равенстве данных в группах\n",
      "\n",
      "Проверка для групп B и A1, событие: 3, p-значение: 0.73\n",
      "Не получилось отвергнуть нулевую гипотезу о равенстве данных в группах\n",
      "\n"
     ]
    }
   ],
   "source": [
    "# Сравним группу В с тестовой группой А1\n",
    "for event_name in df_test.index:\n",
    "    z_test('B', 'A1', 0.01)\n",
    "    print()"
   ]
  },
  {
   "cell_type": "markdown",
   "metadata": {},
   "source": [
    "Сравним результаты контрольной группы B с А1. Статистически значимой разницы для всех событий воронки продаж в группах B и A1 нет."
   ]
  },
  {
   "cell_type": "code",
   "execution_count": 167,
   "metadata": {},
   "outputs": [
    {
     "name": "stdout",
     "output_type": "stream",
     "text": [
      "Проверка для групп AA1 и B, событие: 0, p-значение: 0.35\n",
      "Не получилось отвергнуть нулевую гипотезу о равенстве данных в группах\n",
      "\n",
      "Проверка для групп AA1 и B, событие: 1, p-значение: 0.45\n",
      "Не получилось отвергнуть нулевую гипотезу о равенстве данных в группах\n",
      "\n",
      "Проверка для групп AA1 и B, событие: 2, p-значение: 0.19\n",
      "Не получилось отвергнуть нулевую гипотезу о равенстве данных в группах\n",
      "\n",
      "Проверка для групп AA1 и B, событие: 3, p-значение: 0.61\n",
      "Не получилось отвергнуть нулевую гипотезу о равенстве данных в группах\n",
      "\n"
     ]
    }
   ],
   "source": [
    "# Сравним группу В с объединённой контрольной группой А+А1\n",
    "for event_name in df_test.index:\n",
    "    z_test('AA1', 'B', 0.01)\n",
    "    print()"
   ]
  },
  {
   "cell_type": "markdown",
   "metadata": {},
   "source": [
    "Сравним результаты контрольной группы B с АА1. Статистически значимой разницы для всех событий воронки продаж в группах B и A нет."
   ]
  },
  {
   "cell_type": "code",
   "execution_count": 168,
   "metadata": {},
   "outputs": [
    {
     "name": "stdout",
     "output_type": "stream",
     "text": [
      "Вероятность появления ошибки: 1.00%\n"
     ]
    }
   ],
   "source": [
    "result = 1-(1-0.01/16)**16\n",
    "print('Вероятность появления ошибки: {:.2%}'.format(result))  #проверим вероятность появление ошибки методом Бонферрони"
   ]
  },
  {
   "cell_type": "markdown",
   "metadata": {},
   "source": [
    "Для корректировки уровня значимости стоит выбрать метод Бонферрони. Всего было сделано 16 проверок статистических гипотез, уровень значимости применялся 0.01 Для правильного применения этого метода нужно во всех экспериментах разделить заданный уровень alpha на 16. С таким коэффициентом вероятность встретить ошибку гораздо меньше. Таким образом, вероятность появления ошибки составляет 1%, значит результатам нашего анализа можно доверять."
   ]
  },
  {
   "cell_type": "markdown",
   "metadata": {},
   "source": [
    "<div class=\"alert alert-danger\">\n",
    "\n",
    "**❌ Комментарий ревьюера ❌**\n",
    "   \n",
    "   Самая первую проверка - Появление главного экрана 246/247 - дублируется после, поэтому суммарно получается 16 проверок\n",
    "\n",
    "</div>\n"
   ]
  },
  {
   "cell_type": "markdown",
   "metadata": {},
   "source": [
    "<div class=\"alert alert-block alert-info\">\n",
    "  \n",
    "<b>Комментарий cтудента</b>\n",
    " \n",
    "Зачемание учтел, изменил код. Запутался в проверках."
   ]
  },
  {
   "cell_type": "markdown",
   "metadata": {},
   "source": [
    "<div class=\"alert alert-success\">\n",
    "\n",
    "**✔️ Комментарий ревьюера ✔️**\n",
    "   \n",
    "\n",
    "\n",
    "   \n",
    "   Очень хорошо, что используешь поправку Бонферрони и знаком с поправками на множественную проверку гипотез. Однако отмечу, что данная поправка используется редко. Причины: эта поправка слишком сильно уменьшает уровень альфа, опровергнуть нулевую гипотезу становится фактически невозможно; повышается вероятность совершить ошибку второго рода. Возможное решение - использовать менее мощные поправки - рекомендую ознакомиться со статьей: https://studfile.net/preview/10706903/page:19/\n",
    "Также рекомендую статью: https://habr.com/ru/company/yandex/blog/476826/ - в ней описывается применение библиотеки `statsmodels` - пригодится в дальнейшем                    \n",
    "\n",
    "</div>\n",
    "\n",
    "\n"
   ]
  },
  {
   "cell_type": "markdown",
   "metadata": {},
   "source": [
    "### Выводы"
   ]
  },
  {
   "cell_type": "markdown",
   "metadata": {},
   "source": [
    "В ходе работы было проведено исследование поведения пользователей в нашем мобильном приложении. Перед началом исследование необходимо было обработать входные данные. В ходе работы данные были проверенны на пропущенные значения, удалены дубликаты, заменены типы данных для простоты исследования. После всех исправлений была проведена исследовательская работа по изучению воронки событий и результатов эксперимента. \n",
    "\n",
    "Результаты эксперимента показали:\n",
    "\n",
    "- z-тест показал, что статистически значимой разницы между конверсиями пользователей в оплату заказа между выборками А и А1 нет (p-значение:  0.12044299485641763) - группы одинаковые;\n",
    "- Разбиение на группы работает корректно. Статистически значимой разницы для всех событий воронки продаж в группах нет (A и A1 - событие: 0, p-значение: 0.75, A и A1 - событие: 1, p-значение: 0.25, A и A1 - событие: 2, p-значение: 0.23, A и A1 - событие: 3, p-значение: 0.11);\n",
    "- Что касается шрифтов, статистически значимой разницы для всех событий воронки продаж в группах B и A нет (B и A - событие: 0, p-значение: 0.34, B и A - событие: 1, p-значение: 0.21, B и A - событие: 2, p-значение: 0.08, B и A - событие: 3, p-значение: 0.22);\n",
    "- Статистически значимой разницы для всех событий воронки продаж в группах B и A1 также нет (B и A1 - событие: 0, p-значение: 0.52, B и A1 - событие: 1, p-значение: 0.93, B и A1 - событие: 2, p-значение: 0.59, B и A1 - событие: 3, p-значение: 0.73);\n",
    "- Сравним результаты контрольной группы B с А1. Статистически значимой разницы для всех событий воронки продаж в группах B и A1 нет.\n",
    "- Сравним результаты контрольной группы B с АА1. Статистическая значимость разницы для всех событий воронки продаж в группах B и A также отсутствует (Проверка для групп AA1 и B - событие: 0, p-значение: 0.35, AA1 и B - событие: 1, p-значение: 0.45, AA1 и B - событие: 2, p-значение: 0.19, AA1 и B - событие: 3, p-значение: 0.61). \n",
    "\n",
    "Также для корректировки уровня значимости был выбран метод Бонферрони, сделано 16 проверок статистических гипотез, уровень значимости применялся 0.01. Вероятность появления ошибки составило 1%, значит результатам нашего анализа можно доверять. Таким образом, можно сделать вывод, что шрифты никак не повлияют на наших пользователей, и точно не отпугнут их от совершения покупки."
   ]
  },
  {
   "cell_type": "markdown",
   "metadata": {},
   "source": [
    "<div class=\"alert alert-success\">\n",
    "\n",
    "**✔️ Комментарий ревьюера ✔️**\n",
    "   \n",
    "   Эдгар, проведен основательный и подробный анализ. Все наглядно - графики и гистограммы подтверждают обоснованные выводы. Учти мои замечания. Возможно, придется немного подправить выводы. Жду твой проект на повторное ревью. Успехов!\n",
    "\n",
    "</div>\n"
   ]
  },
  {
   "cell_type": "markdown",
   "metadata": {},
   "source": [
    "<div class=\"alert alert-block alert-info\">\n",
    "  \n",
    "<b>Комментарий cтудента</b>\n",
    " \n",
    "Спасибо за комментария! замечания исправил! "
   ]
  },
  {
   "cell_type": "markdown",
   "metadata": {},
   "source": [
    "<div class=\"alert alert-success\">\n",
    "\n",
    "**✔️ Комментарий ревьюера v2✔️**\n",
    "   \n",
    "   Эдгар, замечания устранены 👍. Уверен, мои советы пригодятся тебе в новых проектах. Успехов в обучении! 😉 \n",
    "\n",
    "</div>"
   ]
  },
  {
   "cell_type": "code",
   "execution_count": null,
   "metadata": {},
   "outputs": [],
   "source": []
  }
 ],
 "metadata": {
  "ExecuteTimeLog": [
   {
    "duration": 65,
    "start_time": "2023-02-13T15:49:44.405Z"
   },
   {
    "duration": 1475,
    "start_time": "2023-02-13T15:50:00.412Z"
   },
   {
    "duration": 742,
    "start_time": "2023-02-13T15:50:01.890Z"
   },
   {
    "duration": 24,
    "start_time": "2023-02-13T15:50:55.216Z"
   },
   {
    "duration": 68,
    "start_time": "2023-02-13T15:51:19.751Z"
   },
   {
    "duration": 4,
    "start_time": "2023-02-13T15:51:23.140Z"
   },
   {
    "duration": 326,
    "start_time": "2023-02-13T15:51:23.700Z"
   },
   {
    "duration": 22,
    "start_time": "2023-02-13T15:51:24.292Z"
   },
   {
    "duration": 32,
    "start_time": "2023-02-13T15:51:44.636Z"
   },
   {
    "duration": 18,
    "start_time": "2023-02-13T15:51:58.491Z"
   },
   {
    "duration": 18,
    "start_time": "2023-02-13T15:52:12.415Z"
   },
   {
    "duration": 17,
    "start_time": "2023-02-13T15:52:37.932Z"
   },
   {
    "duration": 197,
    "start_time": "2023-02-13T15:53:14.287Z"
   },
   {
    "duration": 156,
    "start_time": "2023-02-13T15:53:48.321Z"
   },
   {
    "duration": 10,
    "start_time": "2023-02-13T15:58:06.760Z"
   },
   {
    "duration": 5,
    "start_time": "2023-02-13T16:00:19.428Z"
   },
   {
    "duration": 430,
    "start_time": "2023-02-13T16:00:19.727Z"
   },
   {
    "duration": 11,
    "start_time": "2023-02-13T16:00:20.160Z"
   },
   {
    "duration": 27,
    "start_time": "2023-02-13T16:00:27.003Z"
   },
   {
    "duration": 163,
    "start_time": "2023-02-13T16:00:58.313Z"
   },
   {
    "duration": 13,
    "start_time": "2023-02-13T16:02:24.518Z"
   },
   {
    "duration": 339,
    "start_time": "2023-02-13T16:02:54.550Z"
   },
   {
    "duration": 3,
    "start_time": "2023-02-13T16:03:18.905Z"
   },
   {
    "duration": 297,
    "start_time": "2023-02-13T16:03:19.263Z"
   },
   {
    "duration": 8,
    "start_time": "2023-02-13T16:03:19.562Z"
   },
   {
    "duration": 346,
    "start_time": "2023-02-13T16:03:19.751Z"
   },
   {
    "duration": 20,
    "start_time": "2023-02-13T16:03:20.254Z"
   },
   {
    "duration": 6,
    "start_time": "2023-02-13T16:04:22.054Z"
   },
   {
    "duration": 11,
    "start_time": "2023-02-13T16:04:52.921Z"
   },
   {
    "duration": 21,
    "start_time": "2023-02-13T16:04:54.544Z"
   },
   {
    "duration": 4,
    "start_time": "2023-02-13T16:04:56.832Z"
   },
   {
    "duration": 323,
    "start_time": "2023-02-13T16:04:57.151Z"
   },
   {
    "duration": 5,
    "start_time": "2023-02-13T16:05:20.357Z"
   },
   {
    "duration": 325,
    "start_time": "2023-02-13T16:05:20.528Z"
   },
   {
    "duration": 11,
    "start_time": "2023-02-13T16:05:20.855Z"
   },
   {
    "duration": 20,
    "start_time": "2023-02-13T16:05:27.036Z"
   },
   {
    "duration": 6,
    "start_time": "2023-02-13T16:05:32.674Z"
   },
   {
    "duration": 377,
    "start_time": "2023-02-13T16:05:32.922Z"
   },
   {
    "duration": 11,
    "start_time": "2023-02-13T16:05:33.301Z"
   },
   {
    "duration": 9,
    "start_time": "2023-02-13T16:05:33.892Z"
   },
   {
    "duration": 27,
    "start_time": "2023-02-13T16:05:34.506Z"
   },
   {
    "duration": 20,
    "start_time": "2023-02-13T16:05:42.822Z"
   },
   {
    "duration": 27,
    "start_time": "2023-02-13T16:05:43.790Z"
   },
   {
    "duration": 160,
    "start_time": "2023-02-13T16:05:45.155Z"
   },
   {
    "duration": 154,
    "start_time": "2023-02-13T16:05:47.611Z"
   },
   {
    "duration": 9,
    "start_time": "2023-02-13T16:06:48.008Z"
   },
   {
    "duration": 5,
    "start_time": "2023-02-13T16:07:22.343Z"
   },
   {
    "duration": 313,
    "start_time": "2023-02-13T16:07:22.637Z"
   },
   {
    "duration": 9,
    "start_time": "2023-02-13T16:07:23.070Z"
   },
   {
    "duration": 6,
    "start_time": "2023-02-13T16:07:24.085Z"
   },
   {
    "duration": 25,
    "start_time": "2023-02-13T16:07:24.710Z"
   },
   {
    "duration": 16,
    "start_time": "2023-02-13T16:07:26.700Z"
   },
   {
    "duration": 10,
    "start_time": "2023-02-13T16:07:31.106Z"
   },
   {
    "duration": 27,
    "start_time": "2023-02-13T16:07:33.715Z"
   },
   {
    "duration": 4,
    "start_time": "2023-02-13T16:08:28.857Z"
   },
   {
    "duration": 304,
    "start_time": "2023-02-13T16:08:29.096Z"
   },
   {
    "duration": 9,
    "start_time": "2023-02-13T16:08:29.402Z"
   },
   {
    "duration": 6,
    "start_time": "2023-02-13T16:08:29.960Z"
   },
   {
    "duration": 20,
    "start_time": "2023-02-13T16:08:30.417Z"
   },
   {
    "duration": 16,
    "start_time": "2023-02-13T16:08:31.902Z"
   },
   {
    "duration": 152,
    "start_time": "2023-02-13T16:08:34.190Z"
   },
   {
    "duration": 167,
    "start_time": "2023-02-13T16:08:34.926Z"
   },
   {
    "duration": 10,
    "start_time": "2023-02-13T16:08:35.869Z"
   },
   {
    "duration": 158,
    "start_time": "2023-02-13T16:09:06.640Z"
   },
   {
    "duration": 451,
    "start_time": "2023-02-13T16:16:27.740Z"
   },
   {
    "duration": 178,
    "start_time": "2023-02-13T16:17:00.477Z"
   },
   {
    "duration": 16,
    "start_time": "2023-02-13T16:17:01.086Z"
   },
   {
    "duration": 3,
    "start_time": "2023-02-13T16:17:02.772Z"
   },
   {
    "duration": 22,
    "start_time": "2023-02-13T16:17:03.700Z"
   },
   {
    "duration": 71,
    "start_time": "2023-02-13T16:17:38.517Z"
   },
   {
    "duration": 227,
    "start_time": "2023-02-13T16:18:48.633Z"
   },
   {
    "duration": 222,
    "start_time": "2023-02-13T16:19:31.889Z"
   },
   {
    "duration": 224,
    "start_time": "2023-02-13T16:20:43.085Z"
   },
   {
    "duration": 4,
    "start_time": "2023-02-13T16:20:46.894Z"
   },
   {
    "duration": 179,
    "start_time": "2023-02-13T16:20:47.177Z"
   },
   {
    "duration": 14,
    "start_time": "2023-02-13T16:20:47.562Z"
   },
   {
    "duration": 4,
    "start_time": "2023-02-13T16:20:48.354Z"
   },
   {
    "duration": 22,
    "start_time": "2023-02-13T16:20:48.864Z"
   },
   {
    "duration": 26,
    "start_time": "2023-02-13T16:20:49.257Z"
   },
   {
    "duration": 66,
    "start_time": "2023-02-13T16:20:49.992Z"
   },
   {
    "duration": 100,
    "start_time": "2023-02-13T16:20:50.690Z"
   },
   {
    "duration": 80,
    "start_time": "2023-02-13T16:20:55.072Z"
   },
   {
    "duration": 220,
    "start_time": "2023-02-13T16:20:55.446Z"
   },
   {
    "duration": 1439,
    "start_time": "2023-02-13T16:22:43.700Z"
   },
   {
    "duration": 356,
    "start_time": "2023-02-13T16:23:08.772Z"
   },
   {
    "duration": 189,
    "start_time": "2023-02-13T16:23:47.286Z"
   },
   {
    "duration": 518,
    "start_time": "2023-02-13T16:23:59.142Z"
   },
   {
    "duration": 0,
    "start_time": "2023-02-13T16:23:59.663Z"
   },
   {
    "duration": 5,
    "start_time": "2023-02-13T16:24:13.648Z"
   },
   {
    "duration": 170,
    "start_time": "2023-02-13T16:24:14.009Z"
   },
   {
    "duration": 15,
    "start_time": "2023-02-13T16:24:14.552Z"
   },
   {
    "duration": 5,
    "start_time": "2023-02-13T16:24:15.743Z"
   },
   {
    "duration": 22,
    "start_time": "2023-02-13T16:24:16.750Z"
   },
   {
    "duration": 18,
    "start_time": "2023-02-13T16:24:19.774Z"
   },
   {
    "duration": 61,
    "start_time": "2023-02-13T16:24:20.644Z"
   },
   {
    "duration": 72,
    "start_time": "2023-02-13T16:24:21.404Z"
   },
   {
    "duration": 66,
    "start_time": "2023-02-13T16:24:23.755Z"
   },
   {
    "duration": 208,
    "start_time": "2023-02-13T16:24:24.220Z"
   },
   {
    "duration": 1646,
    "start_time": "2023-02-13T16:24:25.423Z"
   },
   {
    "duration": 45,
    "start_time": "2023-02-13T16:24:49.194Z"
   },
   {
    "duration": 4,
    "start_time": "2023-02-13T16:26:19.286Z"
   },
   {
    "duration": 173,
    "start_time": "2023-02-13T16:26:19.581Z"
   },
   {
    "duration": 21,
    "start_time": "2023-02-13T16:26:19.965Z"
   },
   {
    "duration": 3,
    "start_time": "2023-02-13T16:26:20.504Z"
   },
   {
    "duration": 20,
    "start_time": "2023-02-13T16:26:21.150Z"
   },
   {
    "duration": 16,
    "start_time": "2023-02-13T16:26:21.761Z"
   },
   {
    "duration": 52,
    "start_time": "2023-02-13T16:26:22.579Z"
   },
   {
    "duration": 61,
    "start_time": "2023-02-13T16:26:22.971Z"
   },
   {
    "duration": 60,
    "start_time": "2023-02-13T16:26:23.509Z"
   },
   {
    "duration": 216,
    "start_time": "2023-02-13T16:26:24.213Z"
   },
   {
    "duration": 43,
    "start_time": "2023-02-13T16:26:24.874Z"
   },
   {
    "duration": 43,
    "start_time": "2023-02-13T16:26:25.228Z"
   },
   {
    "duration": 4,
    "start_time": "2023-02-13T16:31:53.850Z"
   },
   {
    "duration": 166,
    "start_time": "2023-02-13T16:31:54.052Z"
   },
   {
    "duration": 11,
    "start_time": "2023-02-13T16:31:54.223Z"
   },
   {
    "duration": 4,
    "start_time": "2023-02-13T16:31:54.377Z"
   },
   {
    "duration": 20,
    "start_time": "2023-02-13T16:31:54.553Z"
   },
   {
    "duration": 22,
    "start_time": "2023-02-13T16:31:54.721Z"
   },
   {
    "duration": 49,
    "start_time": "2023-02-13T16:31:54.903Z"
   },
   {
    "duration": 70,
    "start_time": "2023-02-13T16:31:55.086Z"
   },
   {
    "duration": 56,
    "start_time": "2023-02-13T16:31:55.264Z"
   },
   {
    "duration": 198,
    "start_time": "2023-02-13T16:31:55.440Z"
   },
   {
    "duration": 42,
    "start_time": "2023-02-13T16:31:55.680Z"
   },
   {
    "duration": 42,
    "start_time": "2023-02-13T16:31:55.951Z"
   },
   {
    "duration": 1244,
    "start_time": "2023-02-13T16:34:42.933Z"
   },
   {
    "duration": 9,
    "start_time": "2023-02-13T16:35:27.725Z"
   },
   {
    "duration": 7,
    "start_time": "2023-02-13T16:36:18.729Z"
   },
   {
    "duration": 8,
    "start_time": "2023-02-13T16:36:29.714Z"
   },
   {
    "duration": 9,
    "start_time": "2023-02-13T16:37:07.637Z"
   },
   {
    "duration": 12,
    "start_time": "2023-02-13T16:37:25.461Z"
   },
   {
    "duration": 8,
    "start_time": "2023-02-13T16:38:04.956Z"
   },
   {
    "duration": 15,
    "start_time": "2023-02-13T16:40:06.365Z"
   },
   {
    "duration": 1383,
    "start_time": "2023-02-13T16:40:08.061Z"
   },
   {
    "duration": 30,
    "start_time": "2023-02-13T16:40:15.377Z"
   },
   {
    "duration": 34,
    "start_time": "2023-02-13T16:40:27.948Z"
   },
   {
    "duration": 10,
    "start_time": "2023-02-13T16:40:33.651Z"
   },
   {
    "duration": 36,
    "start_time": "2023-02-13T16:41:00.406Z"
   },
   {
    "duration": 36,
    "start_time": "2023-02-13T16:42:08.655Z"
   },
   {
    "duration": 8,
    "start_time": "2023-02-13T16:42:10.244Z"
   },
   {
    "duration": 15,
    "start_time": "2023-02-13T16:43:23.154Z"
   },
   {
    "duration": 13,
    "start_time": "2023-02-13T16:43:33.754Z"
   },
   {
    "duration": 8,
    "start_time": "2023-02-13T16:43:44.662Z"
   },
   {
    "duration": 9,
    "start_time": "2023-02-13T16:43:52.410Z"
   },
   {
    "duration": 9,
    "start_time": "2023-02-13T16:44:00.024Z"
   },
   {
    "duration": 10,
    "start_time": "2023-02-13T16:44:01.328Z"
   },
   {
    "duration": 4,
    "start_time": "2023-02-13T16:44:11.339Z"
   },
   {
    "duration": 161,
    "start_time": "2023-02-13T16:44:11.507Z"
   },
   {
    "duration": 12,
    "start_time": "2023-02-13T16:44:11.683Z"
   },
   {
    "duration": 4,
    "start_time": "2023-02-13T16:44:11.843Z"
   },
   {
    "duration": 21,
    "start_time": "2023-02-13T16:44:12.012Z"
   },
   {
    "duration": 18,
    "start_time": "2023-02-13T16:44:12.202Z"
   },
   {
    "duration": 59,
    "start_time": "2023-02-13T16:44:12.383Z"
   },
   {
    "duration": 70,
    "start_time": "2023-02-13T16:44:12.580Z"
   },
   {
    "duration": 67,
    "start_time": "2023-02-13T16:44:12.762Z"
   },
   {
    "duration": 205,
    "start_time": "2023-02-13T16:44:12.938Z"
   },
   {
    "duration": 44,
    "start_time": "2023-02-13T16:44:13.146Z"
   },
   {
    "duration": 41,
    "start_time": "2023-02-13T16:44:13.400Z"
   },
   {
    "duration": 20,
    "start_time": "2023-02-13T16:44:14.563Z"
   },
   {
    "duration": 8,
    "start_time": "2023-02-13T16:44:15.844Z"
   },
   {
    "duration": 34,
    "start_time": "2023-02-13T16:44:20.312Z"
   },
   {
    "duration": 8,
    "start_time": "2023-02-13T16:44:31.205Z"
   },
   {
    "duration": 8,
    "start_time": "2023-02-13T16:44:48.620Z"
   },
   {
    "duration": 9,
    "start_time": "2023-02-13T16:45:06.398Z"
   },
   {
    "duration": 5,
    "start_time": "2023-02-13T16:45:10.541Z"
   },
   {
    "duration": 4,
    "start_time": "2023-02-13T16:45:51.492Z"
   },
   {
    "duration": 160,
    "start_time": "2023-02-13T16:45:51.636Z"
   },
   {
    "duration": 26,
    "start_time": "2023-02-13T16:45:51.798Z"
   },
   {
    "duration": 3,
    "start_time": "2023-02-13T16:45:51.940Z"
   },
   {
    "duration": 19,
    "start_time": "2023-02-13T16:45:52.100Z"
   },
   {
    "duration": 16,
    "start_time": "2023-02-13T16:45:52.269Z"
   },
   {
    "duration": 50,
    "start_time": "2023-02-13T16:45:52.436Z"
   },
   {
    "duration": 59,
    "start_time": "2023-02-13T16:45:52.605Z"
   },
   {
    "duration": 55,
    "start_time": "2023-02-13T16:45:52.782Z"
   },
   {
    "duration": 198,
    "start_time": "2023-02-13T16:45:52.964Z"
   },
   {
    "duration": 43,
    "start_time": "2023-02-13T16:45:53.362Z"
   },
   {
    "duration": 42,
    "start_time": "2023-02-13T16:45:53.850Z"
   },
   {
    "duration": 13,
    "start_time": "2023-02-13T16:45:55.033Z"
   },
   {
    "duration": 8,
    "start_time": "2023-02-13T16:45:55.439Z"
   },
   {
    "duration": 4,
    "start_time": "2023-02-13T16:45:55.771Z"
   },
   {
    "duration": 84,
    "start_time": "2023-02-13T16:48:01.303Z"
   },
   {
    "duration": 6,
    "start_time": "2023-02-13T16:48:53.709Z"
   },
   {
    "duration": 4,
    "start_time": "2023-02-13T16:49:05.903Z"
   },
   {
    "duration": 155,
    "start_time": "2023-02-13T16:49:06.062Z"
   },
   {
    "duration": 10,
    "start_time": "2023-02-13T16:49:06.220Z"
   },
   {
    "duration": 3,
    "start_time": "2023-02-13T16:49:06.357Z"
   },
   {
    "duration": 22,
    "start_time": "2023-02-13T16:49:06.509Z"
   },
   {
    "duration": 15,
    "start_time": "2023-02-13T16:49:06.679Z"
   },
   {
    "duration": 50,
    "start_time": "2023-02-13T16:49:06.846Z"
   },
   {
    "duration": 56,
    "start_time": "2023-02-13T16:49:07.029Z"
   },
   {
    "duration": 54,
    "start_time": "2023-02-13T16:49:07.218Z"
   },
   {
    "duration": 194,
    "start_time": "2023-02-13T16:49:07.397Z"
   },
   {
    "duration": 48,
    "start_time": "2023-02-13T16:49:07.593Z"
   },
   {
    "duration": 39,
    "start_time": "2023-02-13T16:49:07.790Z"
   },
   {
    "duration": 12,
    "start_time": "2023-02-13T16:49:08.670Z"
   },
   {
    "duration": 8,
    "start_time": "2023-02-13T16:49:09.110Z"
   },
   {
    "duration": 4,
    "start_time": "2023-02-13T16:49:09.573Z"
   },
   {
    "duration": 5,
    "start_time": "2023-02-13T16:49:09.998Z"
   },
   {
    "duration": 4,
    "start_time": "2023-02-13T16:49:47.279Z"
   },
   {
    "duration": 162,
    "start_time": "2023-02-13T16:49:47.479Z"
   },
   {
    "duration": 11,
    "start_time": "2023-02-13T16:49:47.653Z"
   },
   {
    "duration": 3,
    "start_time": "2023-02-13T16:49:47.821Z"
   },
   {
    "duration": 32,
    "start_time": "2023-02-13T16:49:47.989Z"
   },
   {
    "duration": 16,
    "start_time": "2023-02-13T16:49:48.173Z"
   },
   {
    "duration": 48,
    "start_time": "2023-02-13T16:49:48.350Z"
   },
   {
    "duration": 77,
    "start_time": "2023-02-13T16:49:48.558Z"
   },
   {
    "duration": 51,
    "start_time": "2023-02-13T16:49:48.773Z"
   },
   {
    "duration": 9,
    "start_time": "2023-02-13T16:49:48.990Z"
   },
   {
    "duration": 44,
    "start_time": "2023-02-13T16:49:49.213Z"
   },
   {
    "duration": 27,
    "start_time": "2023-02-13T16:49:49.476Z"
   },
   {
    "duration": 1290,
    "start_time": "2023-02-13T16:51:00.913Z"
   },
   {
    "duration": 3,
    "start_time": "2023-02-13T16:51:10.462Z"
   },
   {
    "duration": 163,
    "start_time": "2023-02-13T16:51:10.693Z"
   },
   {
    "duration": 13,
    "start_time": "2023-02-13T16:51:10.894Z"
   },
   {
    "duration": 4,
    "start_time": "2023-02-13T16:51:11.102Z"
   },
   {
    "duration": 30,
    "start_time": "2023-02-13T16:51:11.737Z"
   },
   {
    "duration": 16,
    "start_time": "2023-02-13T16:51:13.331Z"
   },
   {
    "duration": 57,
    "start_time": "2023-02-13T16:51:16.003Z"
   },
   {
    "duration": 59,
    "start_time": "2023-02-13T16:51:16.586Z"
   },
   {
    "duration": 54,
    "start_time": "2023-02-13T16:51:17.290Z"
   },
   {
    "duration": 15,
    "start_time": "2023-02-13T16:51:19.577Z"
   },
   {
    "duration": 42,
    "start_time": "2023-02-13T16:51:41.593Z"
   },
   {
    "duration": 31,
    "start_time": "2023-02-13T16:51:42.144Z"
   },
   {
    "duration": 136,
    "start_time": "2023-02-13T16:52:05.208Z"
   },
   {
    "duration": 5,
    "start_time": "2023-02-13T16:52:21.609Z"
   },
   {
    "duration": 157,
    "start_time": "2023-02-13T16:52:21.770Z"
   },
   {
    "duration": 11,
    "start_time": "2023-02-13T16:52:21.930Z"
   },
   {
    "duration": 3,
    "start_time": "2023-02-13T16:52:22.082Z"
   },
   {
    "duration": 21,
    "start_time": "2023-02-13T16:52:22.239Z"
   },
   {
    "duration": 16,
    "start_time": "2023-02-13T16:52:22.408Z"
   },
   {
    "duration": 60,
    "start_time": "2023-02-13T16:52:22.600Z"
   },
   {
    "duration": 66,
    "start_time": "2023-02-13T16:52:22.798Z"
   },
   {
    "duration": 82,
    "start_time": "2023-02-13T16:52:23.129Z"
   },
   {
    "duration": 159,
    "start_time": "2023-02-13T16:52:23.408Z"
   },
   {
    "duration": 44,
    "start_time": "2023-02-13T16:52:24.175Z"
   },
   {
    "duration": 33,
    "start_time": "2023-02-13T16:52:24.935Z"
   },
   {
    "duration": 15,
    "start_time": "2023-02-13T16:52:26.744Z"
   },
   {
    "duration": 1608,
    "start_time": "2023-02-13T16:52:27.597Z"
   },
   {
    "duration": 0,
    "start_time": "2023-02-13T16:52:29.208Z"
   },
   {
    "duration": 9,
    "start_time": "2023-02-13T16:52:37.763Z"
   },
   {
    "duration": 7,
    "start_time": "2023-02-13T16:52:39.422Z"
   },
   {
    "duration": 8,
    "start_time": "2023-02-13T16:53:03.511Z"
   },
   {
    "duration": 13,
    "start_time": "2023-02-13T16:53:42.370Z"
   },
   {
    "duration": 321,
    "start_time": "2023-02-13T16:53:53.262Z"
   },
   {
    "duration": 247,
    "start_time": "2023-02-13T16:53:58.626Z"
   },
   {
    "duration": 11,
    "start_time": "2023-02-13T16:54:41.777Z"
   },
   {
    "duration": 63,
    "start_time": "2023-02-13T16:54:46.276Z"
   },
   {
    "duration": 6,
    "start_time": "2023-02-13T16:59:49.875Z"
   },
   {
    "duration": 210,
    "start_time": "2023-02-13T16:59:50.012Z"
   },
   {
    "duration": 15,
    "start_time": "2023-02-13T16:59:50.224Z"
   },
   {
    "duration": 7,
    "start_time": "2023-02-13T16:59:50.345Z"
   },
   {
    "duration": 77,
    "start_time": "2023-02-13T16:59:50.501Z"
   },
   {
    "duration": 20,
    "start_time": "2023-02-13T16:59:50.660Z"
   },
   {
    "duration": 58,
    "start_time": "2023-02-13T16:59:50.851Z"
   },
   {
    "duration": 91,
    "start_time": "2023-02-13T16:59:51.019Z"
   },
   {
    "duration": 89,
    "start_time": "2023-02-13T16:59:51.202Z"
   },
   {
    "duration": 230,
    "start_time": "2023-02-13T16:59:51.387Z"
   },
   {
    "duration": 75,
    "start_time": "2023-02-13T16:59:51.621Z"
   },
   {
    "duration": 51,
    "start_time": "2023-02-13T16:59:51.754Z"
   },
   {
    "duration": 17,
    "start_time": "2023-02-13T16:59:52.296Z"
   },
   {
    "duration": 10,
    "start_time": "2023-02-13T16:59:52.666Z"
   },
   {
    "duration": 6,
    "start_time": "2023-02-13T16:59:53.090Z"
   },
   {
    "duration": 8,
    "start_time": "2023-02-13T16:59:53.522Z"
   },
   {
    "duration": 267,
    "start_time": "2023-02-13T16:59:53.925Z"
   },
   {
    "duration": 78,
    "start_time": "2023-02-13T16:59:54.483Z"
   },
   {
    "duration": 81,
    "start_time": "2023-02-13T17:00:45.002Z"
   },
   {
    "duration": 10,
    "start_time": "2023-02-13T17:01:08.380Z"
   },
   {
    "duration": 7,
    "start_time": "2023-02-13T17:01:24.647Z"
   },
   {
    "duration": 13,
    "start_time": "2023-02-13T17:01:25.072Z"
   },
   {
    "duration": 369,
    "start_time": "2023-02-13T17:01:25.255Z"
   },
   {
    "duration": 68,
    "start_time": "2023-02-13T17:01:25.649Z"
   },
   {
    "duration": 1315,
    "start_time": "2023-02-13T17:01:45.175Z"
   },
   {
    "duration": 14,
    "start_time": "2023-02-13T17:02:05.174Z"
   },
   {
    "duration": 22,
    "start_time": "2023-02-13T17:02:18.640Z"
   },
   {
    "duration": 22,
    "start_time": "2023-02-13T17:03:03.675Z"
   },
   {
    "duration": 33,
    "start_time": "2023-02-13T17:03:34.354Z"
   },
   {
    "duration": 26,
    "start_time": "2023-02-13T17:03:40.531Z"
   },
   {
    "duration": 16,
    "start_time": "2023-02-13T17:03:57.682Z"
   },
   {
    "duration": 15,
    "start_time": "2023-02-13T17:04:17.777Z"
   },
   {
    "duration": 17,
    "start_time": "2023-02-13T17:04:26.350Z"
   },
   {
    "duration": 17,
    "start_time": "2023-02-13T17:06:09.423Z"
   },
   {
    "duration": 15,
    "start_time": "2023-02-13T17:07:04.738Z"
   },
   {
    "duration": 11,
    "start_time": "2023-02-13T17:07:23.009Z"
   },
   {
    "duration": 10,
    "start_time": "2023-02-13T17:08:23.901Z"
   },
   {
    "duration": 8,
    "start_time": "2023-02-13T17:08:30.878Z"
   },
   {
    "duration": 6,
    "start_time": "2023-02-13T17:08:39.289Z"
   },
   {
    "duration": 242,
    "start_time": "2023-02-13T17:08:39.457Z"
   },
   {
    "duration": 17,
    "start_time": "2023-02-13T17:08:39.703Z"
   },
   {
    "duration": 4,
    "start_time": "2023-02-13T17:08:39.769Z"
   },
   {
    "duration": 37,
    "start_time": "2023-02-13T17:08:39.921Z"
   },
   {
    "duration": 31,
    "start_time": "2023-02-13T17:08:40.081Z"
   },
   {
    "duration": 72,
    "start_time": "2023-02-13T17:08:40.242Z"
   },
   {
    "duration": 63,
    "start_time": "2023-02-13T17:08:40.410Z"
   },
   {
    "duration": 63,
    "start_time": "2023-02-13T17:08:40.561Z"
   },
   {
    "duration": 207,
    "start_time": "2023-02-13T17:08:40.730Z"
   },
   {
    "duration": 79,
    "start_time": "2023-02-13T17:08:40.939Z"
   },
   {
    "duration": 34,
    "start_time": "2023-02-13T17:08:41.057Z"
   },
   {
    "duration": 20,
    "start_time": "2023-02-13T17:08:41.551Z"
   },
   {
    "duration": 14,
    "start_time": "2023-02-13T17:08:42.079Z"
   },
   {
    "duration": 6,
    "start_time": "2023-02-13T17:08:42.464Z"
   },
   {
    "duration": 9,
    "start_time": "2023-02-13T17:08:42.839Z"
   },
   {
    "duration": 304,
    "start_time": "2023-02-13T17:08:43.632Z"
   },
   {
    "duration": 87,
    "start_time": "2023-02-13T17:08:44.135Z"
   },
   {
    "duration": 93,
    "start_time": "2023-02-13T17:10:09.814Z"
   },
   {
    "duration": 97,
    "start_time": "2023-02-13T17:10:23.407Z"
   },
   {
    "duration": 13,
    "start_time": "2023-02-13T17:10:35.916Z"
   },
   {
    "duration": 11,
    "start_time": "2023-02-13T17:10:40.353Z"
   },
   {
    "duration": 26,
    "start_time": "2023-02-13T17:10:44.424Z"
   },
   {
    "duration": 10,
    "start_time": "2023-02-13T17:10:54.044Z"
   },
   {
    "duration": 70,
    "start_time": "2023-02-13T17:11:31.909Z"
   },
   {
    "duration": 4,
    "start_time": "2023-02-13T17:13:10.980Z"
   },
   {
    "duration": 175,
    "start_time": "2023-02-13T17:13:11.242Z"
   },
   {
    "duration": 12,
    "start_time": "2023-02-13T17:13:11.421Z"
   },
   {
    "duration": 3,
    "start_time": "2023-02-13T17:13:11.589Z"
   },
   {
    "duration": 20,
    "start_time": "2023-02-13T17:13:11.783Z"
   },
   {
    "duration": 18,
    "start_time": "2023-02-13T17:13:12.069Z"
   },
   {
    "duration": 61,
    "start_time": "2023-02-13T17:13:12.342Z"
   },
   {
    "duration": 58,
    "start_time": "2023-02-13T17:13:12.652Z"
   },
   {
    "duration": 64,
    "start_time": "2023-02-13T17:13:12.942Z"
   },
   {
    "duration": 148,
    "start_time": "2023-02-13T17:13:13.261Z"
   },
   {
    "duration": 51,
    "start_time": "2023-02-13T17:13:13.547Z"
   },
   {
    "duration": 55,
    "start_time": "2023-02-13T17:13:13.787Z"
   },
   {
    "duration": 16,
    "start_time": "2023-02-13T17:13:14.746Z"
   },
   {
    "duration": 9,
    "start_time": "2023-02-13T17:13:15.298Z"
   },
   {
    "duration": 5,
    "start_time": "2023-02-13T17:13:15.742Z"
   },
   {
    "duration": 12,
    "start_time": "2023-02-13T17:13:16.166Z"
   },
   {
    "duration": 349,
    "start_time": "2023-02-13T17:13:16.387Z"
   },
   {
    "duration": 57,
    "start_time": "2023-02-13T17:13:16.739Z"
   },
   {
    "duration": 15,
    "start_time": "2023-02-13T17:13:17.250Z"
   },
   {
    "duration": 13,
    "start_time": "2023-02-13T17:13:17.914Z"
   },
   {
    "duration": 69,
    "start_time": "2023-02-13T17:13:18.896Z"
   },
   {
    "duration": 1334,
    "start_time": "2023-02-14T15:21:08.484Z"
   },
   {
    "duration": 663,
    "start_time": "2023-02-14T15:21:09.820Z"
   },
   {
    "duration": 13,
    "start_time": "2023-02-14T15:21:10.485Z"
   },
   {
    "duration": 10,
    "start_time": "2023-02-14T15:21:10.500Z"
   },
   {
    "duration": 23,
    "start_time": "2023-02-14T15:21:10.512Z"
   },
   {
    "duration": 15,
    "start_time": "2023-02-14T15:21:10.537Z"
   },
   {
    "duration": 80,
    "start_time": "2023-02-14T15:21:10.554Z"
   },
   {
    "duration": 78,
    "start_time": "2023-02-14T15:21:10.636Z"
   },
   {
    "duration": 71,
    "start_time": "2023-02-14T15:21:10.715Z"
   },
   {
    "duration": 141,
    "start_time": "2023-02-14T15:21:10.788Z"
   },
   {
    "duration": 36,
    "start_time": "2023-02-14T15:21:10.930Z"
   },
   {
    "duration": 36,
    "start_time": "2023-02-14T15:21:10.967Z"
   },
   {
    "duration": 10,
    "start_time": "2023-02-14T15:21:11.266Z"
   },
   {
    "duration": 10,
    "start_time": "2023-02-14T15:21:11.642Z"
   },
   {
    "duration": 91,
    "start_time": "2023-02-14T15:21:12.041Z"
   },
   {
    "duration": 9,
    "start_time": "2023-02-14T15:21:12.476Z"
   },
   {
    "duration": 297,
    "start_time": "2023-02-14T15:21:12.682Z"
   },
   {
    "duration": 60,
    "start_time": "2023-02-14T15:21:12.980Z"
   },
   {
    "duration": 13,
    "start_time": "2023-02-14T15:21:13.607Z"
   },
   {
    "duration": 11,
    "start_time": "2023-02-14T15:21:14.275Z"
   },
   {
    "duration": 55,
    "start_time": "2023-02-14T15:21:15.008Z"
   },
   {
    "duration": 12,
    "start_time": "2023-02-14T15:22:47.083Z"
   },
   {
    "duration": 21,
    "start_time": "2023-02-14T15:22:59.741Z"
   },
   {
    "duration": 21,
    "start_time": "2023-02-14T15:23:16.016Z"
   },
   {
    "duration": 19,
    "start_time": "2023-02-14T15:23:25.100Z"
   },
   {
    "duration": 13,
    "start_time": "2023-02-14T15:32:51.248Z"
   },
   {
    "duration": 25,
    "start_time": "2023-02-14T15:33:10.031Z"
   },
   {
    "duration": 68,
    "start_time": "2023-02-14T15:33:26.589Z"
   },
   {
    "duration": 1890,
    "start_time": "2023-02-14T15:33:45.356Z"
   },
   {
    "duration": 11,
    "start_time": "2023-02-14T15:34:59.858Z"
   },
   {
    "duration": 13,
    "start_time": "2023-02-14T15:35:17.752Z"
   },
   {
    "duration": 70,
    "start_time": "2023-02-14T15:35:27.566Z"
   },
   {
    "duration": 60,
    "start_time": "2023-02-14T15:35:58.597Z"
   },
   {
    "duration": 260,
    "start_time": "2023-02-14T15:40:03.717Z"
   },
   {
    "duration": 87,
    "start_time": "2023-02-14T15:40:58.100Z"
   },
   {
    "duration": 206,
    "start_time": "2023-02-14T15:41:04.143Z"
   },
   {
    "duration": 12,
    "start_time": "2023-02-14T15:41:23.294Z"
   },
   {
    "duration": 9,
    "start_time": "2023-02-14T15:42:11.218Z"
   },
   {
    "duration": 152,
    "start_time": "2023-02-14T15:42:12.643Z"
   },
   {
    "duration": 11,
    "start_time": "2023-02-14T15:42:12.797Z"
   },
   {
    "duration": 4,
    "start_time": "2023-02-14T15:42:12.932Z"
   },
   {
    "duration": 19,
    "start_time": "2023-02-14T15:42:13.099Z"
   },
   {
    "duration": 18,
    "start_time": "2023-02-14T15:42:13.258Z"
   },
   {
    "duration": 82,
    "start_time": "2023-02-14T15:42:13.411Z"
   },
   {
    "duration": 69,
    "start_time": "2023-02-14T15:42:13.569Z"
   },
   {
    "duration": 71,
    "start_time": "2023-02-14T15:42:13.739Z"
   },
   {
    "duration": 206,
    "start_time": "2023-02-14T15:42:13.916Z"
   },
   {
    "duration": 46,
    "start_time": "2023-02-14T15:42:14.124Z"
   },
   {
    "duration": 37,
    "start_time": "2023-02-14T15:42:14.249Z"
   },
   {
    "duration": 13,
    "start_time": "2023-02-14T15:42:14.745Z"
   },
   {
    "duration": 12,
    "start_time": "2023-02-14T15:42:15.072Z"
   },
   {
    "duration": 14,
    "start_time": "2023-02-14T15:42:15.436Z"
   },
   {
    "duration": 11,
    "start_time": "2023-02-14T15:42:15.784Z"
   },
   {
    "duration": 342,
    "start_time": "2023-02-14T15:42:15.969Z"
   },
   {
    "duration": 62,
    "start_time": "2023-02-14T15:42:16.313Z"
   },
   {
    "duration": 16,
    "start_time": "2023-02-14T15:42:16.544Z"
   },
   {
    "duration": 16,
    "start_time": "2023-02-14T15:42:16.967Z"
   },
   {
    "duration": 86,
    "start_time": "2023-02-14T15:42:17.428Z"
   },
   {
    "duration": 20,
    "start_time": "2023-02-14T15:42:18.153Z"
   },
   {
    "duration": 74,
    "start_time": "2023-02-14T15:42:18.593Z"
   },
   {
    "duration": 247,
    "start_time": "2023-02-14T15:42:19.447Z"
   },
   {
    "duration": 229,
    "start_time": "2023-02-14T15:42:20.311Z"
   },
   {
    "duration": 273,
    "start_time": "2023-02-14T15:50:53.302Z"
   },
   {
    "duration": 6,
    "start_time": "2023-02-14T15:51:09.746Z"
   },
   {
    "duration": 12,
    "start_time": "2023-02-14T15:52:01.174Z"
   },
   {
    "duration": 10,
    "start_time": "2023-02-14T15:54:33.749Z"
   },
   {
    "duration": 11,
    "start_time": "2023-02-14T15:54:52.458Z"
   },
   {
    "duration": 470,
    "start_time": "2023-02-14T16:05:15.361Z"
   },
   {
    "duration": 4,
    "start_time": "2023-02-14T16:05:20.327Z"
   },
   {
    "duration": 152,
    "start_time": "2023-02-14T16:05:20.508Z"
   },
   {
    "duration": 10,
    "start_time": "2023-02-14T16:05:20.684Z"
   },
   {
    "duration": 19,
    "start_time": "2023-02-14T16:05:20.862Z"
   },
   {
    "duration": 41,
    "start_time": "2023-02-14T16:05:21.287Z"
   },
   {
    "duration": 64,
    "start_time": "2023-02-14T16:05:21.801Z"
   },
   {
    "duration": 3,
    "start_time": "2023-02-14T16:05:22.359Z"
   },
   {
    "duration": 69,
    "start_time": "2023-02-14T16:05:25.684Z"
   },
   {
    "duration": 5,
    "start_time": "2023-02-14T16:06:08.149Z"
   },
   {
    "duration": 159,
    "start_time": "2023-02-14T16:06:08.326Z"
   },
   {
    "duration": 29,
    "start_time": "2023-02-14T16:06:08.487Z"
   },
   {
    "duration": 20,
    "start_time": "2023-02-14T16:06:08.653Z"
   },
   {
    "duration": 23,
    "start_time": "2023-02-14T16:06:08.898Z"
   },
   {
    "duration": 83,
    "start_time": "2023-02-14T16:06:09.210Z"
   },
   {
    "duration": 3,
    "start_time": "2023-02-14T16:06:10.317Z"
   },
   {
    "duration": 78,
    "start_time": "2023-02-14T16:06:10.548Z"
   },
   {
    "duration": 98,
    "start_time": "2023-02-14T16:06:10.772Z"
   },
   {
    "duration": 134,
    "start_time": "2023-02-14T16:06:10.995Z"
   },
   {
    "duration": 64,
    "start_time": "2023-02-14T16:06:11.250Z"
   },
   {
    "duration": 32,
    "start_time": "2023-02-14T16:06:11.474Z"
   },
   {
    "duration": 15,
    "start_time": "2023-02-14T16:06:12.363Z"
   },
   {
    "duration": 10,
    "start_time": "2023-02-14T16:06:13.347Z"
   },
   {
    "duration": 12,
    "start_time": "2023-02-14T16:06:13.763Z"
   },
   {
    "duration": 10,
    "start_time": "2023-02-14T16:06:14.809Z"
   },
   {
    "duration": 358,
    "start_time": "2023-02-14T16:06:14.993Z"
   },
   {
    "duration": 4,
    "start_time": "2023-02-14T16:06:44.469Z"
   },
   {
    "duration": 139,
    "start_time": "2023-02-14T16:06:44.628Z"
   },
   {
    "duration": 11,
    "start_time": "2023-02-14T16:06:44.780Z"
   },
   {
    "duration": 18,
    "start_time": "2023-02-14T16:06:44.932Z"
   },
   {
    "duration": 19,
    "start_time": "2023-02-14T16:06:45.087Z"
   },
   {
    "duration": 58,
    "start_time": "2023-02-14T16:06:45.260Z"
   },
   {
    "duration": 6,
    "start_time": "2023-02-14T16:06:45.796Z"
   },
   {
    "duration": 56,
    "start_time": "2023-02-14T16:06:46.140Z"
   },
   {
    "duration": 59,
    "start_time": "2023-02-14T16:06:46.558Z"
   },
   {
    "duration": 148,
    "start_time": "2023-02-14T16:06:47.165Z"
   },
   {
    "duration": 43,
    "start_time": "2023-02-14T16:06:47.773Z"
   },
   {
    "duration": 53,
    "start_time": "2023-02-14T16:06:48.197Z"
   },
   {
    "duration": 19,
    "start_time": "2023-02-14T16:06:49.835Z"
   },
   {
    "duration": 10,
    "start_time": "2023-02-14T16:06:51.371Z"
   },
   {
    "duration": 10,
    "start_time": "2023-02-14T16:06:52.164Z"
   },
   {
    "duration": 9,
    "start_time": "2023-02-14T16:06:58.768Z"
   },
   {
    "duration": 6,
    "start_time": "2023-02-14T16:07:03.016Z"
   },
   {
    "duration": 11,
    "start_time": "2023-02-14T16:07:06.765Z"
   },
   {
    "duration": 10,
    "start_time": "2023-02-14T16:07:33.260Z"
   },
   {
    "duration": 315,
    "start_time": "2023-02-14T16:07:53.318Z"
   },
   {
    "duration": 69,
    "start_time": "2023-02-14T16:07:53.868Z"
   },
   {
    "duration": 15,
    "start_time": "2023-02-14T16:08:01.918Z"
   },
   {
    "duration": 15,
    "start_time": "2023-02-14T16:08:03.399Z"
   },
   {
    "duration": 60,
    "start_time": "2023-02-14T16:08:05.165Z"
   },
   {
    "duration": 22,
    "start_time": "2023-02-14T16:08:06.818Z"
   },
   {
    "duration": 62,
    "start_time": "2023-02-14T16:08:07.454Z"
   },
   {
    "duration": 170,
    "start_time": "2023-02-14T16:08:10.501Z"
   },
   {
    "duration": 5,
    "start_time": "2023-02-14T16:08:11.954Z"
   },
   {
    "duration": 15,
    "start_time": "2023-02-14T16:08:13.413Z"
   },
   {
    "duration": 1373,
    "start_time": "2023-02-15T16:34:05.582Z"
   },
   {
    "duration": 687,
    "start_time": "2023-02-15T16:34:06.957Z"
   },
   {
    "duration": 16,
    "start_time": "2023-02-15T16:34:07.646Z"
   },
   {
    "duration": 32,
    "start_time": "2023-02-15T16:34:07.664Z"
   },
   {
    "duration": 16,
    "start_time": "2023-02-15T16:34:07.697Z"
   },
   {
    "duration": 89,
    "start_time": "2023-02-15T16:34:07.715Z"
   },
   {
    "duration": 3,
    "start_time": "2023-02-15T16:34:07.806Z"
   },
   {
    "duration": 97,
    "start_time": "2023-02-15T16:34:07.810Z"
   },
   {
    "duration": 88,
    "start_time": "2023-02-15T16:34:07.908Z"
   },
   {
    "duration": 135,
    "start_time": "2023-02-15T16:34:07.999Z"
   },
   {
    "duration": 59,
    "start_time": "2023-02-15T16:34:08.136Z"
   },
   {
    "duration": 30,
    "start_time": "2023-02-15T16:34:08.197Z"
   },
   {
    "duration": 13,
    "start_time": "2023-02-15T16:34:08.484Z"
   },
   {
    "duration": 12,
    "start_time": "2023-02-15T16:34:08.859Z"
   },
   {
    "duration": 5,
    "start_time": "2023-02-15T16:34:09.220Z"
   },
   {
    "duration": 10,
    "start_time": "2023-02-15T16:34:09.571Z"
   },
   {
    "duration": 335,
    "start_time": "2023-02-15T16:34:09.739Z"
   },
   {
    "duration": 60,
    "start_time": "2023-02-15T16:34:10.076Z"
   },
   {
    "duration": 15,
    "start_time": "2023-02-15T16:34:10.250Z"
   },
   {
    "duration": 12,
    "start_time": "2023-02-15T16:34:10.590Z"
   },
   {
    "duration": 64,
    "start_time": "2023-02-15T16:34:11.008Z"
   },
   {
    "duration": 24,
    "start_time": "2023-02-15T16:34:11.575Z"
   },
   {
    "duration": 57,
    "start_time": "2023-02-15T16:34:11.940Z"
   },
   {
    "duration": 175,
    "start_time": "2023-02-15T16:34:12.328Z"
   },
   {
    "duration": 5,
    "start_time": "2023-02-15T16:34:13.235Z"
   },
   {
    "duration": 178,
    "start_time": "2023-02-15T16:34:14.196Z"
   },
   {
    "duration": 70,
    "start_time": "2023-02-15T16:36:31.533Z"
   },
   {
    "duration": 56,
    "start_time": "2023-02-15T16:41:06.479Z"
   },
   {
    "duration": 126,
    "start_time": "2023-02-15T16:48:48.350Z"
   },
   {
    "duration": 130,
    "start_time": "2023-02-15T16:49:09.925Z"
   },
   {
    "duration": 119,
    "start_time": "2023-02-15T16:49:22.964Z"
   },
   {
    "duration": 122,
    "start_time": "2023-02-15T16:50:02.513Z"
   },
   {
    "duration": 114,
    "start_time": "2023-02-15T16:50:11.162Z"
   },
   {
    "duration": 9,
    "start_time": "2023-02-15T16:52:21.715Z"
   },
   {
    "duration": 7,
    "start_time": "2023-02-15T16:52:29.134Z"
   },
   {
    "duration": 11,
    "start_time": "2023-02-15T16:53:15.267Z"
   },
   {
    "duration": 123,
    "start_time": "2023-02-15T16:54:54.744Z"
   },
   {
    "duration": 5,
    "start_time": "2023-02-15T16:55:46.418Z"
   },
   {
    "duration": 14,
    "start_time": "2023-02-15T16:56:02.862Z"
   },
   {
    "duration": 5,
    "start_time": "2023-02-15T16:56:34.564Z"
   },
   {
    "duration": 167,
    "start_time": "2023-02-15T16:56:35.119Z"
   },
   {
    "duration": 11,
    "start_time": "2023-02-15T16:56:35.301Z"
   },
   {
    "duration": 19,
    "start_time": "2023-02-15T16:56:35.460Z"
   },
   {
    "duration": 19,
    "start_time": "2023-02-15T16:56:35.616Z"
   },
   {
    "duration": 60,
    "start_time": "2023-02-15T16:56:35.775Z"
   },
   {
    "duration": 3,
    "start_time": "2023-02-15T16:56:36.096Z"
   },
   {
    "duration": 53,
    "start_time": "2023-02-15T16:56:36.263Z"
   },
   {
    "duration": 55,
    "start_time": "2023-02-15T16:56:36.422Z"
   },
   {
    "duration": 126,
    "start_time": "2023-02-15T16:56:36.602Z"
   },
   {
    "duration": 46,
    "start_time": "2023-02-15T16:56:36.742Z"
   },
   {
    "duration": 28,
    "start_time": "2023-02-15T16:56:36.909Z"
   },
   {
    "duration": 14,
    "start_time": "2023-02-15T16:56:37.395Z"
   },
   {
    "duration": 7,
    "start_time": "2023-02-15T16:56:37.710Z"
   },
   {
    "duration": 5,
    "start_time": "2023-02-15T16:56:38.029Z"
   },
   {
    "duration": 10,
    "start_time": "2023-02-15T16:56:38.361Z"
   },
   {
    "duration": 294,
    "start_time": "2023-02-15T16:56:38.525Z"
   },
   {
    "duration": 62,
    "start_time": "2023-02-15T16:56:38.821Z"
   },
   {
    "duration": 13,
    "start_time": "2023-02-15T16:56:39.066Z"
   },
   {
    "duration": 9,
    "start_time": "2023-02-15T16:56:39.405Z"
   },
   {
    "duration": 83,
    "start_time": "2023-02-15T16:56:39.778Z"
   },
   {
    "duration": 30,
    "start_time": "2023-02-15T16:56:40.332Z"
   },
   {
    "duration": 61,
    "start_time": "2023-02-15T16:56:40.694Z"
   },
   {
    "duration": 164,
    "start_time": "2023-02-15T16:56:41.063Z"
   },
   {
    "duration": 4,
    "start_time": "2023-02-15T16:56:41.421Z"
   },
   {
    "duration": 10,
    "start_time": "2023-02-15T16:56:41.621Z"
   },
   {
    "duration": 80,
    "start_time": "2023-02-15T16:56:42.532Z"
   },
   {
    "duration": 52,
    "start_time": "2023-02-15T16:56:43.182Z"
   },
   {
    "duration": 127,
    "start_time": "2023-02-15T16:56:44.036Z"
   },
   {
    "duration": 5,
    "start_time": "2023-02-15T16:56:45.010Z"
   },
   {
    "duration": 4,
    "start_time": "2023-02-15T16:56:45.723Z"
   },
   {
    "duration": 5,
    "start_time": "2023-02-15T16:57:03.914Z"
   },
   {
    "duration": 5,
    "start_time": "2023-02-15T16:57:12.710Z"
   },
   {
    "duration": 8,
    "start_time": "2023-02-15T16:57:24.883Z"
   },
   {
    "duration": 129,
    "start_time": "2023-02-15T17:01:14.697Z"
   },
   {
    "duration": 5,
    "start_time": "2023-02-15T17:01:16.400Z"
   },
   {
    "duration": 7,
    "start_time": "2023-02-15T17:01:17.598Z"
   },
   {
    "duration": 115,
    "start_time": "2023-02-15T17:03:09.274Z"
   },
   {
    "duration": 8,
    "start_time": "2023-02-15T17:08:04.867Z"
   },
   {
    "duration": 9,
    "start_time": "2023-02-15T17:08:20.466Z"
   },
   {
    "duration": 8,
    "start_time": "2023-02-15T17:08:40.764Z"
   },
   {
    "duration": 3,
    "start_time": "2023-02-15T17:09:36.799Z"
   },
   {
    "duration": 8,
    "start_time": "2023-02-15T17:13:14.028Z"
   },
   {
    "duration": 98,
    "start_time": "2023-02-15T17:13:58.935Z"
   },
   {
    "duration": 7,
    "start_time": "2023-02-15T17:15:02.420Z"
   },
   {
    "duration": 7,
    "start_time": "2023-02-15T17:15:02.911Z"
   },
   {
    "duration": 9,
    "start_time": "2023-02-15T17:15:04.271Z"
   },
   {
    "duration": 7,
    "start_time": "2023-02-15T17:18:32.629Z"
   },
   {
    "duration": 4,
    "start_time": "2023-02-15T17:25:53.406Z"
   },
   {
    "duration": 160,
    "start_time": "2023-02-15T17:25:53.726Z"
   },
   {
    "duration": 10,
    "start_time": "2023-02-15T17:25:54.091Z"
   },
   {
    "duration": 19,
    "start_time": "2023-02-15T17:25:54.377Z"
   },
   {
    "duration": 15,
    "start_time": "2023-02-15T17:25:54.658Z"
   },
   {
    "duration": 67,
    "start_time": "2023-02-15T17:25:54.985Z"
   },
   {
    "duration": 3,
    "start_time": "2023-02-15T17:25:55.721Z"
   },
   {
    "duration": 75,
    "start_time": "2023-02-15T17:25:56.108Z"
   },
   {
    "duration": 54,
    "start_time": "2023-02-15T17:25:56.492Z"
   },
   {
    "duration": 125,
    "start_time": "2023-02-15T17:25:56.795Z"
   },
   {
    "duration": 38,
    "start_time": "2023-02-15T17:25:57.210Z"
   },
   {
    "duration": 28,
    "start_time": "2023-02-15T17:25:57.585Z"
   },
   {
    "duration": 16,
    "start_time": "2023-02-15T17:25:58.633Z"
   },
   {
    "duration": 8,
    "start_time": "2023-02-15T17:25:59.111Z"
   },
   {
    "duration": 4,
    "start_time": "2023-02-15T17:25:59.512Z"
   },
   {
    "duration": 8,
    "start_time": "2023-02-15T17:25:59.872Z"
   },
   {
    "duration": 278,
    "start_time": "2023-02-15T17:26:00.164Z"
   },
   {
    "duration": 58,
    "start_time": "2023-02-15T17:26:00.462Z"
   },
   {
    "duration": 24,
    "start_time": "2023-02-15T17:26:01.954Z"
   },
   {
    "duration": 11,
    "start_time": "2023-02-15T17:26:02.762Z"
   },
   {
    "duration": 63,
    "start_time": "2023-02-15T17:26:03.936Z"
   },
   {
    "duration": 38,
    "start_time": "2023-02-15T17:26:05.295Z"
   },
   {
    "duration": 62,
    "start_time": "2023-02-15T17:26:06.045Z"
   },
   {
    "duration": 232,
    "start_time": "2023-02-15T17:26:06.693Z"
   },
   {
    "duration": 5,
    "start_time": "2023-02-15T17:26:07.492Z"
   },
   {
    "duration": 11,
    "start_time": "2023-02-15T17:26:07.967Z"
   },
   {
    "duration": 388,
    "start_time": "2023-02-15T17:26:09.934Z"
   },
   {
    "duration": 6,
    "start_time": "2023-02-15T17:26:50.727Z"
   },
   {
    "duration": 184,
    "start_time": "2023-02-15T17:26:50.908Z"
   },
   {
    "duration": 11,
    "start_time": "2023-02-15T17:26:51.094Z"
   },
   {
    "duration": 29,
    "start_time": "2023-02-15T17:26:51.236Z"
   },
   {
    "duration": 26,
    "start_time": "2023-02-15T17:26:51.406Z"
   },
   {
    "duration": 51,
    "start_time": "2023-02-15T17:26:51.580Z"
   },
   {
    "duration": 3,
    "start_time": "2023-02-15T17:26:52.067Z"
   },
   {
    "duration": 80,
    "start_time": "2023-02-15T17:26:52.315Z"
   },
   {
    "duration": 73,
    "start_time": "2023-02-15T17:26:52.605Z"
   },
   {
    "duration": 141,
    "start_time": "2023-02-15T17:26:52.837Z"
   },
   {
    "duration": 48,
    "start_time": "2023-02-15T17:26:53.083Z"
   },
   {
    "duration": 28,
    "start_time": "2023-02-15T17:26:53.603Z"
   },
   {
    "duration": 14,
    "start_time": "2023-02-15T17:26:54.690Z"
   },
   {
    "duration": 8,
    "start_time": "2023-02-15T17:26:55.128Z"
   },
   {
    "duration": 8,
    "start_time": "2023-02-15T17:26:55.555Z"
   },
   {
    "duration": 8,
    "start_time": "2023-02-15T17:26:56.200Z"
   },
   {
    "duration": 304,
    "start_time": "2023-02-15T17:26:56.754Z"
   },
   {
    "duration": 54,
    "start_time": "2023-02-15T17:26:57.157Z"
   },
   {
    "duration": 15,
    "start_time": "2023-02-15T17:26:58.401Z"
   },
   {
    "duration": 9,
    "start_time": "2023-02-15T17:26:59.216Z"
   },
   {
    "duration": 61,
    "start_time": "2023-02-15T17:27:00.087Z"
   },
   {
    "duration": 23,
    "start_time": "2023-02-15T17:27:02.479Z"
   },
   {
    "duration": 61,
    "start_time": "2023-02-15T17:27:05.147Z"
   },
   {
    "duration": 170,
    "start_time": "2023-02-15T17:27:07.551Z"
   },
   {
    "duration": 7,
    "start_time": "2023-02-15T17:27:10.386Z"
   },
   {
    "duration": 13,
    "start_time": "2023-02-15T17:27:11.734Z"
   },
   {
    "duration": 5,
    "start_time": "2023-02-15T17:27:20.814Z"
   },
   {
    "duration": 14,
    "start_time": "2023-02-15T17:27:21.207Z"
   },
   {
    "duration": 428,
    "start_time": "2023-02-15T17:27:24.163Z"
   },
   {
    "duration": 143,
    "start_time": "2023-02-15T17:28:05.659Z"
   },
   {
    "duration": 8,
    "start_time": "2023-02-15T17:28:09.085Z"
   },
   {
    "duration": 13,
    "start_time": "2023-02-15T17:28:09.837Z"
   },
   {
    "duration": 98,
    "start_time": "2023-02-15T17:28:13.635Z"
   },
   {
    "duration": 7,
    "start_time": "2023-02-15T17:28:19.571Z"
   },
   {
    "duration": 8,
    "start_time": "2023-02-15T17:28:21.065Z"
   },
   {
    "duration": 9,
    "start_time": "2023-02-15T17:28:22.303Z"
   },
   {
    "duration": 3,
    "start_time": "2023-02-15T17:28:23.551Z"
   },
   {
    "duration": 1491,
    "start_time": "2023-02-16T14:37:30.853Z"
   },
   {
    "duration": 1005,
    "start_time": "2023-02-16T14:37:32.348Z"
   },
   {
    "duration": 14,
    "start_time": "2023-02-16T14:37:33.355Z"
   },
   {
    "duration": 22,
    "start_time": "2023-02-16T14:37:33.372Z"
   },
   {
    "duration": 47,
    "start_time": "2023-02-16T14:37:33.396Z"
   },
   {
    "duration": 100,
    "start_time": "2023-02-16T14:37:33.448Z"
   },
   {
    "duration": 3,
    "start_time": "2023-02-16T14:37:33.551Z"
   },
   {
    "duration": 124,
    "start_time": "2023-02-16T14:37:33.558Z"
   },
   {
    "duration": 99,
    "start_time": "2023-02-16T14:37:33.684Z"
   },
   {
    "duration": 162,
    "start_time": "2023-02-16T14:37:33.786Z"
   },
   {
    "duration": 46,
    "start_time": "2023-02-16T14:37:33.949Z"
   },
   {
    "duration": 51,
    "start_time": "2023-02-16T14:37:33.997Z"
   },
   {
    "duration": 11,
    "start_time": "2023-02-16T14:37:34.057Z"
   },
   {
    "duration": 12,
    "start_time": "2023-02-16T14:37:34.270Z"
   },
   {
    "duration": 7,
    "start_time": "2023-02-16T14:37:34.654Z"
   },
   {
    "duration": 18,
    "start_time": "2023-02-16T14:37:35.038Z"
   },
   {
    "duration": 365,
    "start_time": "2023-02-16T14:37:35.269Z"
   },
   {
    "duration": 67,
    "start_time": "2023-02-16T14:37:35.635Z"
   },
   {
    "duration": 12,
    "start_time": "2023-02-16T14:37:35.885Z"
   },
   {
    "duration": 12,
    "start_time": "2023-02-16T14:37:36.253Z"
   },
   {
    "duration": 81,
    "start_time": "2023-02-16T14:37:36.642Z"
   },
   {
    "duration": 21,
    "start_time": "2023-02-16T14:37:37.183Z"
   },
   {
    "duration": 59,
    "start_time": "2023-02-16T14:37:37.548Z"
   },
   {
    "duration": 210,
    "start_time": "2023-02-16T14:37:37.941Z"
   },
   {
    "duration": 12,
    "start_time": "2023-02-16T14:37:38.335Z"
   },
   {
    "duration": 197,
    "start_time": "2023-02-16T14:37:38.532Z"
   },
   {
    "duration": 157,
    "start_time": "2023-02-16T14:37:39.638Z"
   },
   {
    "duration": 5,
    "start_time": "2023-02-16T14:37:40.386Z"
   },
   {
    "duration": 8,
    "start_time": "2023-02-16T14:37:40.858Z"
   },
   {
    "duration": 102,
    "start_time": "2023-02-16T14:37:41.466Z"
   },
   {
    "duration": 7,
    "start_time": "2023-02-16T14:37:42.156Z"
   },
   {
    "duration": 7,
    "start_time": "2023-02-16T14:37:42.545Z"
   },
   {
    "duration": 8,
    "start_time": "2023-02-16T14:37:42.849Z"
   },
   {
    "duration": 4,
    "start_time": "2023-02-16T14:37:43.185Z"
   },
   {
    "duration": 145,
    "start_time": "2023-02-16T14:43:24.036Z"
   },
   {
    "duration": 2201,
    "start_time": "2023-02-16T14:47:05.050Z"
   },
   {
    "duration": 2078,
    "start_time": "2023-02-16T14:48:46.072Z"
   },
   {
    "duration": 2162,
    "start_time": "2023-02-16T14:49:02.045Z"
   },
   {
    "duration": 2003,
    "start_time": "2023-02-16T14:49:20.547Z"
   },
   {
    "duration": 2142,
    "start_time": "2023-02-16T14:49:34.134Z"
   },
   {
    "duration": 7,
    "start_time": "2023-02-16T14:51:41.847Z"
   },
   {
    "duration": 5,
    "start_time": "2023-02-16T14:52:02.666Z"
   },
   {
    "duration": 8,
    "start_time": "2023-02-16T14:52:26.755Z"
   },
   {
    "duration": 16,
    "start_time": "2023-02-16T14:53:10.648Z"
   },
   {
    "duration": 12,
    "start_time": "2023-02-16T14:53:22.682Z"
   },
   {
    "duration": 35,
    "start_time": "2023-02-16T14:54:29.815Z"
   },
   {
    "duration": 117,
    "start_time": "2023-02-16T14:54:40.091Z"
   },
   {
    "duration": 79,
    "start_time": "2023-02-16T14:55:48.255Z"
   },
   {
    "duration": 140,
    "start_time": "2023-02-16T14:55:55.053Z"
   },
   {
    "duration": 11,
    "start_time": "2023-02-16T14:56:32.973Z"
   },
   {
    "duration": 63,
    "start_time": "2023-02-16T14:56:45.857Z"
   },
   {
    "duration": 93,
    "start_time": "2023-02-16T14:56:57.142Z"
   },
   {
    "duration": 119,
    "start_time": "2023-02-16T14:56:59.039Z"
   },
   {
    "duration": 7,
    "start_time": "2023-02-16T14:57:02.372Z"
   },
   {
    "duration": 6,
    "start_time": "2023-02-16T14:57:04.760Z"
   },
   {
    "duration": 26,
    "start_time": "2023-02-16T14:57:06.976Z"
   },
   {
    "duration": 9,
    "start_time": "2023-02-16T14:57:21.881Z"
   },
   {
    "duration": 12,
    "start_time": "2023-02-16T14:57:37.883Z"
   },
   {
    "duration": 11,
    "start_time": "2023-02-16T14:57:45.696Z"
   },
   {
    "duration": 13,
    "start_time": "2023-02-16T14:57:53.939Z"
   },
   {
    "duration": 8,
    "start_time": "2023-02-16T14:58:14.048Z"
   },
   {
    "duration": 84,
    "start_time": "2023-02-16T15:08:53.780Z"
   },
   {
    "duration": 150,
    "start_time": "2023-02-16T15:10:32.194Z"
   },
   {
    "duration": 36,
    "start_time": "2023-02-16T15:12:16.636Z"
   },
   {
    "duration": 5,
    "start_time": "2023-02-16T15:14:37.948Z"
   },
   {
    "duration": 4,
    "start_time": "2023-02-16T15:14:51.235Z"
   },
   {
    "duration": 4,
    "start_time": "2023-02-16T15:18:51.668Z"
   },
   {
    "duration": 105,
    "start_time": "2023-02-16T15:19:04.891Z"
   },
   {
    "duration": 103,
    "start_time": "2023-02-16T15:19:07.044Z"
   },
   {
    "duration": 69,
    "start_time": "2023-02-16T15:29:30.336Z"
   },
   {
    "duration": 81,
    "start_time": "2023-02-16T15:29:54.275Z"
   },
   {
    "duration": 135,
    "start_time": "2023-02-16T15:30:20.105Z"
   },
   {
    "duration": 12,
    "start_time": "2023-02-16T15:30:20.476Z"
   },
   {
    "duration": 21,
    "start_time": "2023-02-16T15:30:41.140Z"
   },
   {
    "duration": 12,
    "start_time": "2023-02-16T15:30:44.323Z"
   },
   {
    "duration": 6,
    "start_time": "2023-02-16T15:30:45.153Z"
   },
   {
    "duration": 16,
    "start_time": "2023-02-16T15:31:06.136Z"
   },
   {
    "duration": 135,
    "start_time": "2023-02-16T15:33:14.508Z"
   },
   {
    "duration": 4,
    "start_time": "2023-02-16T15:33:56.887Z"
   },
   {
    "duration": 3,
    "start_time": "2023-02-16T15:53:52.259Z"
   },
   {
    "duration": 203,
    "start_time": "2023-02-16T15:53:52.449Z"
   },
   {
    "duration": 11,
    "start_time": "2023-02-16T15:53:52.658Z"
   },
   {
    "duration": 18,
    "start_time": "2023-02-16T15:53:52.856Z"
   },
   {
    "duration": 20,
    "start_time": "2023-02-16T15:53:53.063Z"
   },
   {
    "duration": 102,
    "start_time": "2023-02-16T15:53:53.252Z"
   },
   {
    "duration": 3,
    "start_time": "2023-02-16T15:53:53.660Z"
   },
   {
    "duration": 83,
    "start_time": "2023-02-16T15:53:53.858Z"
   },
   {
    "duration": 103,
    "start_time": "2023-02-16T15:53:54.044Z"
   },
   {
    "duration": 152,
    "start_time": "2023-02-16T15:53:54.251Z"
   },
   {
    "duration": 41,
    "start_time": "2023-02-16T15:53:54.450Z"
   },
   {
    "duration": 64,
    "start_time": "2023-02-16T15:53:54.606Z"
   },
   {
    "duration": 12,
    "start_time": "2023-02-16T15:53:55.164Z"
   },
   {
    "duration": 11,
    "start_time": "2023-02-16T15:53:55.548Z"
   },
   {
    "duration": 6,
    "start_time": "2023-02-16T15:53:55.950Z"
   },
   {
    "duration": 13,
    "start_time": "2023-02-16T15:53:56.302Z"
   },
   {
    "duration": 321,
    "start_time": "2023-02-16T15:53:56.535Z"
   },
   {
    "duration": 56,
    "start_time": "2023-02-16T15:53:56.861Z"
   },
   {
    "duration": 43,
    "start_time": "2023-02-16T15:53:57.223Z"
   },
   {
    "duration": 8,
    "start_time": "2023-02-16T15:53:57.661Z"
   },
   {
    "duration": 98,
    "start_time": "2023-02-16T15:53:58.261Z"
   },
   {
    "duration": 34,
    "start_time": "2023-02-16T15:53:58.966Z"
   },
   {
    "duration": 71,
    "start_time": "2023-02-16T15:53:59.435Z"
   },
   {
    "duration": 181,
    "start_time": "2023-02-16T15:53:59.856Z"
   },
   {
    "duration": 5,
    "start_time": "2023-02-16T15:54:00.283Z"
   },
   {
    "duration": 112,
    "start_time": "2023-02-16T15:54:00.546Z"
   },
   {
    "duration": 86,
    "start_time": "2023-02-16T15:54:01.276Z"
   },
   {
    "duration": 78,
    "start_time": "2023-02-16T15:54:01.956Z"
   },
   {
    "duration": 113,
    "start_time": "2023-02-16T15:54:02.674Z"
   },
   {
    "duration": 33,
    "start_time": "2023-02-16T15:54:03.048Z"
   },
   {
    "duration": 8,
    "start_time": "2023-02-16T15:54:03.894Z"
   },
   {
    "duration": 6,
    "start_time": "2023-02-16T15:54:04.763Z"
   },
   {
    "duration": 19,
    "start_time": "2023-02-16T15:54:05.131Z"
   },
   {
    "duration": 8,
    "start_time": "2023-02-16T15:54:05.889Z"
   },
   {
    "duration": 9,
    "start_time": "2023-02-16T15:54:06.553Z"
   },
   {
    "duration": 11,
    "start_time": "2023-02-16T15:54:07.257Z"
   },
   {
    "duration": 4,
    "start_time": "2023-02-16T15:54:08.202Z"
   },
   {
    "duration": 1225,
    "start_time": "2023-02-16T21:26:01.666Z"
   },
   {
    "duration": 191,
    "start_time": "2023-02-16T21:26:02.893Z"
   },
   {
    "duration": 15,
    "start_time": "2023-02-16T21:26:03.086Z"
   },
   {
    "duration": 23,
    "start_time": "2023-02-16T21:26:03.104Z"
   },
   {
    "duration": 27,
    "start_time": "2023-02-16T21:26:03.157Z"
   },
   {
    "duration": 90,
    "start_time": "2023-02-16T21:26:03.186Z"
   },
   {
    "duration": 3,
    "start_time": "2023-02-16T21:26:03.278Z"
   },
   {
    "duration": 105,
    "start_time": "2023-02-16T21:26:03.283Z"
   },
   {
    "duration": 103,
    "start_time": "2023-02-16T21:26:03.390Z"
   },
   {
    "duration": 152,
    "start_time": "2023-02-16T21:26:03.497Z"
   },
   {
    "duration": 48,
    "start_time": "2023-02-16T21:26:03.651Z"
   },
   {
    "duration": 30,
    "start_time": "2023-02-16T21:26:03.701Z"
   },
   {
    "duration": 26,
    "start_time": "2023-02-16T21:26:03.749Z"
   },
   {
    "duration": 17,
    "start_time": "2023-02-16T21:26:03.777Z"
   },
   {
    "duration": 6,
    "start_time": "2023-02-16T21:26:03.796Z"
   },
   {
    "duration": 155,
    "start_time": "2023-02-16T21:26:03.804Z"
   },
   {
    "duration": 383,
    "start_time": "2023-02-16T21:26:03.961Z"
   },
   {
    "duration": 66,
    "start_time": "2023-02-16T21:26:04.345Z"
   },
   {
    "duration": 47,
    "start_time": "2023-02-16T21:26:04.413Z"
   },
   {
    "duration": 15,
    "start_time": "2023-02-16T21:26:04.465Z"
   },
   {
    "duration": 113,
    "start_time": "2023-02-16T21:26:04.483Z"
   },
   {
    "duration": 40,
    "start_time": "2023-02-16T21:26:04.598Z"
   },
   {
    "duration": 80,
    "start_time": "2023-02-16T21:26:04.649Z"
   },
   {
    "duration": 203,
    "start_time": "2023-02-16T21:26:04.731Z"
   },
   {
    "duration": 6,
    "start_time": "2023-02-16T21:26:04.937Z"
   },
   {
    "duration": 324,
    "start_time": "2023-02-16T21:26:04.948Z"
   },
   {
    "duration": 177,
    "start_time": "2023-02-16T21:26:05.274Z"
   },
   {
    "duration": 73,
    "start_time": "2023-02-16T21:26:05.456Z"
   },
   {
    "duration": 136,
    "start_time": "2023-02-16T21:26:05.530Z"
   },
   {
    "duration": 14,
    "start_time": "2023-02-16T21:26:05.668Z"
   },
   {
    "duration": 12,
    "start_time": "2023-02-16T21:26:05.684Z"
   },
   {
    "duration": 10,
    "start_time": "2023-02-16T21:26:05.698Z"
   },
   {
    "duration": 27,
    "start_time": "2023-02-16T21:26:05.710Z"
   },
   {
    "duration": 19,
    "start_time": "2023-02-16T21:26:05.739Z"
   },
   {
    "duration": 32,
    "start_time": "2023-02-16T21:26:05.760Z"
   },
   {
    "duration": 10,
    "start_time": "2023-02-16T21:26:05.794Z"
   },
   {
    "duration": 7,
    "start_time": "2023-02-16T21:26:05.806Z"
   },
   {
    "duration": 54,
    "start_time": "2023-02-17T14:35:01.669Z"
   },
   {
    "duration": 1506,
    "start_time": "2023-02-17T14:35:15.562Z"
   },
   {
    "duration": 607,
    "start_time": "2023-02-17T14:35:17.070Z"
   },
   {
    "duration": 17,
    "start_time": "2023-02-17T14:35:17.679Z"
   },
   {
    "duration": 30,
    "start_time": "2023-02-17T14:35:17.698Z"
   },
   {
    "duration": 28,
    "start_time": "2023-02-17T14:35:17.730Z"
   },
   {
    "duration": 81,
    "start_time": "2023-02-17T14:35:17.760Z"
   },
   {
    "duration": 13,
    "start_time": "2023-02-17T14:35:17.842Z"
   },
   {
    "duration": 102,
    "start_time": "2023-02-17T14:35:17.860Z"
   },
   {
    "duration": 96,
    "start_time": "2023-02-17T14:35:17.965Z"
   },
   {
    "duration": 149,
    "start_time": "2023-02-17T14:35:18.069Z"
   },
   {
    "duration": 58,
    "start_time": "2023-02-17T14:35:18.221Z"
   },
   {
    "duration": 34,
    "start_time": "2023-02-17T14:35:18.281Z"
   },
   {
    "duration": 15,
    "start_time": "2023-02-17T14:35:19.034Z"
   },
   {
    "duration": 14,
    "start_time": "2023-02-17T14:35:19.406Z"
   },
   {
    "duration": 5,
    "start_time": "2023-02-17T14:35:19.817Z"
   },
   {
    "duration": 12,
    "start_time": "2023-02-17T14:35:20.164Z"
   },
   {
    "duration": 364,
    "start_time": "2023-02-17T14:35:20.369Z"
   },
   {
    "duration": 66,
    "start_time": "2023-02-17T14:35:20.735Z"
   },
   {
    "duration": 17,
    "start_time": "2023-02-17T14:35:20.977Z"
   },
   {
    "duration": 15,
    "start_time": "2023-02-17T14:35:21.392Z"
   },
   {
    "duration": 82,
    "start_time": "2023-02-17T14:35:21.737Z"
   },
   {
    "duration": 44,
    "start_time": "2023-02-17T14:35:22.565Z"
   },
   {
    "duration": 66,
    "start_time": "2023-02-17T14:35:22.968Z"
   },
   {
    "duration": 201,
    "start_time": "2023-02-17T14:35:23.378Z"
   },
   {
    "duration": 7,
    "start_time": "2023-02-17T14:35:24.216Z"
   },
   {
    "duration": 216,
    "start_time": "2023-02-17T14:35:24.598Z"
   },
   {
    "duration": 94,
    "start_time": "2023-02-17T14:35:27.115Z"
   },
   {
    "duration": 91,
    "start_time": "2023-02-17T14:35:27.600Z"
   },
   {
    "duration": 49,
    "start_time": "2023-02-17T14:36:18.595Z"
   },
   {
    "duration": 54,
    "start_time": "2023-02-17T14:38:06.112Z"
   },
   {
    "duration": 14,
    "start_time": "2023-02-17T14:40:57.331Z"
   },
   {
    "duration": 6,
    "start_time": "2023-02-17T14:41:05.831Z"
   },
   {
    "duration": 179,
    "start_time": "2023-02-17T14:41:06.058Z"
   },
   {
    "duration": 13,
    "start_time": "2023-02-17T14:41:06.266Z"
   },
   {
    "duration": 21,
    "start_time": "2023-02-17T14:41:06.474Z"
   },
   {
    "duration": 18,
    "start_time": "2023-02-17T14:41:06.700Z"
   },
   {
    "duration": 59,
    "start_time": "2023-02-17T14:41:08.866Z"
   },
   {
    "duration": 4,
    "start_time": "2023-02-17T14:41:09.409Z"
   },
   {
    "duration": 70,
    "start_time": "2023-02-17T14:41:09.549Z"
   },
   {
    "duration": 69,
    "start_time": "2023-02-17T14:41:09.727Z"
   },
   {
    "duration": 159,
    "start_time": "2023-02-17T14:41:09.862Z"
   },
   {
    "duration": 73,
    "start_time": "2023-02-17T14:41:10.023Z"
   },
   {
    "duration": 44,
    "start_time": "2023-02-17T14:41:10.169Z"
   },
   {
    "duration": 22,
    "start_time": "2023-02-17T14:41:10.769Z"
   },
   {
    "duration": 9,
    "start_time": "2023-02-17T14:41:11.088Z"
   },
   {
    "duration": 5,
    "start_time": "2023-02-17T14:41:11.407Z"
   },
   {
    "duration": 11,
    "start_time": "2023-02-17T14:41:11.712Z"
   },
   {
    "duration": 323,
    "start_time": "2023-02-17T14:41:11.866Z"
   },
   {
    "duration": 78,
    "start_time": "2023-02-17T14:41:12.190Z"
   },
   {
    "duration": 15,
    "start_time": "2023-02-17T14:41:12.319Z"
   },
   {
    "duration": 12,
    "start_time": "2023-02-17T14:41:12.625Z"
   },
   {
    "duration": 69,
    "start_time": "2023-02-17T14:41:12.958Z"
   },
   {
    "duration": 26,
    "start_time": "2023-02-17T14:41:14.791Z"
   },
   {
    "duration": 89,
    "start_time": "2023-02-17T14:41:16.103Z"
   },
   {
    "duration": 251,
    "start_time": "2023-02-17T14:41:17.367Z"
   },
   {
    "duration": 7,
    "start_time": "2023-02-17T14:41:18.784Z"
   },
   {
    "duration": 10,
    "start_time": "2023-02-17T14:41:19.602Z"
   },
   {
    "duration": 61,
    "start_time": "2023-02-17T14:41:24.261Z"
   },
   {
    "duration": 79,
    "start_time": "2023-02-17T14:41:25.105Z"
   },
   {
    "duration": 72,
    "start_time": "2023-02-17T14:41:28.308Z"
   },
   {
    "duration": 112,
    "start_time": "2023-02-17T14:41:29.714Z"
   },
   {
    "duration": 18,
    "start_time": "2023-02-17T14:41:31.087Z"
   },
   {
    "duration": 8,
    "start_time": "2023-02-17T14:41:33.878Z"
   },
   {
    "duration": 17,
    "start_time": "2023-02-17T14:43:28.510Z"
   },
   {
    "duration": 17,
    "start_time": "2023-02-17T14:44:42.769Z"
   },
   {
    "duration": 7,
    "start_time": "2023-02-17T14:45:16.190Z"
   },
   {
    "duration": 10,
    "start_time": "2023-02-17T14:45:23.630Z"
   },
   {
    "duration": 10,
    "start_time": "2023-02-17T14:45:33.841Z"
   },
   {
    "duration": 10,
    "start_time": "2023-02-17T14:45:44.645Z"
   },
   {
    "duration": 8,
    "start_time": "2023-02-17T14:48:06.326Z"
   },
   {
    "duration": 8,
    "start_time": "2023-02-17T14:48:27.274Z"
   },
   {
    "duration": 6,
    "start_time": "2023-02-17T14:48:33.135Z"
   },
   {
    "duration": 8,
    "start_time": "2023-02-17T14:48:55.838Z"
   },
   {
    "duration": 8,
    "start_time": "2023-02-17T14:49:04.199Z"
   },
   {
    "duration": 6,
    "start_time": "2023-02-17T14:49:55.100Z"
   },
   {
    "duration": 5,
    "start_time": "2023-02-17T14:50:29.882Z"
   },
   {
    "duration": 4,
    "start_time": "2023-02-17T14:50:55.883Z"
   },
   {
    "duration": 5,
    "start_time": "2023-02-17T14:53:29.666Z"
   },
   {
    "duration": 253,
    "start_time": "2023-02-17T14:53:29.941Z"
   },
   {
    "duration": 13,
    "start_time": "2023-02-17T14:53:30.196Z"
   },
   {
    "duration": 44,
    "start_time": "2023-02-17T14:53:30.334Z"
   },
   {
    "duration": 26,
    "start_time": "2023-02-17T14:53:30.909Z"
   },
   {
    "duration": 83,
    "start_time": "2023-02-17T14:53:31.115Z"
   },
   {
    "duration": 6,
    "start_time": "2023-02-17T14:53:31.498Z"
   },
   {
    "duration": 90,
    "start_time": "2023-02-17T14:53:31.685Z"
   },
   {
    "duration": 83,
    "start_time": "2023-02-17T14:53:31.878Z"
   },
   {
    "duration": 148,
    "start_time": "2023-02-17T14:53:32.060Z"
   },
   {
    "duration": 68,
    "start_time": "2023-02-17T14:53:32.244Z"
   },
   {
    "duration": 38,
    "start_time": "2023-02-17T14:53:32.433Z"
   },
   {
    "duration": 28,
    "start_time": "2023-02-17T14:53:33.330Z"
   },
   {
    "duration": 11,
    "start_time": "2023-02-17T14:53:33.722Z"
   },
   {
    "duration": 5,
    "start_time": "2023-02-17T14:53:34.134Z"
   },
   {
    "duration": 10,
    "start_time": "2023-02-17T14:53:34.506Z"
   },
   {
    "duration": 420,
    "start_time": "2023-02-17T14:53:34.724Z"
   },
   {
    "duration": 81,
    "start_time": "2023-02-17T14:53:35.146Z"
   },
   {
    "duration": 28,
    "start_time": "2023-02-17T14:53:36.394Z"
   },
   {
    "duration": 13,
    "start_time": "2023-02-17T14:53:37.442Z"
   },
   {
    "duration": 445,
    "start_time": "2023-02-17T14:53:44.730Z"
   },
   {
    "duration": 41,
    "start_time": "2023-02-17T14:53:45.178Z"
   },
   {
    "duration": 31,
    "start_time": "2023-02-17T14:53:45.242Z"
   },
   {
    "duration": 16,
    "start_time": "2023-02-17T14:53:45.675Z"
   },
   {
    "duration": 112,
    "start_time": "2023-02-17T14:53:46.329Z"
   },
   {
    "duration": 37,
    "start_time": "2023-02-17T14:53:47.774Z"
   },
   {
    "duration": 106,
    "start_time": "2023-02-17T14:53:48.542Z"
   },
   {
    "duration": 297,
    "start_time": "2023-02-17T14:53:49.277Z"
   },
   {
    "duration": 6,
    "start_time": "2023-02-17T14:53:51.285Z"
   },
   {
    "duration": 239,
    "start_time": "2023-02-17T14:54:24.816Z"
   },
   {
    "duration": 15,
    "start_time": "2023-02-17T14:54:42.776Z"
   },
   {
    "duration": 116,
    "start_time": "2023-02-17T14:54:57.724Z"
   },
   {
    "duration": 113,
    "start_time": "2023-02-17T14:55:17.374Z"
   },
   {
    "duration": 30,
    "start_time": "2023-02-17T14:55:24.482Z"
   },
   {
    "duration": 19,
    "start_time": "2023-02-17T14:55:42.426Z"
   },
   {
    "duration": 17,
    "start_time": "2023-02-17T14:56:02.080Z"
   },
   {
    "duration": 16,
    "start_time": "2023-02-17T14:56:14.213Z"
   },
   {
    "duration": 16,
    "start_time": "2023-02-17T14:56:18.290Z"
   },
   {
    "duration": 20,
    "start_time": "2023-02-17T14:56:35.783Z"
   },
   {
    "duration": 105,
    "start_time": "2023-02-17T14:56:52.748Z"
   },
   {
    "duration": 21,
    "start_time": "2023-02-17T14:57:00.086Z"
   },
   {
    "duration": 12,
    "start_time": "2023-02-17T14:57:13.004Z"
   },
   {
    "duration": 25,
    "start_time": "2023-02-17T14:57:21.947Z"
   },
   {
    "duration": 209,
    "start_time": "2023-02-17T14:57:54.685Z"
   },
   {
    "duration": 18,
    "start_time": "2023-02-17T14:58:01.994Z"
   },
   {
    "duration": 14,
    "start_time": "2023-02-17T14:58:14.111Z"
   },
   {
    "duration": 28,
    "start_time": "2023-02-17T15:00:29.048Z"
   },
   {
    "duration": 11,
    "start_time": "2023-02-17T15:00:39.821Z"
   },
   {
    "duration": 13,
    "start_time": "2023-02-17T15:00:55.684Z"
   },
   {
    "duration": 30,
    "start_time": "2023-02-17T15:01:19.299Z"
   },
   {
    "duration": 21,
    "start_time": "2023-02-17T15:01:26.848Z"
   },
   {
    "duration": 14,
    "start_time": "2023-02-17T15:02:50.590Z"
   },
   {
    "duration": 8,
    "start_time": "2023-02-17T15:03:03.475Z"
   },
   {
    "duration": 247,
    "start_time": "2023-02-17T15:03:04.396Z"
   },
   {
    "duration": 27,
    "start_time": "2023-02-17T15:03:04.646Z"
   },
   {
    "duration": 56,
    "start_time": "2023-02-17T15:03:04.675Z"
   },
   {
    "duration": 33,
    "start_time": "2023-02-17T15:03:04.733Z"
   },
   {
    "duration": 86,
    "start_time": "2023-02-17T15:03:04.768Z"
   },
   {
    "duration": 3,
    "start_time": "2023-02-17T15:03:04.864Z"
   },
   {
    "duration": 95,
    "start_time": "2023-02-17T15:03:05.045Z"
   },
   {
    "duration": 73,
    "start_time": "2023-02-17T15:03:05.264Z"
   },
   {
    "duration": 235,
    "start_time": "2023-02-17T15:03:05.436Z"
   },
   {
    "duration": 50,
    "start_time": "2023-02-17T15:03:05.678Z"
   },
   {
    "duration": 45,
    "start_time": "2023-02-17T15:03:05.837Z"
   },
   {
    "duration": 34,
    "start_time": "2023-02-17T15:03:06.646Z"
   },
   {
    "duration": 14,
    "start_time": "2023-02-17T15:03:07.173Z"
   },
   {
    "duration": 5,
    "start_time": "2023-02-17T15:03:07.585Z"
   },
   {
    "duration": 12,
    "start_time": "2023-02-17T15:03:07.975Z"
   },
   {
    "duration": 365,
    "start_time": "2023-02-17T15:03:08.148Z"
   },
   {
    "duration": 79,
    "start_time": "2023-02-17T15:03:08.515Z"
   },
   {
    "duration": 32,
    "start_time": "2023-02-17T15:03:08.796Z"
   },
   {
    "duration": 10,
    "start_time": "2023-02-17T15:03:09.220Z"
   },
   {
    "duration": 70,
    "start_time": "2023-02-17T15:03:09.596Z"
   },
   {
    "duration": 25,
    "start_time": "2023-02-17T15:03:10.421Z"
   },
   {
    "duration": 73,
    "start_time": "2023-02-17T15:03:10.789Z"
   },
   {
    "duration": 202,
    "start_time": "2023-02-17T15:03:11.179Z"
   },
   {
    "duration": 6,
    "start_time": "2023-02-17T15:03:11.814Z"
   },
   {
    "duration": 12,
    "start_time": "2023-02-17T15:03:12.006Z"
   },
   {
    "duration": 85,
    "start_time": "2023-02-17T15:03:13.411Z"
   },
   {
    "duration": 69,
    "start_time": "2023-02-17T15:03:13.617Z"
   },
   {
    "duration": 87,
    "start_time": "2023-02-17T15:03:14.627Z"
   },
   {
    "duration": 114,
    "start_time": "2023-02-17T15:03:15.395Z"
   },
   {
    "duration": 20,
    "start_time": "2023-02-17T15:03:15.684Z"
   },
   {
    "duration": 6,
    "start_time": "2023-02-17T15:03:16.396Z"
   },
   {
    "duration": 8,
    "start_time": "2023-02-17T15:03:18.107Z"
   },
   {
    "duration": 15,
    "start_time": "2023-02-17T15:03:18.774Z"
   },
   {
    "duration": 12,
    "start_time": "2023-02-17T15:03:19.459Z"
   },
   {
    "duration": 11,
    "start_time": "2023-02-17T15:03:20.233Z"
   },
   {
    "duration": 10,
    "start_time": "2023-02-17T15:03:20.876Z"
   },
   {
    "duration": 5,
    "start_time": "2023-02-17T15:03:22.080Z"
   }
  ],
  "kernelspec": {
   "display_name": "Python 3 (ipykernel)",
   "language": "python",
   "name": "python3"
  },
  "language_info": {
   "codemirror_mode": {
    "name": "ipython",
    "version": 3
   },
   "file_extension": ".py",
   "mimetype": "text/x-python",
   "name": "python",
   "nbconvert_exporter": "python",
   "pygments_lexer": "ipython3",
   "version": "3.9.5"
  },
  "toc": {
   "base_numbering": 1,
   "nav_menu": {},
   "number_sections": true,
   "sideBar": true,
   "skip_h1_title": true,
   "title_cell": "Table of Contents",
   "title_sidebar": "Contents",
   "toc_cell": false,
   "toc_position": {},
   "toc_section_display": true,
   "toc_window_display": false
  }
 },
 "nbformat": 4,
 "nbformat_minor": 2
}
