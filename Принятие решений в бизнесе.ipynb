{
 "cells": [
  {
   "cell_type": "markdown",
   "metadata": {},
   "source": [
    "<div style=\"border:solid Chocolate 2px; padding: 40px\">\n",
    "\n",
    "<b>Эдгар, привет!👋</b>\n",
    "\n",
    "Меня зовут Арина Уксусова, я буду ревьюером твоего проекта. Ты можешь обращаться ко мне на \"ты\"😏 Надеюсь, тебя также не смутит, если я буду обращаться к тебе на ты, но если это не удобно, обязательно скажи об этом!\n",
    "\n",
    "Пожалуйста, не удаляй мои комментарии, они будут особенно полезны для нашей работы в случае повторной проверки проекта. \n",
    "\n",
    "Ты также можешь реагировать на мои комментарии своими, выделяя их цветами и наиболее понравившимся тебе способом оформления, но явно  отличающимся от моих комментариев. Это нужно, чтобы не создавалась путаница😉\n",
    "\n",
    "Ты можешь найти мои комментарии, обозначенные <font color='green'>зеленым</font>, <font color='gold'>желтым</font> и <font color='red'>красным</font> цветами, например:\n",
    "\n",
    "<br/>\n",
    "\n",
    "<div class=\"alert alert-success\">\n",
    "<h2> Комментарий ревьюера <a class=\"tocSkip\"> </h2>\n",
    "\n",
    "<b>Все отлично!👍:</b> В случае, если решение на отдельном шаге является полностью правильным.\n",
    "</div>\n",
    "\n",
    "<br/>\n",
    "\n",
    "<div class=\"alert alert-warning\">\n",
    "    <h2> Комментарий ревьюера <a class=\"tocSkip\"> </h2>\n",
    "    \n",
    "<b>Некоторые замечания и рекомендации💡:</b> В случае, когда решение на отдельном шаге станет еще лучше, если внести небольшие коррективы.\n",
    "</div>\n",
    "\n",
    "\n",
    "<br/>\n",
    "\n",
    "<div class=\"alert alert-block alert-danger\">\n",
    "<h2> Комментарий ревьюера <a class=\"tocSkip\"></h2>\n",
    "\n",
    "    \n",
    "<b>На доработку🤔:</b> В случае, когда решение на отдельном шаге требует существенной переработки и внесения правок. Напоминаю, что проект не может быть принят с первого раза, если ревью содержит комментарии, рекомендующие доработать шаги.\n",
    "</div>\n",
    "    \n",
    "Увидев у тебя ошибку, в первый раз я лишь укажу на ее наличие и дам тебе возможность самому найти и исправить ее. На реальной работе твой руководитель будет поступать также, и я пытаюсь подготовить тебя именно к работе аналитиком. Но если ты пока не справишься с такой задачей - при следующей проверке я дам более точную подсказку!🤓"
   ]
  },
  {
   "cell_type": "markdown",
   "metadata": {},
   "source": [
    "В нашем распоряжении данные компании интернет-магазина с информацией по гипотезам и заказам. Наша задача - приоритизировать гипотезы, запустить A/B-тест и проанализировать результаты. Необходимо изучить: фреймворк ICE, RICE для приоритизации гипотез, графики по A/B-тесту. "
   ]
  },
  {
   "cell_type": "markdown",
   "metadata": {},
   "source": [
    "### Загрузим данные и подготовим их к анализу"
   ]
  },
  {
   "cell_type": "code",
   "execution_count": 1,
   "metadata": {},
   "outputs": [],
   "source": [
    "import pandas as pd\n",
    "import numpy as np\n",
    "import matplotlib.pyplot as plt\n",
    "from datetime import datetime, timedelta\n",
    "import seaborn as sns\n",
    "from pymystem3 import Mystem\n",
    "from collections import Counter\n",
    "from scipy import stats as st\n",
    "import datetime as dt"
   ]
  },
  {
   "cell_type": "code",
   "execution_count": 2,
   "metadata": {},
   "outputs": [],
   "source": [
    "hypothesis, orders, visitors = (\n",
    "    pd.read_csv('/datasets/hypothesis.csv'), #гипотезы\n",
    "    pd.read_csv('/datasets/orders.csv'), #заказы\n",
    "    pd.read_csv('/datasets/visitors.csv'), #визиты\n",
    ")"
   ]
  },
  {
   "attachments": {
    "image.png": {
     "image/png": "[encoded data removed]"
    }
   },
   "cell_type": "markdown",
   "metadata": {},
   "source": [
    "<div class=\"alert alert-warning\">\n",
    "    <h2> Комментарий ревьюера <a class=\"tocSkip\"> </h2>\n",
    "    \n",
    "<b>Некоторые замечания и рекомендации💡:</b> \n",
    "        \n",
    "Для подгрузки данных можно использовать конструкцию `try-except`, она поможет избежать потенциальных ошибок при загрузке данных, связанных, например, с некорректным указанием путей.\n",
    "        \n",
    "Подробнее о конструкции по ссылке:\n",
    "        \n",
    "https://pythonworld.ru/tipy-dannyx-v-python/isklyucheniya-v-python-konstrukciya-try-except-dlya-obrabotki-isklyuchenij.html\n",
    "        \n",
    "Несколько интересных статей кейсы использования конструкции:\n",
    "    \n",
    "https://www.programiz.com/python-programming/exception-handling\n",
    "    \n",
    "https://towardsdatascience.com/do-not-abuse-try-except-in-python-d9b8ee59e23b\n",
    "    \n",
    "https://www.techbeamers.com/use-try-except-python/\n",
    "        \n",
    "Как вариант в try можно указать корректные пути (в нашем случае глобальные) в except - некорректные (локальные). Можно также специфицровать тип ошибки, FileNotFoundError или задать кастомный тип ошибки (FilePathError, например)\n",
    "        \n",
    "Она полезна, если ты работаешь локально, а потом подгружаешь проект на платформу. Конструкция позволит не падать коду и локально, и на сервере ЯП, так как если не сработает один блок с путями, сработает другой.\n",
    "        \n",
    "Либо же можно использовать стандартную библиотеку os:\n",
    "        \n",
    "https://pythonworld.ru/moduli/modul-os.html\n",
    "        \n",
    "Пример функции для подгрузки данных с использованием библиотеки os:\n",
    "        \n",
    "![image.png](attachment:image.png)"
   ]
  },
  {
   "cell_type": "code",
   "execution_count": 3,
   "metadata": {
    "scrolled": true
   },
   "outputs": [
    {
     "name": "stdout",
     "output_type": "stream",
     "text": [
      "<class 'pandas.core.frame.DataFrame'>\n",
      "RangeIndex: 9 entries, 0 to 8\n",
      "Data columns (total 5 columns):\n",
      " #   Column      Non-Null Count  Dtype \n",
      "---  ------      --------------  ----- \n",
      " 0   Hypothesis  9 non-null      object\n",
      " 1   Reach       9 non-null      int64 \n",
      " 2   Impact      9 non-null      int64 \n",
      " 3   Confidence  9 non-null      int64 \n",
      " 4   Efforts     9 non-null      int64 \n",
      "dtypes: int64(4), object(1)\n",
      "memory usage: 488.0+ bytes\n",
      "<class 'pandas.core.frame.DataFrame'>\n",
      "RangeIndex: 1197 entries, 0 to 1196\n",
      "Data columns (total 5 columns):\n",
      " #   Column         Non-Null Count  Dtype \n",
      "---  ------         --------------  ----- \n",
      " 0   transactionId  1197 non-null   int64 \n",
      " 1   visitorId      1197 non-null   int64 \n",
      " 2   date           1197 non-null   object\n",
      " 3   revenue        1197 non-null   int64 \n",
      " 4   group          1197 non-null   object\n",
      "dtypes: int64(3), object(2)\n",
      "memory usage: 46.9+ KB\n",
      "<class 'pandas.core.frame.DataFrame'>\n",
      "RangeIndex: 62 entries, 0 to 61\n",
      "Data columns (total 3 columns):\n",
      " #   Column    Non-Null Count  Dtype \n",
      "---  ------    --------------  ----- \n",
      " 0   date      62 non-null     object\n",
      " 1   group     62 non-null     object\n",
      " 2   visitors  62 non-null     int64 \n",
      "dtypes: int64(1), object(2)\n",
      "memory usage: 1.6+ KB\n"
     ]
    }
   ],
   "source": [
    "hypothesis.info() #изучим общую информацию о гипотезах\n",
    "orders.info() #изучим общую информацию о заказах\n",
    "visitors.info() #изучим общую информацию о визитах"
   ]
  },
  {
   "cell_type": "code",
   "execution_count": 4,
   "metadata": {
    "scrolled": true
   },
   "outputs": [
    {
     "data": {
      "text/plain": [
       "Hypothesis    0\n",
       "Reach         0\n",
       "Impact        0\n",
       "Confidence    0\n",
       "Efforts       0\n",
       "dtype: int64"
      ]
     },
     "metadata": {},
     "output_type": "display_data"
    },
    {
     "data": {
      "text/plain": [
       "transactionId    0\n",
       "visitorId        0\n",
       "date             0\n",
       "revenue          0\n",
       "group            0\n",
       "dtype: int64"
      ]
     },
     "metadata": {},
     "output_type": "display_data"
    },
    {
     "data": {
      "text/plain": [
       "date        0\n",
       "group       0\n",
       "visitors    0\n",
       "dtype: int64"
      ]
     },
     "metadata": {},
     "output_type": "display_data"
    }
   ],
   "source": [
    "display(hypothesis.isna().sum()) #проверим пропуски в данных с гипотезами\n",
    "display(orders.isna().sum()) #проверим пропуски в данных с заказами\n",
    "display(visitors.isna().sum())  #проверим пропуски в данных с визитами"
   ]
  },
  {
   "cell_type": "code",
   "execution_count": 5,
   "metadata": {},
   "outputs": [
    {
     "data": {
      "text/plain": [
       "0"
      ]
     },
     "metadata": {},
     "output_type": "display_data"
    },
    {
     "data": {
      "text/plain": [
       "0"
      ]
     },
     "metadata": {},
     "output_type": "display_data"
    },
    {
     "data": {
      "text/plain": [
       "0"
      ]
     },
     "metadata": {},
     "output_type": "display_data"
    }
   ],
   "source": [
    "display(hypothesis.duplicated().sum()) #проверим на дубликаты в данных с гипотезами\n",
    "display(orders.duplicated().sum()) #проверим на дубликаты в данных с заказами\n",
    "display(visitors.duplicated().sum())  #проверим на дубликаты в данных с визитами"
   ]
  },
  {
   "cell_type": "code",
   "execution_count": 6,
   "metadata": {},
   "outputs": [],
   "source": [
    "pd.set_option('display.max_columns', None)\n",
    "pd.set_option(\"max_colwidth\", 500) #настроим отображение, чтобы ничего не скрывалось"
   ]
  },
  {
   "cell_type": "code",
   "execution_count": 7,
   "metadata": {},
   "outputs": [],
   "source": [
    "for i in [hypothesis, orders, visitors]:\n",
    "    i.columns = [x.lower().replace(' ', '_') for x in i.columns.values] #приведем наши столбцы в данных к snake_case"
   ]
  },
  {
   "cell_type": "code",
   "execution_count": 8,
   "metadata": {},
   "outputs": [],
   "source": [
    "orders['date'] = pd.to_datetime(orders['date']) #приведем столбец с датой в заказах к нужному типу\n",
    "visitors['date'] = pd.to_datetime(visitors['date']) #приведем столбец с датой в визитах к нужному типу"
   ]
  },
  {
   "cell_type": "code",
   "execution_count": 9,
   "metadata": {
    "scrolled": true
   },
   "outputs": [
    {
     "name": "stdout",
     "output_type": "stream",
     "text": [
      "<class 'pandas.core.frame.DataFrame'>\n",
      "RangeIndex: 9 entries, 0 to 8\n",
      "Data columns (total 5 columns):\n",
      " #   Column      Non-Null Count  Dtype \n",
      "---  ------      --------------  ----- \n",
      " 0   hypothesis  9 non-null      object\n",
      " 1   reach       9 non-null      int64 \n",
      " 2   impact      9 non-null      int64 \n",
      " 3   confidence  9 non-null      int64 \n",
      " 4   efforts     9 non-null      int64 \n",
      "dtypes: int64(4), object(1)\n",
      "memory usage: 488.0+ bytes\n",
      "<class 'pandas.core.frame.DataFrame'>\n",
      "RangeIndex: 1197 entries, 0 to 1196\n",
      "Data columns (total 5 columns):\n",
      " #   Column         Non-Null Count  Dtype         \n",
      "---  ------         --------------  -----         \n",
      " 0   transactionid  1197 non-null   int64         \n",
      " 1   visitorid      1197 non-null   int64         \n",
      " 2   date           1197 non-null   datetime64[ns]\n",
      " 3   revenue        1197 non-null   int64         \n",
      " 4   group          1197 non-null   object        \n",
      "dtypes: datetime64[ns](1), int64(3), object(1)\n",
      "memory usage: 46.9+ KB\n",
      "<class 'pandas.core.frame.DataFrame'>\n",
      "RangeIndex: 62 entries, 0 to 61\n",
      "Data columns (total 3 columns):\n",
      " #   Column    Non-Null Count  Dtype         \n",
      "---  ------    --------------  -----         \n",
      " 0   date      62 non-null     datetime64[ns]\n",
      " 1   group     62 non-null     object        \n",
      " 2   visitors  62 non-null     int64         \n",
      "dtypes: datetime64[ns](1), int64(1), object(1)\n",
      "memory usage: 1.6+ KB\n"
     ]
    }
   ],
   "source": [
    "hypothesis.info() #изучим общую информацию о гипотезах\n",
    "orders.info() #изучим общую информацию о заказах\n",
    "visitors.info() #изучим общую информацию о визитах"
   ]
  },
  {
   "cell_type": "markdown",
   "metadata": {},
   "source": [
    "Наши данные изучены и прошли предобработку. Пропуски и дубликаты отсутствуют, типы данных заменены на соответствующие в них значениям, столбцы приведены к стилю snake_case. Данные подготовлены к дальнейшему анализу."
   ]
  },
  {
   "cell_type": "markdown",
   "metadata": {},
   "source": [
    "### Проведем приоритизацию гипотез. Применим фреймворк ICE, RICE"
   ]
  },
  {
   "cell_type": "code",
   "execution_count": 10,
   "metadata": {},
   "outputs": [],
   "source": [
    "hypothesis['hypothesis_number'] = range(1,10) #пронумеруем гипотезы "
   ]
  },
  {
   "cell_type": "markdown",
   "metadata": {},
   "source": [
    "Пронумеруем гипотезы для удобства анализа."
   ]
  },
  {
   "cell_type": "code",
   "execution_count": 11,
   "metadata": {
    "scrolled": true
   },
   "outputs": [
    {
     "data": {
      "text/html": [
       "<div>\n",
       "<style scoped>\n",
       "    .dataframe tbody tr th:only-of-type {\n",
       "        vertical-align: middle;\n",
       "    }\n",
       "\n",
       "    .dataframe tbody tr th {\n",
       "        vertical-align: top;\n",
       "    }\n",
       "\n",
       "    .dataframe thead th {\n",
       "        text-align: right;\n",
       "    }\n",
       "</style>\n",
       "<table border=\"1\" class=\"dataframe\">\n",
       "  <thead>\n",
       "    <tr style=\"text-align: right;\">\n",
       "      <th></th>\n",
       "      <th>hypothesis</th>\n",
       "      <th>ICE</th>\n",
       "    </tr>\n",
       "  </thead>\n",
       "  <tbody>\n",
       "    <tr>\n",
       "      <th>8</th>\n",
       "      <td>Запустить акцию, дающую скидку на товар в день рождения</td>\n",
       "      <td>16.20</td>\n",
       "    </tr>\n",
       "    <tr>\n",
       "      <th>0</th>\n",
       "      <td>Добавить два новых канала привлечения трафика, что позволит привлекать на 30% больше пользователей</td>\n",
       "      <td>13.33</td>\n",
       "    </tr>\n",
       "    <tr>\n",
       "      <th>7</th>\n",
       "      <td>Добавить форму подписки на все основные страницы, чтобы собрать базу клиентов для email-рассылок</td>\n",
       "      <td>11.20</td>\n",
       "    </tr>\n",
       "    <tr>\n",
       "      <th>6</th>\n",
       "      <td>Показать на главной странице баннеры с актуальными акциями и распродажами, чтобы увеличить конверсию</td>\n",
       "      <td>8.00</td>\n",
       "    </tr>\n",
       "    <tr>\n",
       "      <th>2</th>\n",
       "      <td>Добавить блоки рекомендаций товаров на сайт интернет магазина, чтобы повысить конверсию и средний чек заказа</td>\n",
       "      <td>7.00</td>\n",
       "    </tr>\n",
       "    <tr>\n",
       "      <th>1</th>\n",
       "      <td>Запустить собственную службу доставки, что сократит срок доставки заказов</td>\n",
       "      <td>2.00</td>\n",
       "    </tr>\n",
       "    <tr>\n",
       "      <th>5</th>\n",
       "      <td>Добавить страницу отзывов клиентов о магазине, что позволит увеличить количество заказов</td>\n",
       "      <td>1.33</td>\n",
       "    </tr>\n",
       "    <tr>\n",
       "      <th>3</th>\n",
       "      <td>Изменить структура категорий, что увеличит конверсию, т.к. пользователи быстрее найдут нужный товар</td>\n",
       "      <td>1.12</td>\n",
       "    </tr>\n",
       "    <tr>\n",
       "      <th>4</th>\n",
       "      <td>Изменить цвет фона главной страницы, чтобы увеличить вовлеченность пользователей</td>\n",
       "      <td>1.00</td>\n",
       "    </tr>\n",
       "  </tbody>\n",
       "</table>\n",
       "</div>"
      ],
      "text/plain": [
       "                                                                                                     hypothesis  \\\n",
       "8                                                       Запустить акцию, дающую скидку на товар в день рождения   \n",
       "0            Добавить два новых канала привлечения трафика, что позволит привлекать на 30% больше пользователей   \n",
       "7              Добавить форму подписки на все основные страницы, чтобы собрать базу клиентов для email-рассылок   \n",
       "6          Показать на главной странице баннеры с актуальными акциями и распродажами, чтобы увеличить конверсию   \n",
       "2  Добавить блоки рекомендаций товаров на сайт интернет магазина, чтобы повысить конверсию и средний чек заказа   \n",
       "1                                     Запустить собственную службу доставки, что сократит срок доставки заказов   \n",
       "5                      Добавить страницу отзывов клиентов о магазине, что позволит увеличить количество заказов   \n",
       "3           Изменить структура категорий, что увеличит конверсию, т.к. пользователи быстрее найдут нужный товар   \n",
       "4                              Изменить цвет фона главной страницы, чтобы увеличить вовлеченность пользователей   \n",
       "\n",
       "     ICE  \n",
       "8  16.20  \n",
       "0  13.33  \n",
       "7  11.20  \n",
       "6   8.00  \n",
       "2   7.00  \n",
       "1   2.00  \n",
       "5   1.33  \n",
       "3   1.12  \n",
       "4   1.00  "
      ]
     },
     "execution_count": 11,
     "metadata": {},
     "output_type": "execute_result"
    }
   ],
   "source": [
    "hypothesis['ICE'] = (hypothesis['impact'] * hypothesis['confidence']) / hypothesis['efforts'] #применим фреймворк ICE\n",
    "hypothesis[['hypothesis', 'ICE']].sort_values(by = 'ICE', ascending = False).round(2) "
   ]
  },
  {
   "cell_type": "markdown",
   "metadata": {},
   "source": [
    "Наибольшее значение ICE имеет гипотеза №9 - \"Запустить акцию, дающую скидку на товар в день рождения\" (16.2). Наименьшее значение ICE у гипотезы №4 - \"изменить цвет фона главной страницы, чтобы увеличить вовлеченность пользователей\". "
   ]
  },
  {
   "cell_type": "code",
   "execution_count": 12,
   "metadata": {
    "scrolled": true
   },
   "outputs": [
    {
     "data": {
      "text/html": [
       "<div>\n",
       "<style scoped>\n",
       "    .dataframe tbody tr th:only-of-type {\n",
       "        vertical-align: middle;\n",
       "    }\n",
       "\n",
       "    .dataframe tbody tr th {\n",
       "        vertical-align: top;\n",
       "    }\n",
       "\n",
       "    .dataframe thead th {\n",
       "        text-align: right;\n",
       "    }\n",
       "</style>\n",
       "<table border=\"1\" class=\"dataframe\">\n",
       "  <thead>\n",
       "    <tr style=\"text-align: right;\">\n",
       "      <th></th>\n",
       "      <th>hypothesis</th>\n",
       "      <th>RICE</th>\n",
       "    </tr>\n",
       "  </thead>\n",
       "  <tbody>\n",
       "    <tr>\n",
       "      <th>7</th>\n",
       "      <td>Добавить форму подписки на все основные страницы, чтобы собрать базу клиентов для email-рассылок</td>\n",
       "      <td>112.0</td>\n",
       "    </tr>\n",
       "    <tr>\n",
       "      <th>2</th>\n",
       "      <td>Добавить блоки рекомендаций товаров на сайт интернет магазина, чтобы повысить конверсию и средний чек заказа</td>\n",
       "      <td>56.0</td>\n",
       "    </tr>\n",
       "    <tr>\n",
       "      <th>0</th>\n",
       "      <td>Добавить два новых канала привлечения трафика, что позволит привлекать на 30% больше пользователей</td>\n",
       "      <td>40.0</td>\n",
       "    </tr>\n",
       "    <tr>\n",
       "      <th>6</th>\n",
       "      <td>Показать на главной странице баннеры с актуальными акциями и распродажами, чтобы увеличить конверсию</td>\n",
       "      <td>40.0</td>\n",
       "    </tr>\n",
       "    <tr>\n",
       "      <th>8</th>\n",
       "      <td>Запустить акцию, дающую скидку на товар в день рождения</td>\n",
       "      <td>16.2</td>\n",
       "    </tr>\n",
       "    <tr>\n",
       "      <th>3</th>\n",
       "      <td>Изменить структура категорий, что увеличит конверсию, т.к. пользователи быстрее найдут нужный товар</td>\n",
       "      <td>9.0</td>\n",
       "    </tr>\n",
       "    <tr>\n",
       "      <th>1</th>\n",
       "      <td>Запустить собственную службу доставки, что сократит срок доставки заказов</td>\n",
       "      <td>4.0</td>\n",
       "    </tr>\n",
       "    <tr>\n",
       "      <th>5</th>\n",
       "      <td>Добавить страницу отзывов клиентов о магазине, что позволит увеличить количество заказов</td>\n",
       "      <td>4.0</td>\n",
       "    </tr>\n",
       "    <tr>\n",
       "      <th>4</th>\n",
       "      <td>Изменить цвет фона главной страницы, чтобы увеличить вовлеченность пользователей</td>\n",
       "      <td>3.0</td>\n",
       "    </tr>\n",
       "  </tbody>\n",
       "</table>\n",
       "</div>"
      ],
      "text/plain": [
       "                                                                                                     hypothesis  \\\n",
       "7              Добавить форму подписки на все основные страницы, чтобы собрать базу клиентов для email-рассылок   \n",
       "2  Добавить блоки рекомендаций товаров на сайт интернет магазина, чтобы повысить конверсию и средний чек заказа   \n",
       "0            Добавить два новых канала привлечения трафика, что позволит привлекать на 30% больше пользователей   \n",
       "6          Показать на главной странице баннеры с актуальными акциями и распродажами, чтобы увеличить конверсию   \n",
       "8                                                       Запустить акцию, дающую скидку на товар в день рождения   \n",
       "3           Изменить структура категорий, что увеличит конверсию, т.к. пользователи быстрее найдут нужный товар   \n",
       "1                                     Запустить собственную службу доставки, что сократит срок доставки заказов   \n",
       "5                      Добавить страницу отзывов клиентов о магазине, что позволит увеличить количество заказов   \n",
       "4                              Изменить цвет фона главной страницы, чтобы увеличить вовлеченность пользователей   \n",
       "\n",
       "    RICE  \n",
       "7  112.0  \n",
       "2   56.0  \n",
       "0   40.0  \n",
       "6   40.0  \n",
       "8   16.2  \n",
       "3    9.0  \n",
       "1    4.0  \n",
       "5    4.0  \n",
       "4    3.0  "
      ]
     },
     "execution_count": 12,
     "metadata": {},
     "output_type": "execute_result"
    }
   ],
   "source": [
    "hypothesis['RICE'] = (hypothesis['reach'] * hypothesis['impact'] * hypothesis['confidence']) / hypothesis['efforts'] #применим фреймворк RICE\n",
    "hypothesis[['hypothesis','RICE']].sort_values(by = 'RICE', ascending = False)"
   ]
  },
  {
   "cell_type": "markdown",
   "metadata": {},
   "source": [
    "Наибольшее значение RICE имеет гипотеза №8 - \"Добавить форму подписки на все основные страницы, чтобы собрать базу клиентов для email-рассылок\" (112). Наименьшее значение ICE у гипотезы №4 - \"изменить цвет фона главной страницы, чтобы увеличить вовлеченность пользователей\"."
   ]
  },
  {
   "cell_type": "markdown",
   "metadata": {},
   "source": [
    "Результаты ICE и RICE отличаются. В фреймворке RICE учитывается метрика Reach, которая умножается на другие метрики. Таким образом, гипотезы, которые имеют больший охват пользователей получают высокую оценку. Для оценки гипотезы больше подходит фреймворк RICE, так как нам нужна гипотеза, которая поможет увеличить выручку и достичь большоuj охвата пользователей. За основу возьмем гипотезу №7 - \"Добавить форму подписки на все основные страницы, чтобы собрать базу клиентов для email-рассылок\"."
   ]
  },
  {
   "cell_type": "markdown",
   "metadata": {},
   "source": [
    "<div class=\"alert alert-success\">\n",
    "<h2> Комментарий ревьюера <a class=\"tocSkip\"> </h2>\n",
    "\n",
    "<b>Все отлично!👍:</b>\n",
    "    \n",
    "Верное наблюдение про результаты по фреймворку RICE: добавление этого параметра влияет на порядок гипотез и их приоритет за счет параметра Reach. "
   ]
  },
  {
   "cell_type": "markdown",
   "metadata": {},
   "source": [
    "<div class=\"alert alert-warning\">\n",
    "    <h2> Комментарий ревьюера <a class=\"tocSkip\"> </h2>\n",
    "    \n",
    "<b>Некоторые замечания и рекомендации💡:</b> \n",
    "        \n",
    "И еще несколько рекомендаций для улучшения шага (носят рекомендательный характер и являются развивающей обратной связью, при желании и возможности можно имплементировать часть (или все) рекомендации, а можно просто взять на вооружение🙌):\n",
    "        \n",
    "\n",
    "        \n",
    " * результаты можно было бы объединить в единой таблице. Также их можно было бы проранжировать и выделить цветом — https://pandas.pydata.org/pandas-docs/stable/user_guide/style.html \n",
    "        \n",
    "еще материал по теме оформления таблиц в pandas:\n",
    "        \n",
    "https://pbpython.com/styling-pandas.html\n",
    "        \n",
    "    \n",
    "* в качестве визуализации изменения приоритетов можно использовать <a href=\"https://datayoga.ru/tpost/zh3s62fori-sloupgraf\">slope graph</a>, <a href=\"https://chart-studio.plotly.com/~pcchang/224/slopegraph-spending-and-academic-performance-by-states-doc/#/\">реализация на plotly</a>\n",
    "        \n",
    "И еще несколько ссылок для ознакомления с тем, как строить такие графики:\n",
    "        \n",
    "<a href=\"https://towardsdatascience.com/slope-charts-with-pythons-matplotlib-2c3456c137b8\">раз</a>        \n",
    "      \n",
    "<a href=\"https://cduvallet.github.io/posts/2018/03/slopegraphs-in-python\">два</a>     \n",
    "\n",
    "      \n",
    "<a href=\"https://stackoverflow.com/questions/7941226/how-to-add-line-based-on-slope-and-intercept-in-matplotlib\">три</a>     \n",
    "\n",
    " * в отчёте есть формулы для расчёта приоритезации, почему бы их не оформить, для этого есть микропакет для вёрстки `LaTex` - <a href=\"https://www.youtube.com/watch?v=vSc25kdgecg\">Использование LaTex в Jupyter Notebook</a>\n",
    "<br><a href=\"https://www.overleaf.com/static/latex/learn/free-online-introduction-to-latex-part-1.pdf\">LaTex for beginners</a>. Вот так будут выглядеть формулы:👇\n",
    "</ul></div> <br>\n",
    "\n",
    "$$ICE = \\frac{Impact * Confidence}{Efforts}$$\n",
    "\n",
    "$$RICE = \\frac{Rearch * Impact * Confidence}{Efforts}$$\n",
    "\n",
    "<hr style=\"border: 2px solid yellow;\" /> "
   ]
  },
  {
   "cell_type": "markdown",
   "metadata": {},
   "source": [
    "### Проведем анализ A/B-теста"
   ]
  },
  {
   "cell_type": "code",
   "execution_count": 13,
   "metadata": {},
   "outputs": [
    {
     "data": {
      "text/plain": [
       "58"
      ]
     },
     "execution_count": 13,
     "metadata": {},
     "output_type": "execute_result"
    }
   ],
   "source": [
    "duplicates_users = np.intersect1d(orders.query('group == \"A\"')['visitorid'].unique(), orders.query('group == \"B\"')['visitorid'].unique())\n",
    "len(duplicates_users) #проверим, есть ли пользователи, которые попали в обе группы"
   ]
  },
  {
   "cell_type": "markdown",
   "metadata": {},
   "source": [
    "Во время сбора данных, скорее всего произошла ошибка, при которой мы имеем 58 пользователей попавших в две группы. Удаление этих пользователей повлияет на конверсию. Мы можем их удалить из таблицы с заказами, но не сможем из таблицы с визитами, поэтому оставим данные с дубликатами. "
   ]
  },
  {
   "cell_type": "markdown",
   "metadata": {},
   "source": [
    "<div class=\"alert alert-success\">\n",
    "<h2> Комментарий ревьюера <a class=\"tocSkip\"> </h2>\n",
    "\n",
    "<b>Все отлично!👍:</b> \n",
    "    \n",
    "Абсолютно верное действие проверить данные на наличие пользователей, попавших в обе группы. Пересечение групп может повлиять на результаты анализа. В реальной практике тест скорее всего пришлось бы проводить заново. В рамках нашего проекта в качестве практики можно попробовать исключить таких пользователей из заказов, при этом нужно иметь в виду, что корректно исключить их из визитов не получится, так как данные в этом датасете агрегированы.\n",
    "</div>"
   ]
  },
  {
   "cell_type": "code",
   "execution_count": 14,
   "metadata": {},
   "outputs": [
    {
     "data": {
      "text/html": [
       "<div>\n",
       "<style scoped>\n",
       "    .dataframe tbody tr th:only-of-type {\n",
       "        vertical-align: middle;\n",
       "    }\n",
       "\n",
       "    .dataframe tbody tr th {\n",
       "        vertical-align: top;\n",
       "    }\n",
       "\n",
       "    .dataframe thead th {\n",
       "        text-align: right;\n",
       "    }\n",
       "</style>\n",
       "<table border=\"1\" class=\"dataframe\">\n",
       "  <thead>\n",
       "    <tr style=\"text-align: right;\">\n",
       "      <th></th>\n",
       "      <th>date</th>\n",
       "      <th>ordersPerDateA</th>\n",
       "      <th>revenuePerDateA</th>\n",
       "      <th>ordersPerDateB</th>\n",
       "      <th>revenuePerDateB</th>\n",
       "      <th>ordersCummulativeA</th>\n",
       "      <th>revenueCummulativeA</th>\n",
       "      <th>ordersCummulativeB</th>\n",
       "      <th>revenueCummulativeB</th>\n",
       "      <th>visitorsPerDateA</th>\n",
       "      <th>visitorsPerDateB</th>\n",
       "      <th>visitorsCummulativeA</th>\n",
       "      <th>visitorsCummulativeB</th>\n",
       "    </tr>\n",
       "  </thead>\n",
       "  <tbody>\n",
       "    <tr>\n",
       "      <th>26</th>\n",
       "      <td>2019-08-27</td>\n",
       "      <td>28</td>\n",
       "      <td>286780</td>\n",
       "      <td>16</td>\n",
       "      <td>147677</td>\n",
       "      <td>495</td>\n",
       "      <td>3514698</td>\n",
       "      <td>548</td>\n",
       "      <td>5232260</td>\n",
       "      <td>711</td>\n",
       "      <td>720</td>\n",
       "      <td>16376</td>\n",
       "      <td>16523</td>\n",
       "    </tr>\n",
       "    <tr>\n",
       "      <th>27</th>\n",
       "      <td>2019-08-28</td>\n",
       "      <td>17</td>\n",
       "      <td>101122</td>\n",
       "      <td>28</td>\n",
       "      <td>96008</td>\n",
       "      <td>512</td>\n",
       "      <td>3615820</td>\n",
       "      <td>576</td>\n",
       "      <td>5328268</td>\n",
       "      <td>594</td>\n",
       "      <td>654</td>\n",
       "      <td>16970</td>\n",
       "      <td>17177</td>\n",
       "    </tr>\n",
       "    <tr>\n",
       "      <th>28</th>\n",
       "      <td>2019-08-29</td>\n",
       "      <td>22</td>\n",
       "      <td>320690</td>\n",
       "      <td>20</td>\n",
       "      <td>231130</td>\n",
       "      <td>534</td>\n",
       "      <td>3936510</td>\n",
       "      <td>596</td>\n",
       "      <td>5559398</td>\n",
       "      <td>577</td>\n",
       "      <td>531</td>\n",
       "      <td>17547</td>\n",
       "      <td>17708</td>\n",
       "    </tr>\n",
       "    <tr>\n",
       "      <th>29</th>\n",
       "      <td>2019-08-30</td>\n",
       "      <td>11</td>\n",
       "      <td>86460</td>\n",
       "      <td>24</td>\n",
       "      <td>215233</td>\n",
       "      <td>545</td>\n",
       "      <td>4022970</td>\n",
       "      <td>620</td>\n",
       "      <td>5774631</td>\n",
       "      <td>490</td>\n",
       "      <td>490</td>\n",
       "      <td>18037</td>\n",
       "      <td>18198</td>\n",
       "    </tr>\n",
       "    <tr>\n",
       "      <th>30</th>\n",
       "      <td>2019-08-31</td>\n",
       "      <td>12</td>\n",
       "      <td>61833</td>\n",
       "      <td>20</td>\n",
       "      <td>133129</td>\n",
       "      <td>557</td>\n",
       "      <td>4084803</td>\n",
       "      <td>640</td>\n",
       "      <td>5907760</td>\n",
       "      <td>699</td>\n",
       "      <td>718</td>\n",
       "      <td>18736</td>\n",
       "      <td>18916</td>\n",
       "    </tr>\n",
       "  </tbody>\n",
       "</table>\n",
       "</div>"
      ],
      "text/plain": [
       "         date  ordersPerDateA  revenuePerDateA  ordersPerDateB  \\\n",
       "26 2019-08-27              28           286780              16   \n",
       "27 2019-08-28              17           101122              28   \n",
       "28 2019-08-29              22           320690              20   \n",
       "29 2019-08-30              11            86460              24   \n",
       "30 2019-08-31              12            61833              20   \n",
       "\n",
       "    revenuePerDateB  ordersCummulativeA  revenueCummulativeA  \\\n",
       "26           147677                 495              3514698   \n",
       "27            96008                 512              3615820   \n",
       "28           231130                 534              3936510   \n",
       "29           215233                 545              4022970   \n",
       "30           133129                 557              4084803   \n",
       "\n",
       "    ordersCummulativeB  revenueCummulativeB  visitorsPerDateA  \\\n",
       "26                 548              5232260               711   \n",
       "27                 576              5328268               594   \n",
       "28                 596              5559398               577   \n",
       "29                 620              5774631               490   \n",
       "30                 640              5907760               699   \n",
       "\n",
       "    visitorsPerDateB  visitorsCummulativeA  visitorsCummulativeB  \n",
       "26               720                 16376                 16523  \n",
       "27               654                 16970                 17177  \n",
       "28               531                 17547                 17708  \n",
       "29               490                 18037                 18198  \n",
       "30               718                 18736                 18916  "
      ]
     },
     "metadata": {},
     "output_type": "display_data"
    }
   ],
   "source": [
    "#делим visitors по группам и считаем кумулятивные данные по датам\n",
    "# группа А\n",
    "visitorsADaily = visitors[visitors['group'] == 'A'][['date', 'visitors']]\n",
    "visitorsADaily.columns = ['date', 'visitorsPerDateA']\n",
    "\n",
    "visitorsACummulative = visitorsADaily.apply(\n",
    "    lambda x: visitorsADaily[visitorsADaily['date'] <= x['date']].agg(\n",
    "        {'date': 'max', 'visitorsPerDateA': 'sum'}\n",
    "    ),\n",
    "    axis=1,\n",
    ")\n",
    "visitorsACummulative.columns = ['date', 'visitorsCummulativeA']\n",
    "\n",
    "# группа В\n",
    "visitorsBDaily = visitors[visitors['group'] == 'B'][['date', 'visitors']]\n",
    "visitorsBDaily.columns = ['date', 'visitorsPerDateB']\n",
    "\n",
    "visitorsBCummulative = visitorsBDaily.apply(\n",
    "    lambda x: visitorsBDaily[visitorsBDaily['date'] <= x['date']].agg(\n",
    "        {'date': 'max', 'visitorsPerDateB': 'sum'}\n",
    "    ),\n",
    "    axis=1,\n",
    ")\n",
    "visitorsBCummulative.columns = ['date', 'visitorsCummulativeB']\n",
    "\n",
    "\n",
    "#делим orders по группам и считаем кумулятивные данные по датам\n",
    "# группа А\n",
    "ordersADaily = (\n",
    "    orders[orders['group'] == 'A'][['date', 'transactionid', 'visitorid', 'revenue']]\n",
    "    .groupby('date', as_index=False)\n",
    "    .agg({'transactionid': pd.Series.nunique, 'revenue': 'sum'})\n",
    ")\n",
    "ordersADaily.columns = ['date', 'ordersPerDateA', 'revenuePerDateA']\n",
    "\n",
    "ordersACummulative = ordersADaily.apply(\n",
    "    lambda x: ordersADaily[ordersADaily['date'] <= x['date']].agg(\n",
    "        {'date': 'max', 'ordersPerDateA': 'sum', 'revenuePerDateA': 'sum'}\n",
    "    ),\n",
    "    axis=1,\n",
    ").sort_values(by=['date'])\n",
    "ordersACummulative.columns = [\n",
    "    'date',\n",
    "    'ordersCummulativeA',\n",
    "    'revenueCummulativeA',\n",
    "]\n",
    "# группа В\n",
    "ordersBDaily = (\n",
    "    orders[orders['group'] == 'B'][['date', 'transactionid', 'visitorid', 'revenue']]\n",
    "    .groupby('date', as_index=False)\n",
    "    .agg({'transactionid': pd.Series.nunique, 'revenue': 'sum'})\n",
    ")\n",
    "ordersBDaily.columns = ['date', 'ordersPerDateB', 'revenuePerDateB']\n",
    "\n",
    "ordersBCummulative = ordersBDaily.apply(\n",
    "    lambda x: ordersBDaily[ordersBDaily['date'] <= x['date']].agg(\n",
    "        {'date': 'max', 'ordersPerDateB': 'sum', 'revenuePerDateB': 'sum'}\n",
    "    ),\n",
    "    axis=1,\n",
    ").sort_values(by=['date'])\n",
    "ordersBCummulative.columns = [\n",
    "    'date',\n",
    "    'ordersCummulativeB',\n",
    "    'revenueCummulativeB',\n",
    "]\n",
    "\n",
    "#собираем данные в единый фрейм\n",
    "data = (\n",
    "    ordersADaily.merge(\n",
    "        ordersBDaily, left_on='date', right_on='date', how='left'\n",
    "    )\n",
    "    .merge(ordersACummulative, left_on='date', right_on='date', how='left')\n",
    "    .merge(ordersBCummulative, left_on='date', right_on='date', how='left')\n",
    "    .merge(visitorsADaily, left_on='date', right_on='date', how='left')\n",
    "    .merge(visitorsBDaily, left_on='date', right_on='date', how='left')\n",
    "    .merge(visitorsACummulative, left_on='date', right_on='date', how='left')\n",
    "    .merge(visitorsBCummulative, left_on='date', right_on='date', how='left')\n",
    ")\n",
    "\n",
    "display(data.tail(5)) "
   ]
  },
  {
   "cell_type": "markdown",
   "metadata": {},
   "source": [
    "Создадим сводный датафрейм date. "
   ]
  },
  {
   "cell_type": "code",
   "execution_count": 15,
   "metadata": {},
   "outputs": [
    {
     "data": {
      "image/png": "[encoded data removed]",
      "text/plain": [
       "<Figure size 1080x648 with 1 Axes>"
      ]
     },
     "metadata": {
      "needs_background": "light"
     },
     "output_type": "display_data"
    }
   ],
   "source": [
    "data[['date','revenueCummulativeA', 'revenueCummulativeB']] .plot(x = 'date',\n",
    "                  grid=True,  title = \"График кумулятивной выручки по группам\", figsize=(15,9)).set(\n",
    "                  xlabel = 'дата', ylabel = 'выручка', ) ;"
   ]
  },
  {
   "cell_type": "markdown",
   "metadata": {},
   "source": [
    "Построим график кумулятивной выручки по группам. На нем наблюдается резкий скачек в графике у группы В 19 августа, возможно имеются аномально большое количество заказов или высокий средний чек. "
   ]
  },
  {
   "cell_type": "code",
   "execution_count": 16,
   "metadata": {},
   "outputs": [
    {
     "data": {
      "image/png": "[encoded data removed]",
      "text/plain": [
       "<Figure size 1080x648 with 1 Axes>"
      ]
     },
     "metadata": {
      "needs_background": "light"
     },
     "output_type": "display_data"
    }
   ],
   "source": [
    "data['cumulative_average_check_A'] = data['revenueCummulativeA'] / data['ordersCummulativeA']\n",
    "data['cumulative_average_check_B'] = data['revenueCummulativeB'] / data['ordersCummulativeB']\n",
    "\n",
    "data[['date','cumulative_average_check_A', 'cumulative_average_check_B']] .plot(x = 'date',\n",
    "                  grid=True,  title = \"График кумулятивного среднего чека по группам\", figsize=(15,9)).set(\n",
    "                  xlabel = 'дата', ylabel = 'средний чек');"
   ]
  },
  {
   "cell_type": "markdown",
   "metadata": {},
   "source": [
    "Построим график кумулятивного среднего чека по группам. На нем наблюдается нестабильность и резкие скачки данных. Скорее всего это связано, с аномальными значениями, которые искажают общую картину."
   ]
  },
  {
   "cell_type": "code",
   "execution_count": 17,
   "metadata": {},
   "outputs": [
    {
     "data": {
      "image/png": "[encoded data removed]",
      "text/plain": [
       "<Figure size 1080x648 with 1 Axes>"
      ]
     },
     "metadata": {
      "needs_background": "light"
     },
     "output_type": "display_data"
    }
   ],
   "source": [
    "data['cumulative_average_check'] = data['cumulative_average_check_B'] / data['cumulative_average_check_A']-1\n",
    "\n",
    "\n",
    "data[['date','cumulative_average_check']] .plot(x = 'date',\n",
    "                  grid=True,  \n",
    "                  title = \"График относительного изменение кумулятивного среднего чека группы B к группе A\",\n",
    "                                               figsize=(15,9)).set(\n",
    "                  xlabel = 'дата');\n",
    "plt.axhline(y=0, color='black', linestyle='--');"
   ]
  },
  {
   "cell_type": "markdown",
   "metadata": {},
   "source": [
    "Построим график различия среднего чека группы B к группе A. Нам нем наблюдается относительный рост суммы кумулятивного чека группы В примерно до 7 августа и далее резкий спад до 13 августа, далее снова резкий подъем, и снова падение. Стоит отметить, что кумулятивная выручка группы В выше, чем у группы А, но она крайне нестабильна. Скорее всего, дело снова в аномальных значениях. "
   ]
  },
  {
   "cell_type": "code",
   "execution_count": 18,
   "metadata": {
    "scrolled": false
   },
   "outputs": [
    {
     "data": {
      "image/png": "[encoded data removed]",
      "text/plain": [
       "<Figure size 1080x648 with 1 Axes>"
      ]
     },
     "metadata": {
      "needs_background": "light"
     },
     "output_type": "display_data"
    }
   ],
   "source": [
    "data['cumulative_conversionA'] = data['ordersCummulativeA'] / data['visitorsCummulativeA']\n",
    "data['cumulative_conversionB'] = data['ordersCummulativeB'] / data['visitorsCummulativeB']\n",
    "\n",
    "data[['date','cumulative_conversionA', 'cumulative_conversionB']] .plot(x = 'date',\n",
    "                  grid=True,  \n",
    "                  title = \"График кумулятивного среднего количества заказов на посетителя по группам\",\n",
    "                                                                        figsize=(15,9)).set(\n",
    "                  xlabel = 'дата');"
   ]
  },
  {
   "cell_type": "markdown",
   "metadata": {},
   "source": [
    "Построим график кумулятивного среднего количества заказов на посетителя по группам. На нем наблюдается картина, при которой кумулятивная конверсия группы В стабильно выше, чем у группы. "
   ]
  },
  {
   "cell_type": "code",
   "execution_count": 19,
   "metadata": {},
   "outputs": [
    {
     "data": {
      "image/png": "[encoded data removed]",
      "text/plain": [
       "<Figure size 1080x648 with 1 Axes>"
      ]
     },
     "metadata": {
      "needs_background": "light"
     },
     "output_type": "display_data"
    }
   ],
   "source": [
    "data['cumulative_conversion'] = data['cumulative_conversionB'] / data['cumulative_conversionA']-1\n",
    "\n",
    "\n",
    "data[['date','cumulative_conversion']] .plot(x = 'date',\n",
    "                  grid=True,  \n",
    "                  title = \"График относительного изменения кумулятивного среднего количества заказов на посетителя группы B к группе A\", \n",
    "                                             figsize=(15,9)).set(\n",
    "                  xlabel = 'дата');\n",
    "plt.axhline(y=0, color='black', linestyle='--');"
   ]
  },
  {
   "cell_type": "markdown",
   "metadata": {},
   "source": [
    "Построим график относительного изменения кумулятивного среднего количества заказов на посетителя группы B к группе A. На нем видно, что результаты группы B стабильно выше чем у группы A, однако, есть общая тенденция к ухудшению среднего количества заказов."
   ]
  },
  {
   "cell_type": "markdown",
   "metadata": {},
   "source": [
    "<div class=\"alert alert-success\">\n",
    "<h2> Комментарий ревьюера<a class=\"tocSkip\"> </h2>\n",
    "\n",
    "<b>Все отлично!👍:</b>\n",
    "    \n",
    "Графики выглядят корректно, согласна с интерпретацией визуализации, отдельный плюс за оформление графиков:)"
   ]
  },
  {
   "cell_type": "code",
   "execution_count": 20,
   "metadata": {},
   "outputs": [
    {
     "data": {
      "text/plain": [
       "''"
      ]
     },
     "execution_count": 20,
     "metadata": {},
     "output_type": "execute_result"
    },
    {
     "data": {
      "image/png": "[encoded data removed]",
      "text/plain": [
       "<Figure size 1080x648 with 1 Axes>"
      ]
     },
     "metadata": {
      "needs_background": "light"
     },
     "output_type": "display_data"
    }
   ],
   "source": [
    "ordersByUsers = orders.drop(['group', 'revenue', 'date'], axis=1).groupby('visitorid', as_index=False). \\\n",
    "                                                                        agg({'transactionid' : pd.Series.nunique})\n",
    "ordersByUsers.columns = ['user_id','orders']\n",
    "ordersByUsers.sort_values(by='orders',ascending=False).head(10)\n",
    "plt.figure(figsize=(15,9))\n",
    "plt.grid()\n",
    "plt.title('Точечный график количества заказов по пользователям')\n",
    "plt.xlabel('\\nКол-во пользователей')\n",
    "plt.ylabel('Кол-во заказов\\n')\n",
    "x_values = pd.Series(range(0, len(ordersByUsers)))\n",
    "plt.scatter(x_values, ordersByUsers['orders']) \n",
    ";"
   ]
  },
  {
   "cell_type": "markdown",
   "metadata": {},
   "source": [
    "Построим точечный график количества заказов по пользователям. На нем видно, что подавляющее большинство у пользователей совершивших 1 заказ. Совершивших 2 заказа значительно меньше, совершивших пользвателей 3 заказа единицы. Возможно, опять же аномальные значения. "
   ]
  },
  {
   "cell_type": "code",
   "execution_count": 21,
   "metadata": {},
   "outputs": [
    {
     "name": "stdout",
     "output_type": "stream",
     "text": [
      "[2.   3.98]\n",
      "[2.   3.15]\n"
     ]
    }
   ],
   "source": [
    "ordersByUsersA = orders.query('group == \"A\"').groupby('visitorid',as_index=False)['transactionid'].count()\n",
    "ordersByUsersA.columns = ['visitorid', 'order_count']\n",
    "ordersByUsersB = orders.query('group == \"B\"').groupby('visitorid',as_index=False)['transactionid'].count()\n",
    "ordersByUsersB.columns = ['visitorid', 'order_count']\n",
    "print(np.percentile(ordersByUsersA['order_count'], [95, 99])) \n",
    "print(np.percentile(ordersByUsersB['order_count'], [95, 99])) "
   ]
  },
  {
   "cell_type": "markdown",
   "metadata": {},
   "source": [
    "Посчитаем 95-й и 99-й перцентили количества заказов на пользователя. В группе А не более 5% клиентов, которые оформили более 2 заказов, и не более 1% оформивших более 3 заказов. В группе В не более 5% клиентов, которые оформили более 2 заказов, и не более 1% оформивших более 3 заказов. Таким образом, мы получаем, что для группы А: 2 и 3.98 заказа на пользователя, для группы В: 2 и 3.15 заказа на пользователя. Границей для определения аномальных пользователей в обоих группах являются пользователи совершившие от 3 заказов и более, так мы уберём 1-3% пользователей с наибольшим числом заказов."
   ]
  },
  {
   "cell_type": "code",
   "execution_count": 22,
   "metadata": {},
   "outputs": [
    {
     "data": {
      "image/png": "[encoded data removed]",
      "text/plain": [
       "<Figure size 1080x648 with 2 Axes>"
      ]
     },
     "metadata": {
      "needs_background": "light"
     },
     "output_type": "display_data"
    },
    {
     "data": {
      "image/png": "[encoded data removed]",
      "text/plain": [
       "<Figure size 1080x648 with 2 Axes>"
      ]
     },
     "metadata": {
      "needs_background": "light"
     },
     "output_type": "display_data"
    }
   ],
   "source": [
    "revenue_per_ordersA = orders.query('group == \"A\"')['revenue']\n",
    "revenue_per_ordersB = orders.query('group == \"B\"')['revenue']\n",
    "plt.figure(figsize=(15,9))\n",
    "plt.subplot(1, 2, 1)\n",
    "x_values = pd.Series(range(0,len(revenue_per_ordersA)))\n",
    "plt.scatter(x_values, revenue_per_ordersA ) \n",
    "plt.title(\"Точечный график стоимости заказов группы А\")\n",
    "plt.ylim(0,1350000)\n",
    "plt.subplot(1, 2, 2)\n",
    "x_values = pd.Series(range(0,len(revenue_per_ordersB)))\n",
    "plt.scatter(x_values, revenue_per_ordersB ) \n",
    "plt.title(\"Точечный график стоимости заказов группы В\")\n",
    "plt.ylim(0,1350000)\n",
    "plt.show()\n",
    "plt.figure(figsize=(15,9))\n",
    "plt.subplot(1, 2, 1)\n",
    "x_values = pd.Series(range(0,len(revenue_per_ordersA)))\n",
    "plt.scatter(x_values, revenue_per_ordersA ) \n",
    "plt.title(\"Приближенный точечный график стоимости заказов группы А\")\n",
    "plt.ylim(0,100000)\n",
    "plt.subplot(1, 2, 2)\n",
    "x_values = pd.Series(range(0,len(revenue_per_ordersB)))\n",
    "plt.scatter(x_values, revenue_per_ordersB ) \n",
    "plt.title(\"Приближенный точечный график стоимости заказов группы В\")\n",
    "plt.ylim(0,100000)\n",
    "plt.show()"
   ]
  },
  {
   "cell_type": "markdown",
   "metadata": {},
   "source": [
    "Построим точечные графики стоимости заказов для группа A и B. На них видно, что у большинства пользователей в двух группах сумма заказа не превышает 10 тысяч рублей, максимальная сумма заказа не превышает 100 тыс руб. Однако, на у группы В можно заметить аномально большой заказ, превышающий 1,2 млн.руб. Скорее всего это и есть причина резкого скачка кумулятивного среднего чека 19 августа. "
   ]
  },
  {
   "cell_type": "code",
   "execution_count": 23,
   "metadata": {},
   "outputs": [
    {
     "name": "stdout",
     "output_type": "stream",
     "text": [
      "[26718.  62764.4]\n",
      "[28787.45 55579.06]\n"
     ]
    }
   ],
   "source": [
    "print(np.percentile(revenue_per_ordersA, [95, 99])) \n",
    "print(np.percentile(revenue_per_ordersB, [95, 99])) "
   ]
  },
  {
   "cell_type": "markdown",
   "metadata": {},
   "source": [
    "Посчитаем 95-й и 99-й перцентили стоимости заказов. В группе А не более 5% заказов на сумму свыше 26718 руб и не более 1% на сумму свыше 62764 руб. В группе В не более 5% заказов на сумму свыше 28787 руб и не более 1% на сумму свыше 55579 руб."
   ]
  },
  {
   "cell_type": "markdown",
   "metadata": {},
   "source": [
    "<div class=\"alert alert-success\">\n",
    "<h2> Комментарий ревьюера<a class=\"tocSkip\"> </h2>\n",
    "\n",
    "<b>Все отлично!👍:</b>\n",
    "    \n",
    "Границы выбросов определены верно."
   ]
  },
  {
   "cell_type": "code",
   "execution_count": 24,
   "metadata": {},
   "outputs": [
    {
     "name": "stdout",
     "output_type": "stream",
     "text": [
      "0.017\n",
      "0.138\n"
     ]
    }
   ],
   "source": [
    "sampleA = pd.concat([\n",
    "                     ordersByUsersA['order_count'],\n",
    "                     pd.Series(0, index=np.arange(data['visitorsPerDateA'].sum() - len(ordersByUsersA['order_count'])),\n",
    "                     name='order_count')\n",
    "                     ],axis=0)\n",
    "sampleB = pd.concat([\n",
    "                     ordersByUsersB['order_count'],\n",
    "                     pd.Series(0, index=np.arange(data['visitorsPerDateB'].sum() - len(ordersByUsersB['order_count'])),\n",
    "                     name='order_count')\n",
    "                    ],axis=0)\n",
    "print(\"{0:.3f}\".format(st.mannwhitneyu(sampleA, sampleB, True, 'two-sided')[1]))\n",
    "print(\"{0:.3f}\".format(sampleB.mean() / sampleA.mean() - 1))"
   ]
  },
  {
   "cell_type": "markdown",
   "metadata": {},
   "source": [
    "Посчитаем статистическую значимость различий в среднем количестве заказов между группами по \"сырым\" данным и сформулируем гипотезы:\n",
    "Н0: статистически значимых различий в конверсии между группами нет.\n",
    "Н1: статистически значимые различия есть.\n",
    "Для тестирования воспользуемся критерием Манна-Уитни, уровнем статистической значимости примем значение 0,05. Таким образом, по \"сырым\" данным значение p-value = 0.017, что меньше уровня статистической значимости, следовательно отвергаем гипотезу H0. Относительная разница в конверсии между группами составила 13,8%."
   ]
  },
  {
   "cell_type": "code",
   "execution_count": 25,
   "metadata": {},
   "outputs": [
    {
     "name": "stdout",
     "output_type": "stream",
     "text": [
      "0.729\n",
      "0.259\n"
     ]
    }
   ],
   "source": [
    "print('{0:.3f}'.format(st.mannwhitneyu(orders[orders['group']=='A']['revenue'], orders[orders['group']=='B']['revenue'], True, 'two-sided')[1]))\n",
    "print('{0:.3f}'.format(orders[orders['group']=='B']['revenue'].mean()/orders[orders['group']=='A']['revenue'].mean()-1)) "
   ]
  },
  {
   "cell_type": "markdown",
   "metadata": {},
   "source": [
    "Посчитаем статистическую значимость различий в среднем чеке заказа между группами по \"сырым\" данным и сформулируем гипотезы: \n",
    "Н0: статистически значимых различий в среднем чеке заказа между группами нет. Н1: статистически значимые различия есть.  Для тестирования воспользуемся критерием Манна-Уитни, уровнем статистической значимости примем значение 0,05. Таким образом, по \"сырым\" данным значение p-value = 0.729, что значительно больше уровня статистической значимости, следовательно отвергнуть гипотезу H0 мы не можем. Относительная разница суммы среднего чека между группами составила 25.8%."
   ]
  },
  {
   "cell_type": "code",
   "execution_count": 26,
   "metadata": {},
   "outputs": [
    {
     "name": "stdout",
     "output_type": "stream",
     "text": [
      "568     113298937\n",
      "1099    148427295\n",
      "18      199603092\n",
      "928     204675465\n",
      "23      237748145\n",
      "Name: visitorid, dtype: int64\n",
      "количество аномальных пользователей группы A: (73,)\n",
      "1099    148427295\n",
      "928     204675465\n",
      "37      249864742\n",
      "684     358944393\n",
      "648     382846391\n",
      "Name: visitorid, dtype: int64\n",
      "количество аномальных пользователей группы В: (61,)\n"
     ]
    }
   ],
   "source": [
    "usersWithManyOrdersA = ordersByUsersA[ordersByUsersA['order_count'] > 2]['visitorid']\n",
    "  \n",
    "usersWithExpensiveOrdersA = orders[orders['revenue'] > 27000]['visitorid']\n",
    "abnormalUsersA = (\n",
    "    pd.concat([usersWithManyOrdersA, usersWithExpensiveOrdersA], axis=0)\n",
    "    .drop_duplicates()\n",
    "    .sort_values()\n",
    ")\n",
    "print(abnormalUsersA.head(5))\n",
    "print('количество аномальных пользователей группы A:',abnormalUsersA.shape) \n",
    "\n",
    "usersWithManyOrdersB = ordersByUsersB[ordersByUsersB['order_count'] > 2]['visitorid']\n",
    "usersWithExpensiveOrdersB = orders[orders['revenue'] > 29000]['visitorid']\n",
    "abnormalUsersB = (\n",
    "    pd.concat([usersWithManyOrdersB, usersWithExpensiveOrdersB], axis=0)\n",
    "    .drop_duplicates()\n",
    "    .sort_values()\n",
    ")\n",
    "print(abnormalUsersB.head(5))\n",
    "print('количество аномальных пользователей группы В:',abnormalUsersB.shape) "
   ]
  },
  {
   "cell_type": "markdown",
   "metadata": {},
   "source": [
    "Посчитаем количество аномальных пользователей по группам. Таким образом, в группе A - 73 пользователя, в группе B - 61."
   ]
  },
  {
   "cell_type": "code",
   "execution_count": 27,
   "metadata": {},
   "outputs": [
    {
     "name": "stdout",
     "output_type": "stream",
     "text": [
      "0.009\n",
      "0.185\n"
     ]
    }
   ],
   "source": [
    "sampleAFiltered = pd.concat(\n",
    "    [\n",
    "        ordersByUsersA[\n",
    "            np.logical_not(ordersByUsersA['visitorid'].isin(abnormalUsersA))\n",
    "        ]['order_count'],\n",
    "        pd.Series(\n",
    "            0,\n",
    "            index=np.arange(\n",
    "                data['visitorsPerDateA'].sum() - len(ordersByUsersA['order_count'])\n",
    "            ),\n",
    "            name='order_count',\n",
    "        ),\n",
    "    ],\n",
    "    axis=0,\n",
    ")\n",
    "\n",
    "sampleBFiltered = pd.concat(\n",
    "    [\n",
    "        ordersByUsersB[\n",
    "            np.logical_not(ordersByUsersB['visitorid'].isin(abnormalUsersB))\n",
    "        ]['order_count'],\n",
    "        pd.Series(\n",
    "            0,\n",
    "            index=np.arange(\n",
    "                data['visitorsPerDateB'].sum() - len(ordersByUsersB['order_count'])\n",
    "            ),\n",
    "            name='order_count',\n",
    "        ),\n",
    "    ],\n",
    "    axis=0,\n",
    ") \n",
    "print('{0:.3f}'.format(st.mannwhitneyu(sampleAFiltered, sampleBFiltered, True, 'two-sided')[1]))\n",
    "print('{0:.3f}'.format(sampleBFiltered.mean()/sampleAFiltered.mean()-1)) "
   ]
  },
  {
   "cell_type": "markdown",
   "metadata": {},
   "source": [
    "Посчитаем статистическу. значимость различий в среднем количестве заказов на посетителя между группами о \"очищенным данным\" и сформулируем следующие гипотезы:\n",
    "Н0:статистически значимых различий в среднем чеке заказа между группами нет.\n",
    "Н1:статистически значимые различия есть.\n",
    "уровнем статистической значимости примем значение 0,05.\n",
    "По \"очищенным\" данным значение p-value = 0.009, напомним, что по \"сырым\" данным было 0,017. Данное значение меньше уровня статистической значимости, следовательно гипотезу H0 отвергаем. Относительная разница в конверсии между группами составила 18.5%, напомним, что по \"сырым\" данным было 13.8%."
   ]
  },
  {
   "cell_type": "code",
   "execution_count": 28,
   "metadata": {},
   "outputs": [
    {
     "name": "stdout",
     "output_type": "stream",
     "text": [
      "0.996\n",
      "0.021\n"
     ]
    }
   ],
   "source": [
    "print(\n",
    "    '{0:.3f}'.format(\n",
    "        st.mannwhitneyu(\n",
    "            orders[\n",
    "                np.logical_and(\n",
    "                    orders['group'] == 'A',\n",
    "                    np.logical_not(orders['visitorid'].isin(abnormalUsersA)),\n",
    "                )\n",
    "            ]['revenue'],\n",
    "            orders[\n",
    "                np.logical_and(\n",
    "                    orders['group'] == 'B',\n",
    "                    np.logical_not(orders['visitorid'].isin(abnormalUsersB))\n",
    "                )\n",
    "            ]['revenue'], True, 'two-sided',\n",
    "        )[1]\n",
    "    )\n",
    ")\n",
    "\n",
    "print(\n",
    "    \"{0:.3f}\".format(\n",
    "        orders[\n",
    "            np.logical_and(\n",
    "                orders['group'] == 'B',\n",
    "                np.logical_not(orders['visitorid'].isin(abnormalUsersB)),\n",
    "            )\n",
    "        ]['revenue'].mean()\n",
    "        / orders[\n",
    "            np.logical_and(\n",
    "                orders['group'] == 'A',\n",
    "                np.logical_not(orders['visitorid'].isin(abnormalUsersA)),\n",
    "            )\n",
    "        ]['revenue'].mean()\n",
    "        - 1\n",
    "    )\n",
    ") "
   ]
  },
  {
   "cell_type": "markdown",
   "metadata": {},
   "source": [
    "Посчитаем статистическую значимость различий в среднем чеке заказа между группами по \"очищенным данным\" и сформулируем гипотезы: Н0: статистически значимых различий в среднем чеке заказа между группами нет. Н1: статистически значимые различия есть. Уровнем статистической значимости примем значение 0,05.\n",
    "Таким образом, по \"oчищенным\" данным значение p-value = 0.996, напомним, что по \"сырым\" данным было 0.729, что значительно больше уровня статистической значимости, следовательно гипотезу H0 не отвергаем. Относительная разница суммы среднего чека между группами составила 2.1%, напомним, что по \"сырым\" данным было 25.8. Получается, что значительных отличий среднего чека теперь нет."
   ]
  },
  {
   "cell_type": "markdown",
   "metadata": {},
   "source": [
    "<div class=\"alert alert-success\">\n",
    "<h2> Комментарий ревьюера<a class=\"tocSkip\"> </h2>\n",
    "\n",
    "<b>Все отлично!👍:</b>\n",
    "    \n",
    "Отличная работа! Тест для проверки гипотез выбран верно, результаты тестов проинтерпретированы корректно, плюс за формулировку гипотез в случае каждого теста."
   ]
  },
  {
   "cell_type": "markdown",
   "metadata": {},
   "source": [
    "<div class=\"alert alert-warning\">\n",
    "    <h2> Комментарий ревьюера <a class=\"tocSkip\"> </h2>\n",
    "    \n",
    "<b>Некоторые замечания и рекомендации💡:</b> \n",
    "    \n",
    "Несколько рекомендацией по этому шагу анализа (носят рекомендательный характер и являются развивающей обратной связью, при желании и возможности можно имплементировать часть (или все) рекомендации, а можно просто взять на вооружение🙌):\n",
    "\n",
    "* есть особенность в реализации теста Манна-Уитни <code>stats.mannwhitneyu</code>, тест имеет параметр <code>alternative</code>, по-умолчанию, он принимает значение <code>None</code> для совместимости, но в таком случае тест выполняет проверку похожую на одностороннюю, что не совсем корректно для нашего теста. Более корректные результаты можно получить, используя <code>alternative=\"two-sided\"</code>\n",
    "    \n",
    "Подробнее о проверках можно почитать вот в этой [статье](http://www.stat.yale.edu/Courses/1997-98/101/sigtest.htm#:~:text=An%20alternative%20hypothesis%20may%20be,the%20direction%20does%20not%20matter.) \n",
    "        \n",
    "В новой версии библиотеки scipy этот аргумент специфицируется по дефолту. В более старых версиях - его важно специфицировать. \n",
    "   \n",
    "* и еще про проблему выбора теста (одностороннего или двустороннего ты можешь почитать по ссылкам ниже):\n",
    "        \n",
    "`A two-tailed test is appropriate if you want to determine if there is any difference between the groups you are comparing. For instance, if you want to see if Group A scored higher or lower than Group B, then you would want to use a two-tailed test. This is because a two-tailed test uses both the positive and negative tails of the distribution. In other words, it tests for the possibility of positive or negative differences.`\n",
    "\n",
    "`A one-tailed test is appropriate if you only want to determine if there is a difference between groups in a specific direction. So, if you are only interested in determining if Group A scored higher than Group B, and you are completely uninterested in possibility of Group A scoring lower than Group B, then you may want to use a one-tailed test.`\n",
    "    \n",
    "Источник: https://www.statisticssolutions.com/should-you-use-a-one-tailed-test-or-a-two-tailed-test-for-your-data-analysis/#:~:text=This%20is%20because%20a%20two,groups%20in%20a%20specific%20direction.\n",
    "    \n",
    "И еще несколько ссылок по этому вопросу:\n",
    "    \n",
    "https://sphweb.bumc.bu.edu/otlt/mph-modules/bs/bs704_nonparametric/bs704_nonparametric4.html\n",
    "    \n",
    "https://stats.idre.ucla.edu/other/mult-pkg/faq/general/faq-what-are-the-differences-between-one-tailed-and-two-tailed-tests/\n",
    "    \n",
    "https://www.statisticshowto.com/probability-and-statistics/hypothesis-testing/one-tailed-test-or-two/\n",
    "        \n",
    "* чтобы аргументировать применение теста Манна-Уитни (один из аргументов - ненормальность распределения), можно проверить выборки на нормальность распределения, с этой задачей справится тест Шапиро:\n",
    "        \n",
    "реализация на Python\n",
    "        \n",
    "https://www.statology.org/shapiro-wilk-test-python/\n",
    "        \n",
    "https://machinelearningmastery.com/a-gentle-introduction-to-normality-tests-in-python/\n",
    "        \n",
    "https://towardsdatascience.com/methods-for-normality-test-with-application-in-python-bb91b49ed0f5"
   ]
  },
  {
   "cell_type": "markdown",
   "metadata": {},
   "source": [
    "### Результаты теста и общие выводы"
   ]
  },
  {
   "cell_type": "markdown",
   "metadata": {},
   "source": [
    "  В ходе работы было проведено исследование списка гипотез для увеличения выручки крупного интернет-магазина. Перед началом исследование необходимо было обработать входные данные. В ходе работы проверены данные на пропущенные значения, заменены типы данных для простоты исследования. После всех исправлений была проведена приоритизация гипотез и анализ A/B-теста. \n",
    "  За основу была взята гипотеза №7 - \"Добавить форму подписки на все основные страницы, чтобы собрать базу клиентов для email-рассылок\".  Анализ A/B-теста показал: \n",
    "  - Есть статистические различия по среднему количеству заказов между группами по \"сырым\" и \"очищенным данным;\n",
    "  - Нет статистически значимых различий между группами по \"сырым\" и \"очищенным\" данным;\n",
    "  - График различия среднего количества заказов между группами показал, что конверия группы B выше чем у группы A;\n",
    "  - График различия среднего чека схож у двух групп, на нем не видны сильные различия. \n",
    "  \n",
    "  \n",
    "  Таким образом, останавливаем тест и фиксируем победу у группы B.\n",
    "  "
   ]
  },
  {
   "cell_type": "markdown",
   "metadata": {},
   "source": [
    "<div style=\"border:solid Chocolate 2px; padding: 40px\">\n",
    "\n",
    "**Общий вывод по проекту**\n",
    "\n",
    "Эдгар, спасибо за твой проект! Ты приложил много усилий, чтобы довести его до конца, все задачи в рамках проекта тебе удалось успешно решить, это видно невооруженным глазом, отличная работа! У меня нет критичных замечаний к твоей работе, только несколько рекомендаций, которые ты сможешь освоить самостоятельно в удобное для тебя время👌\n",
    "    \n",
    "\n",
    "**Отмечу отдельные положительные моменты проекта🙂**:\n",
    "* На разных шагах проекта ты предлагал очень интересные решения и методы для их реализации. Хорошая работа!\n",
    "* Ты активно работал с визуализацией, хорошо, что ты используешь графики в работе над проектами!\n",
    "* Тест для проверки гипотез выбран верно, интерпретация результатов теста также корректна:)\n",
    "* Проект в целом хорошо структурирован и оформлен, это плюс:)\n",
    "\n",
    "    \n",
    "Спешу тебе сообщить, что твой проект принят и ты можешь перейти на следующий спринт🐱‍🏍\n",
    "    \n",
    "Желаю тебе крутых и интересных проектов на следующих спринтах🙌😉\n",
    "    \n",
    "![gif](https://media.giphy.com/media/l41Yh1olOKd1Tgbw4/giphy.gif)"
   ]
  },
  {
   "cell_type": "code",
   "execution_count": null,
   "metadata": {},
   "outputs": [],
   "source": []
  }
 ],
 "metadata": {
  "ExecuteTimeLog": [
   {
    "duration": 1654,
    "start_time": "2023-02-04T08:25:33.141Z"
   },
   {
    "duration": 48,
    "start_time": "2023-02-04T08:25:49.797Z"
   },
   {
    "duration": 189,
    "start_time": "2023-02-04T08:26:26.383Z"
   },
   {
    "duration": 107,
    "start_time": "2023-02-04T08:30:58.076Z"
   },
   {
    "duration": 156,
    "start_time": "2023-02-04T08:31:16.045Z"
   },
   {
    "duration": 92,
    "start_time": "2023-02-04T08:31:35.635Z"
   },
   {
    "duration": 31,
    "start_time": "2023-02-04T08:33:08.663Z"
   },
   {
    "duration": 14,
    "start_time": "2023-02-04T08:33:36.451Z"
   },
   {
    "duration": 12,
    "start_time": "2023-02-04T08:33:49.262Z"
   },
   {
    "duration": 4,
    "start_time": "2023-02-04T08:33:59.803Z"
   },
   {
    "duration": 8,
    "start_time": "2023-02-04T08:36:02.099Z"
   },
   {
    "duration": 3,
    "start_time": "2023-02-04T08:37:56.578Z"
   },
   {
    "duration": 76,
    "start_time": "2023-02-04T08:37:57.366Z"
   },
   {
    "duration": 70,
    "start_time": "2023-02-04T08:38:02.559Z"
   },
   {
    "duration": 30,
    "start_time": "2023-02-04T08:38:08.094Z"
   },
   {
    "duration": 13,
    "start_time": "2023-02-04T08:38:08.640Z"
   },
   {
    "duration": 10,
    "start_time": "2023-02-04T08:38:09.246Z"
   },
   {
    "duration": 7,
    "start_time": "2023-02-04T08:38:10.282Z"
   },
   {
    "duration": 6,
    "start_time": "2023-02-04T08:38:11.454Z"
   },
   {
    "duration": 30,
    "start_time": "2023-02-04T08:38:38.778Z"
   },
   {
    "duration": 5,
    "start_time": "2023-02-04T08:44:14.154Z"
   },
   {
    "duration": 72,
    "start_time": "2023-02-04T08:44:14.456Z"
   },
   {
    "duration": 36,
    "start_time": "2023-02-04T08:44:14.779Z"
   },
   {
    "duration": 18,
    "start_time": "2023-02-04T08:44:14.946Z"
   },
   {
    "duration": 16,
    "start_time": "2023-02-04T08:44:15.106Z"
   },
   {
    "duration": 5,
    "start_time": "2023-02-04T08:44:15.275Z"
   },
   {
    "duration": 8,
    "start_time": "2023-02-04T08:44:15.446Z"
   },
   {
    "duration": 34,
    "start_time": "2023-02-04T08:44:15.640Z"
   },
   {
    "duration": 4,
    "start_time": "2023-02-04T08:45:20.740Z"
   },
   {
    "duration": 65,
    "start_time": "2023-02-04T08:45:20.895Z"
   },
   {
    "duration": 36,
    "start_time": "2023-02-04T08:45:21.044Z"
   },
   {
    "duration": 16,
    "start_time": "2023-02-04T08:45:21.374Z"
   },
   {
    "duration": 13,
    "start_time": "2023-02-04T08:45:21.565Z"
   },
   {
    "duration": 4,
    "start_time": "2023-02-04T08:45:21.743Z"
   },
   {
    "duration": 7,
    "start_time": "2023-02-04T08:45:21.960Z"
   },
   {
    "duration": 34,
    "start_time": "2023-02-04T08:45:22.182Z"
   },
   {
    "duration": 5,
    "start_time": "2023-02-04T08:48:54.788Z"
   },
   {
    "duration": 16,
    "start_time": "2023-02-04T08:49:43.040Z"
   },
   {
    "duration": 13,
    "start_time": "2023-02-04T08:50:40.436Z"
   },
   {
    "duration": 21,
    "start_time": "2023-02-04T08:51:25.396Z"
   },
   {
    "duration": 5,
    "start_time": "2023-02-04T08:53:19.138Z"
   },
   {
    "duration": 18,
    "start_time": "2023-02-04T08:53:23.578Z"
   },
   {
    "duration": 16,
    "start_time": "2023-02-04T08:53:41.585Z"
   },
   {
    "duration": 5,
    "start_time": "2023-02-04T08:56:08.926Z"
   },
   {
    "duration": 15,
    "start_time": "2023-02-04T08:56:09.364Z"
   },
   {
    "duration": 4,
    "start_time": "2023-02-04T08:56:39.738Z"
   },
   {
    "duration": 73,
    "start_time": "2023-02-04T08:56:39.899Z"
   },
   {
    "duration": 29,
    "start_time": "2023-02-04T08:56:40.065Z"
   },
   {
    "duration": 16,
    "start_time": "2023-02-04T08:56:40.234Z"
   },
   {
    "duration": 13,
    "start_time": "2023-02-04T08:56:40.382Z"
   },
   {
    "duration": 5,
    "start_time": "2023-02-04T08:56:40.553Z"
   },
   {
    "duration": 6,
    "start_time": "2023-02-04T08:56:40.730Z"
   },
   {
    "duration": 25,
    "start_time": "2023-02-04T08:56:40.880Z"
   },
   {
    "duration": 5,
    "start_time": "2023-02-04T08:56:41.373Z"
   },
   {
    "duration": 18,
    "start_time": "2023-02-04T08:56:41.872Z"
   },
   {
    "duration": 19,
    "start_time": "2023-02-04T08:56:42.237Z"
   },
   {
    "duration": 4,
    "start_time": "2023-02-04T09:02:30.265Z"
   },
   {
    "duration": 3,
    "start_time": "2023-02-04T09:02:56.573Z"
   },
   {
    "duration": 4,
    "start_time": "2023-02-04T09:03:42.009Z"
   },
   {
    "duration": 5,
    "start_time": "2023-02-04T09:03:43.098Z"
   },
   {
    "duration": 4,
    "start_time": "2023-02-04T09:03:45.530Z"
   },
   {
    "duration": 72,
    "start_time": "2023-02-04T09:03:45.727Z"
   },
   {
    "duration": 38,
    "start_time": "2023-02-04T09:03:45.863Z"
   },
   {
    "duration": 17,
    "start_time": "2023-02-04T09:03:46.030Z"
   },
   {
    "duration": 15,
    "start_time": "2023-02-04T09:03:46.179Z"
   },
   {
    "duration": 3,
    "start_time": "2023-02-04T09:03:46.383Z"
   },
   {
    "duration": 4,
    "start_time": "2023-02-04T09:03:46.535Z"
   },
   {
    "duration": 11,
    "start_time": "2023-02-04T09:03:46.698Z"
   },
   {
    "duration": 33,
    "start_time": "2023-02-04T09:03:46.838Z"
   },
   {
    "duration": 5,
    "start_time": "2023-02-04T09:03:47.346Z"
   },
   {
    "duration": 19,
    "start_time": "2023-02-04T09:03:47.718Z"
   },
   {
    "duration": 16,
    "start_time": "2023-02-04T09:03:48.910Z"
   },
   {
    "duration": 18,
    "start_time": "2023-02-04T09:03:54.022Z"
   },
   {
    "duration": 23,
    "start_time": "2023-02-04T09:03:55.570Z"
   },
   {
    "duration": 4,
    "start_time": "2023-02-04T09:04:24.835Z"
   },
   {
    "duration": 5,
    "start_time": "2023-02-04T09:04:27.063Z"
   },
   {
    "duration": 70,
    "start_time": "2023-02-04T09:04:27.226Z"
   },
   {
    "duration": 32,
    "start_time": "2023-02-04T09:04:27.366Z"
   },
   {
    "duration": 18,
    "start_time": "2023-02-04T09:04:27.550Z"
   },
   {
    "duration": 17,
    "start_time": "2023-02-04T09:04:27.684Z"
   },
   {
    "duration": 5,
    "start_time": "2023-02-04T09:04:27.861Z"
   },
   {
    "duration": 5,
    "start_time": "2023-02-04T09:04:28.003Z"
   },
   {
    "duration": 8,
    "start_time": "2023-02-04T09:04:28.895Z"
   },
   {
    "duration": 36,
    "start_time": "2023-02-04T09:04:29.647Z"
   },
   {
    "duration": 4,
    "start_time": "2023-02-04T09:04:30.783Z"
   },
   {
    "duration": 19,
    "start_time": "2023-02-04T09:04:31.553Z"
   },
   {
    "duration": 18,
    "start_time": "2023-02-04T09:04:36.229Z"
   },
   {
    "duration": 3,
    "start_time": "2023-02-04T09:04:47.385Z"
   },
   {
    "duration": 5,
    "start_time": "2023-02-04T09:04:47.759Z"
   },
   {
    "duration": 9,
    "start_time": "2023-02-04T09:04:47.945Z"
   },
   {
    "duration": 36,
    "start_time": "2023-02-04T09:04:48.141Z"
   },
   {
    "duration": 4,
    "start_time": "2023-02-04T09:04:48.661Z"
   },
   {
    "duration": 25,
    "start_time": "2023-02-04T09:04:49.555Z"
   },
   {
    "duration": 20,
    "start_time": "2023-02-04T09:04:58.803Z"
   },
   {
    "duration": 4,
    "start_time": "2023-02-04T09:05:09.074Z"
   },
   {
    "duration": 5,
    "start_time": "2023-02-04T09:05:09.267Z"
   },
   {
    "duration": 10,
    "start_time": "2023-02-04T09:05:09.367Z"
   },
   {
    "duration": 37,
    "start_time": "2023-02-04T09:05:09.603Z"
   },
   {
    "duration": 6,
    "start_time": "2023-02-04T09:05:10.456Z"
   },
   {
    "duration": 24,
    "start_time": "2023-02-04T09:05:11.199Z"
   },
   {
    "duration": 3,
    "start_time": "2023-02-04T09:05:21.037Z"
   },
   {
    "duration": 5,
    "start_time": "2023-02-04T09:05:21.273Z"
   },
   {
    "duration": 10,
    "start_time": "2023-02-04T09:05:21.472Z"
   },
   {
    "duration": 30,
    "start_time": "2023-02-04T09:05:21.659Z"
   },
   {
    "duration": 4,
    "start_time": "2023-02-04T09:05:22.163Z"
   },
   {
    "duration": 16,
    "start_time": "2023-02-04T09:05:22.537Z"
   },
   {
    "duration": 15,
    "start_time": "2023-02-04T09:05:24.081Z"
   },
   {
    "duration": 4,
    "start_time": "2023-02-04T09:05:34.054Z"
   },
   {
    "duration": 68,
    "start_time": "2023-02-04T09:05:34.189Z"
   },
   {
    "duration": 28,
    "start_time": "2023-02-04T09:05:34.341Z"
   },
   {
    "duration": 14,
    "start_time": "2023-02-04T09:05:34.509Z"
   },
   {
    "duration": 11,
    "start_time": "2023-02-04T09:05:34.662Z"
   },
   {
    "duration": 4,
    "start_time": "2023-02-04T09:05:34.861Z"
   },
   {
    "duration": 4,
    "start_time": "2023-02-04T09:05:35.008Z"
   },
   {
    "duration": 8,
    "start_time": "2023-02-04T09:05:35.181Z"
   },
   {
    "duration": 27,
    "start_time": "2023-02-04T09:05:35.353Z"
   },
   {
    "duration": 5,
    "start_time": "2023-02-04T09:05:36.049Z"
   },
   {
    "duration": 15,
    "start_time": "2023-02-04T09:05:36.442Z"
   },
   {
    "duration": 17,
    "start_time": "2023-02-04T09:05:37.058Z"
   },
   {
    "duration": 3,
    "start_time": "2023-02-04T09:18:42.217Z"
   },
   {
    "duration": 65,
    "start_time": "2023-02-04T09:18:42.396Z"
   },
   {
    "duration": 26,
    "start_time": "2023-02-04T09:18:42.559Z"
   },
   {
    "duration": 13,
    "start_time": "2023-02-04T09:18:42.703Z"
   },
   {
    "duration": 12,
    "start_time": "2023-02-04T09:18:42.885Z"
   },
   {
    "duration": 3,
    "start_time": "2023-02-04T09:18:43.033Z"
   },
   {
    "duration": 4,
    "start_time": "2023-02-04T09:18:43.195Z"
   },
   {
    "duration": 7,
    "start_time": "2023-02-04T09:18:43.359Z"
   },
   {
    "duration": 26,
    "start_time": "2023-02-04T09:18:43.548Z"
   },
   {
    "duration": 5,
    "start_time": "2023-02-04T09:18:44.021Z"
   },
   {
    "duration": 18,
    "start_time": "2023-02-04T09:18:44.598Z"
   },
   {
    "duration": 12,
    "start_time": "2023-02-04T09:18:45.241Z"
   },
   {
    "duration": 3,
    "start_time": "2023-02-04T09:20:29.968Z"
   },
   {
    "duration": 67,
    "start_time": "2023-02-04T09:20:30.117Z"
   },
   {
    "duration": 27,
    "start_time": "2023-02-04T09:20:30.293Z"
   },
   {
    "duration": 14,
    "start_time": "2023-02-04T09:20:30.463Z"
   },
   {
    "duration": 15,
    "start_time": "2023-02-04T09:20:30.624Z"
   },
   {
    "duration": 3,
    "start_time": "2023-02-04T09:20:30.783Z"
   },
   {
    "duration": 4,
    "start_time": "2023-02-04T09:20:30.965Z"
   },
   {
    "duration": 6,
    "start_time": "2023-02-04T09:20:31.128Z"
   },
   {
    "duration": 26,
    "start_time": "2023-02-04T09:20:31.302Z"
   },
   {
    "duration": 3,
    "start_time": "2023-02-04T09:20:31.865Z"
   },
   {
    "duration": 15,
    "start_time": "2023-02-04T09:20:32.254Z"
   },
   {
    "duration": 13,
    "start_time": "2023-02-04T09:20:32.593Z"
   },
   {
    "duration": 1749,
    "start_time": "2023-02-04T09:24:45.775Z"
   },
   {
    "duration": 11,
    "start_time": "2023-02-04T09:25:04.801Z"
   },
   {
    "duration": 10,
    "start_time": "2023-02-04T09:25:49.033Z"
   },
   {
    "duration": 1608,
    "start_time": "2023-02-04T09:25:49.537Z"
   },
   {
    "duration": 16,
    "start_time": "2023-02-04T09:25:59.544Z"
   },
   {
    "duration": 314,
    "start_time": "2023-02-04T09:26:51.906Z"
   },
   {
    "duration": 13,
    "start_time": "2023-02-04T09:28:03.594Z"
   },
   {
    "duration": 14,
    "start_time": "2023-02-04T09:28:04.051Z"
   },
   {
    "duration": 369,
    "start_time": "2023-02-04T09:28:19.679Z"
   },
   {
    "duration": 14,
    "start_time": "2023-02-04T09:30:15.027Z"
   },
   {
    "duration": 11,
    "start_time": "2023-02-04T09:30:15.197Z"
   },
   {
    "duration": 365,
    "start_time": "2023-02-04T09:30:15.378Z"
   },
   {
    "duration": 459,
    "start_time": "2023-02-04T09:30:15.746Z"
   },
   {
    "duration": 244,
    "start_time": "2023-02-04T09:56:27.749Z"
   },
   {
    "duration": 13,
    "start_time": "2023-02-04T09:57:26.060Z"
   },
   {
    "duration": 387,
    "start_time": "2023-02-04T09:57:52.179Z"
   },
   {
    "duration": 246,
    "start_time": "2023-02-04T10:03:16.718Z"
   },
   {
    "duration": 268,
    "start_time": "2023-02-04T10:05:08.021Z"
   },
   {
    "duration": 151,
    "start_time": "2023-02-04T10:05:58.231Z"
   },
   {
    "duration": 66,
    "start_time": "2023-02-04T10:05:58.418Z"
   },
   {
    "duration": 25,
    "start_time": "2023-02-04T10:05:58.578Z"
   },
   {
    "duration": 15,
    "start_time": "2023-02-04T10:05:58.732Z"
   },
   {
    "duration": 16,
    "start_time": "2023-02-04T10:05:58.891Z"
   },
   {
    "duration": 3,
    "start_time": "2023-02-04T10:05:59.043Z"
   },
   {
    "duration": 5,
    "start_time": "2023-02-04T10:05:59.201Z"
   },
   {
    "duration": 9,
    "start_time": "2023-02-04T10:05:59.358Z"
   },
   {
    "duration": 27,
    "start_time": "2023-02-04T10:05:59.529Z"
   },
   {
    "duration": 5,
    "start_time": "2023-02-04T10:05:59.996Z"
   },
   {
    "duration": 14,
    "start_time": "2023-02-04T10:06:00.324Z"
   },
   {
    "duration": 19,
    "start_time": "2023-02-04T10:06:00.662Z"
   },
   {
    "duration": 13,
    "start_time": "2023-02-04T10:06:01.373Z"
   },
   {
    "duration": 11,
    "start_time": "2023-02-04T10:06:01.558Z"
   },
   {
    "duration": 331,
    "start_time": "2023-02-04T10:06:01.723Z"
   },
   {
    "duration": 265,
    "start_time": "2023-02-04T10:06:02.057Z"
   },
   {
    "duration": 266,
    "start_time": "2023-02-04T10:06:02.324Z"
   },
   {
    "duration": 323,
    "start_time": "2023-02-04T10:06:02.628Z"
   },
   {
    "duration": 235,
    "start_time": "2023-02-04T10:06:03.228Z"
   },
   {
    "duration": 242,
    "start_time": "2023-02-04T10:06:09.889Z"
   },
   {
    "duration": 3,
    "start_time": "2023-02-04T10:06:18.661Z"
   },
   {
    "duration": 71,
    "start_time": "2023-02-04T10:06:18.834Z"
   },
   {
    "duration": 28,
    "start_time": "2023-02-04T10:06:19.015Z"
   },
   {
    "duration": 12,
    "start_time": "2023-02-04T10:06:19.164Z"
   },
   {
    "duration": 12,
    "start_time": "2023-02-04T10:06:19.334Z"
   },
   {
    "duration": 4,
    "start_time": "2023-02-04T10:06:19.475Z"
   },
   {
    "duration": 6,
    "start_time": "2023-02-04T10:06:19.647Z"
   },
   {
    "duration": 8,
    "start_time": "2023-02-04T10:06:19.800Z"
   },
   {
    "duration": 26,
    "start_time": "2023-02-04T10:06:19.971Z"
   },
   {
    "duration": 6,
    "start_time": "2023-02-04T10:06:20.515Z"
   },
   {
    "duration": 15,
    "start_time": "2023-02-04T10:06:20.866Z"
   },
   {
    "duration": 15,
    "start_time": "2023-02-04T10:06:21.220Z"
   },
   {
    "duration": 13,
    "start_time": "2023-02-04T10:06:21.995Z"
   },
   {
    "duration": 13,
    "start_time": "2023-02-04T10:06:22.185Z"
   },
   {
    "duration": 299,
    "start_time": "2023-02-04T10:06:22.459Z"
   },
   {
    "duration": 266,
    "start_time": "2023-02-04T10:06:22.760Z"
   },
   {
    "duration": 316,
    "start_time": "2023-02-04T10:06:23.794Z"
   },
   {
    "duration": 330,
    "start_time": "2023-02-04T10:06:24.692Z"
   },
   {
    "duration": 226,
    "start_time": "2023-02-04T10:06:25.838Z"
   },
   {
    "duration": 234,
    "start_time": "2023-02-04T10:06:46.159Z"
   },
   {
    "duration": 408,
    "start_time": "2023-02-04T10:07:22.160Z"
   },
   {
    "duration": 520,
    "start_time": "2023-02-04T10:07:28.159Z"
   },
   {
    "duration": 405,
    "start_time": "2023-02-04T10:07:33.679Z"
   },
   {
    "duration": 19,
    "start_time": "2023-02-04T10:08:03.961Z"
   },
   {
    "duration": 336,
    "start_time": "2023-02-04T10:08:17.741Z"
   },
   {
    "duration": 338,
    "start_time": "2023-02-04T10:11:49.992Z"
   },
   {
    "duration": 306,
    "start_time": "2023-02-04T10:12:11.480Z"
   },
   {
    "duration": 414,
    "start_time": "2023-02-04T10:12:41.064Z"
   },
   {
    "duration": 362,
    "start_time": "2023-02-04T10:12:56.790Z"
   },
   {
    "duration": 342,
    "start_time": "2023-02-04T10:13:06.116Z"
   },
   {
    "duration": 279,
    "start_time": "2023-02-04T10:13:26.707Z"
   },
   {
    "duration": 264,
    "start_time": "2023-02-04T10:13:40.961Z"
   },
   {
    "duration": 264,
    "start_time": "2023-02-04T10:13:46.799Z"
   },
   {
    "duration": 386,
    "start_time": "2023-02-04T10:14:53.360Z"
   },
   {
    "duration": 326,
    "start_time": "2023-02-04T10:15:07.641Z"
   },
   {
    "duration": 1621,
    "start_time": "2023-02-04T10:15:26.914Z"
   },
   {
    "duration": 255,
    "start_time": "2023-02-04T10:16:02.315Z"
   },
   {
    "duration": 354,
    "start_time": "2023-02-04T10:17:05.125Z"
   },
   {
    "duration": 5,
    "start_time": "2023-02-04T11:15:45.153Z"
   },
   {
    "duration": 188,
    "start_time": "2023-02-04T11:16:07.850Z"
   },
   {
    "duration": 217,
    "start_time": "2023-02-04T11:17:20.526Z"
   },
   {
    "duration": 13,
    "start_time": "2023-02-04T11:17:42.769Z"
   },
   {
    "duration": 13,
    "start_time": "2023-02-04T11:17:51.767Z"
   },
   {
    "duration": 186,
    "start_time": "2023-02-04T11:17:58.869Z"
   },
   {
    "duration": 7,
    "start_time": "2023-02-04T11:18:47.589Z"
   },
   {
    "duration": 140,
    "start_time": "2023-02-04T11:19:53.644Z"
   },
   {
    "duration": 130,
    "start_time": "2023-02-04T11:20:17.845Z"
   },
   {
    "duration": 186,
    "start_time": "2023-02-04T11:20:35.211Z"
   },
   {
    "duration": 325,
    "start_time": "2023-02-04T11:21:07.078Z"
   },
   {
    "duration": 110,
    "start_time": "2023-02-04T11:23:54.863Z"
   },
   {
    "duration": 20,
    "start_time": "2023-02-04T11:24:17.045Z"
   },
   {
    "duration": 236,
    "start_time": "2023-02-04T11:24:40.448Z"
   },
   {
    "duration": 15,
    "start_time": "2023-02-04T11:26:20.609Z"
   },
   {
    "duration": 1686,
    "start_time": "2023-02-04T11:26:58.287Z"
   },
   {
    "duration": 1625,
    "start_time": "2023-02-04T11:27:16.969Z"
   },
   {
    "duration": 15,
    "start_time": "2023-02-04T11:27:25.723Z"
   },
   {
    "duration": 9,
    "start_time": "2023-02-04T11:27:54.524Z"
   },
   {
    "duration": 1605,
    "start_time": "2023-02-04T11:28:14.444Z"
   },
   {
    "duration": 10,
    "start_time": "2023-02-04T11:28:23.795Z"
   },
   {
    "duration": 58,
    "start_time": "2023-02-04T11:29:19.676Z"
   },
   {
    "duration": 2006,
    "start_time": "2023-02-04T11:30:13.840Z"
   },
   {
    "duration": 15,
    "start_time": "2023-02-04T11:30:27.030Z"
   },
   {
    "duration": 9,
    "start_time": "2023-02-04T11:31:35.103Z"
   },
   {
    "duration": 66,
    "start_time": "2023-02-04T11:31:35.249Z"
   },
   {
    "duration": 27,
    "start_time": "2023-02-04T11:31:35.400Z"
   },
   {
    "duration": 13,
    "start_time": "2023-02-04T11:31:35.553Z"
   },
   {
    "duration": 11,
    "start_time": "2023-02-04T11:31:35.712Z"
   },
   {
    "duration": 3,
    "start_time": "2023-02-04T11:31:35.936Z"
   },
   {
    "duration": 4,
    "start_time": "2023-02-04T11:31:36.096Z"
   },
   {
    "duration": 6,
    "start_time": "2023-02-04T11:31:36.283Z"
   },
   {
    "duration": 24,
    "start_time": "2023-02-04T11:31:36.475Z"
   },
   {
    "duration": 4,
    "start_time": "2023-02-04T11:31:36.976Z"
   },
   {
    "duration": 13,
    "start_time": "2023-02-04T11:31:37.323Z"
   },
   {
    "duration": 18,
    "start_time": "2023-02-04T11:31:37.641Z"
   },
   {
    "duration": 14,
    "start_time": "2023-02-04T11:31:38.338Z"
   },
   {
    "duration": 16,
    "start_time": "2023-02-04T11:31:38.521Z"
   },
   {
    "duration": 342,
    "start_time": "2023-02-04T11:31:38.688Z"
   },
   {
    "duration": 255,
    "start_time": "2023-02-04T11:31:39.032Z"
   },
   {
    "duration": 250,
    "start_time": "2023-02-04T11:31:39.289Z"
   },
   {
    "duration": 387,
    "start_time": "2023-02-04T11:31:39.586Z"
   },
   {
    "duration": 283,
    "start_time": "2023-02-04T11:31:39.975Z"
   },
   {
    "duration": 496,
    "start_time": "2023-02-04T11:31:40.291Z"
   },
   {
    "duration": 344,
    "start_time": "2023-02-04T11:31:40.789Z"
   },
   {
    "duration": 5,
    "start_time": "2023-02-04T11:31:41.135Z"
   },
   {
    "duration": 196,
    "start_time": "2023-02-04T11:31:41.450Z"
   },
   {
    "duration": 177,
    "start_time": "2023-02-04T11:31:41.832Z"
   },
   {
    "duration": 7,
    "start_time": "2023-02-04T11:31:42.216Z"
   },
   {
    "duration": 262,
    "start_time": "2023-02-04T11:31:42.631Z"
   },
   {
    "duration": 190,
    "start_time": "2023-02-04T11:31:42.895Z"
   },
   {
    "duration": 16,
    "start_time": "2023-02-04T11:31:43.288Z"
   },
   {
    "duration": 11,
    "start_time": "2023-02-04T11:31:43.822Z"
   },
   {
    "duration": 37,
    "start_time": "2023-02-04T11:31:44.640Z"
   },
   {
    "duration": 15,
    "start_time": "2023-02-04T11:31:44.679Z"
   },
   {
    "duration": 1264,
    "start_time": "2023-02-05T08:23:56.285Z"
   },
   {
    "duration": 180,
    "start_time": "2023-02-05T08:23:57.551Z"
   },
   {
    "duration": 28,
    "start_time": "2023-02-05T08:23:57.733Z"
   },
   {
    "duration": 13,
    "start_time": "2023-02-05T08:23:58.124Z"
   },
   {
    "duration": 10,
    "start_time": "2023-02-05T08:23:59.508Z"
   },
   {
    "duration": 3,
    "start_time": "2023-02-05T08:23:59.980Z"
   },
   {
    "duration": 4,
    "start_time": "2023-02-05T08:24:00.436Z"
   },
   {
    "duration": 6,
    "start_time": "2023-02-05T08:24:00.830Z"
   },
   {
    "duration": 25,
    "start_time": "2023-02-05T08:24:01.449Z"
   },
   {
    "duration": 4,
    "start_time": "2023-02-05T08:24:03.423Z"
   },
   {
    "duration": 15,
    "start_time": "2023-02-05T08:24:04.458Z"
   },
   {
    "duration": 12,
    "start_time": "2023-02-05T08:24:05.687Z"
   },
   {
    "duration": 10,
    "start_time": "2023-02-05T08:24:09.576Z"
   },
   {
    "duration": 198,
    "start_time": "2023-02-05T08:31:30.681Z"
   },
   {
    "duration": 226,
    "start_time": "2023-02-05T08:32:17.162Z"
   },
   {
    "duration": 9,
    "start_time": "2023-02-05T08:33:38.274Z"
   },
   {
    "duration": 13,
    "start_time": "2023-02-05T08:33:43.311Z"
   },
   {
    "duration": 15,
    "start_time": "2023-02-05T08:34:00.193Z"
   },
   {
    "duration": 9,
    "start_time": "2023-02-05T08:34:26.594Z"
   },
   {
    "duration": 9,
    "start_time": "2023-02-05T08:34:45.942Z"
   },
   {
    "duration": 245,
    "start_time": "2023-02-05T08:37:39.294Z"
   },
   {
    "duration": 126,
    "start_time": "2023-02-05T08:38:48.714Z"
   },
   {
    "duration": 240,
    "start_time": "2023-02-05T08:39:25.347Z"
   },
   {
    "duration": 13,
    "start_time": "2023-02-05T08:39:58.117Z"
   },
   {
    "duration": 10,
    "start_time": "2023-02-05T08:40:59.353Z"
   },
   {
    "duration": 315,
    "start_time": "2023-02-05T08:43:20.946Z"
   },
   {
    "duration": 229,
    "start_time": "2023-02-05T08:44:31.544Z"
   },
   {
    "duration": 242,
    "start_time": "2023-02-05T08:44:53.838Z"
   },
   {
    "duration": 273,
    "start_time": "2023-02-05T08:45:01.939Z"
   },
   {
    "duration": 10,
    "start_time": "2023-02-05T08:45:27.688Z"
   },
   {
    "duration": 221,
    "start_time": "2023-02-05T08:45:28.649Z"
   },
   {
    "duration": 280,
    "start_time": "2023-02-05T08:45:35.031Z"
   },
   {
    "duration": 152,
    "start_time": "2023-02-05T08:47:36.952Z"
   },
   {
    "duration": 228,
    "start_time": "2023-02-05T08:47:53.070Z"
   },
   {
    "duration": 249,
    "start_time": "2023-02-05T08:49:14.293Z"
   },
   {
    "duration": 272,
    "start_time": "2023-02-05T08:49:33.095Z"
   },
   {
    "duration": 10,
    "start_time": "2023-02-05T08:51:41.162Z"
   },
   {
    "duration": 367,
    "start_time": "2023-02-05T08:52:01.212Z"
   },
   {
    "duration": 384,
    "start_time": "2023-02-05T08:52:31.761Z"
   },
   {
    "duration": 400,
    "start_time": "2023-02-05T08:53:04.193Z"
   },
   {
    "duration": 145,
    "start_time": "2023-02-05T08:56:11.849Z"
   },
   {
    "duration": 330,
    "start_time": "2023-02-05T08:56:54.605Z"
   },
   {
    "duration": 425,
    "start_time": "2023-02-05T08:57:39.745Z"
   },
   {
    "duration": 3,
    "start_time": "2023-02-05T08:59:46.688Z"
   },
   {
    "duration": 65,
    "start_time": "2023-02-05T08:59:46.870Z"
   },
   {
    "duration": 30,
    "start_time": "2023-02-05T08:59:47.046Z"
   },
   {
    "duration": 12,
    "start_time": "2023-02-05T08:59:47.222Z"
   },
   {
    "duration": 11,
    "start_time": "2023-02-05T08:59:47.426Z"
   },
   {
    "duration": 4,
    "start_time": "2023-02-05T08:59:47.622Z"
   },
   {
    "duration": 4,
    "start_time": "2023-02-05T08:59:47.814Z"
   },
   {
    "duration": 7,
    "start_time": "2023-02-05T08:59:48.031Z"
   },
   {
    "duration": 24,
    "start_time": "2023-02-05T08:59:48.233Z"
   },
   {
    "duration": 4,
    "start_time": "2023-02-05T08:59:48.792Z"
   },
   {
    "duration": 12,
    "start_time": "2023-02-05T08:59:49.224Z"
   },
   {
    "duration": 12,
    "start_time": "2023-02-05T08:59:50.066Z"
   },
   {
    "duration": 10,
    "start_time": "2023-02-05T08:59:51.631Z"
   },
   {
    "duration": 237,
    "start_time": "2023-02-05T08:59:53.623Z"
   },
   {
    "duration": 266,
    "start_time": "2023-02-05T08:59:56.020Z"
   },
   {
    "duration": 316,
    "start_time": "2023-02-05T08:59:57.724Z"
   },
   {
    "duration": 372,
    "start_time": "2023-02-05T08:59:59.214Z"
   },
   {
    "duration": 308,
    "start_time": "2023-02-05T09:00:04.522Z"
   },
   {
    "duration": 347,
    "start_time": "2023-02-05T09:02:33.735Z"
   },
   {
    "duration": 380,
    "start_time": "2023-02-05T09:03:30.549Z"
   },
   {
    "duration": 277,
    "start_time": "2023-02-05T09:06:21.269Z"
   },
   {
    "duration": 109,
    "start_time": "2023-02-05T09:07:14.392Z"
   },
   {
    "duration": 20,
    "start_time": "2023-02-05T09:07:40.268Z"
   },
   {
    "duration": 278,
    "start_time": "2023-02-05T09:07:56.710Z"
   },
   {
    "duration": 276,
    "start_time": "2023-02-05T09:08:09.889Z"
   },
   {
    "duration": 299,
    "start_time": "2023-02-05T09:08:38.619Z"
   },
   {
    "duration": 4,
    "start_time": "2023-02-05T09:11:15.200Z"
   },
   {
    "duration": 5,
    "start_time": "2023-02-05T09:11:50.048Z"
   },
   {
    "duration": 9,
    "start_time": "2023-02-05T09:12:04.549Z"
   },
   {
    "duration": 16,
    "start_time": "2023-02-05T09:12:48.297Z"
   },
   {
    "duration": 16,
    "start_time": "2023-02-05T09:13:08.539Z"
   },
   {
    "duration": 14,
    "start_time": "2023-02-05T09:13:19.918Z"
   },
   {
    "duration": 200,
    "start_time": "2023-02-05T09:18:20.822Z"
   },
   {
    "duration": 238,
    "start_time": "2023-02-05T09:19:31.257Z"
   },
   {
    "duration": 620,
    "start_time": "2023-02-05T09:19:55.491Z"
   },
   {
    "duration": 257,
    "start_time": "2023-02-05T09:20:27.644Z"
   },
   {
    "duration": 249,
    "start_time": "2023-02-05T09:21:34.106Z"
   },
   {
    "duration": 482,
    "start_time": "2023-02-05T09:27:03.894Z"
   },
   {
    "duration": 583,
    "start_time": "2023-02-05T09:27:10.173Z"
   },
   {
    "duration": 495,
    "start_time": "2023-02-05T09:27:59.150Z"
   },
   {
    "duration": 6,
    "start_time": "2023-02-05T09:30:34.888Z"
   },
   {
    "duration": 6,
    "start_time": "2023-02-05T09:33:26.990Z"
   },
   {
    "duration": 25,
    "start_time": "2023-02-05T09:33:53.458Z"
   },
   {
    "duration": 4,
    "start_time": "2023-02-05T09:40:00.502Z"
   },
   {
    "duration": 68,
    "start_time": "2023-02-05T09:40:00.678Z"
   },
   {
    "duration": 25,
    "start_time": "2023-02-05T09:40:00.847Z"
   },
   {
    "duration": 13,
    "start_time": "2023-02-05T09:40:01.019Z"
   },
   {
    "duration": 10,
    "start_time": "2023-02-05T09:40:01.192Z"
   },
   {
    "duration": 3,
    "start_time": "2023-02-05T09:40:01.369Z"
   },
   {
    "duration": 5,
    "start_time": "2023-02-05T09:40:01.552Z"
   },
   {
    "duration": 7,
    "start_time": "2023-02-05T09:40:01.733Z"
   },
   {
    "duration": 29,
    "start_time": "2023-02-05T09:40:01.895Z"
   },
   {
    "duration": 4,
    "start_time": "2023-02-05T09:40:02.422Z"
   },
   {
    "duration": 14,
    "start_time": "2023-02-05T09:40:02.967Z"
   },
   {
    "duration": 13,
    "start_time": "2023-02-05T09:40:03.359Z"
   },
   {
    "duration": 9,
    "start_time": "2023-02-05T09:40:04.143Z"
   },
   {
    "duration": 236,
    "start_time": "2023-02-05T09:40:04.510Z"
   },
   {
    "duration": 398,
    "start_time": "2023-02-05T09:40:05.388Z"
   },
   {
    "duration": 311,
    "start_time": "2023-02-05T09:40:06.302Z"
   },
   {
    "duration": 351,
    "start_time": "2023-02-05T09:40:07.134Z"
   },
   {
    "duration": 285,
    "start_time": "2023-02-05T09:40:07.957Z"
   },
   {
    "duration": 344,
    "start_time": "2023-02-05T09:40:08.837Z"
   },
   {
    "duration": 294,
    "start_time": "2023-02-05T09:40:10.777Z"
   },
   {
    "duration": 14,
    "start_time": "2023-02-05T09:40:12.172Z"
   },
   {
    "duration": 532,
    "start_time": "2023-02-05T09:40:13.421Z"
   },
   {
    "duration": 5,
    "start_time": "2023-02-05T09:40:14.600Z"
   },
   {
    "duration": 31,
    "start_time": "2023-02-05T09:40:16.344Z"
   },
   {
    "duration": 1637,
    "start_time": "2023-02-05T09:41:55.898Z"
   },
   {
    "duration": 8,
    "start_time": "2023-02-05T09:42:05.733Z"
   },
   {
    "duration": 2117,
    "start_time": "2023-02-05T09:42:28.068Z"
   },
   {
    "duration": 13,
    "start_time": "2023-02-05T09:42:42.391Z"
   },
   {
    "duration": 38,
    "start_time": "2023-02-05T09:43:24.601Z"
   },
   {
    "duration": 29,
    "start_time": "2023-02-05T09:45:09.142Z"
   },
   {
    "duration": 12,
    "start_time": "2023-02-05T09:51:04.463Z"
   },
   {
    "duration": 3,
    "start_time": "2023-02-05T09:56:09.869Z"
   },
   {
    "duration": 70,
    "start_time": "2023-02-05T09:56:10.053Z"
   },
   {
    "duration": 30,
    "start_time": "2023-02-05T09:56:10.239Z"
   },
   {
    "duration": 17,
    "start_time": "2023-02-05T09:56:10.398Z"
   },
   {
    "duration": 12,
    "start_time": "2023-02-05T09:56:10.581Z"
   },
   {
    "duration": 3,
    "start_time": "2023-02-05T09:56:10.760Z"
   },
   {
    "duration": 4,
    "start_time": "2023-02-05T09:56:10.924Z"
   },
   {
    "duration": 6,
    "start_time": "2023-02-05T09:56:11.101Z"
   },
   {
    "duration": 24,
    "start_time": "2023-02-05T09:56:11.286Z"
   },
   {
    "duration": 3,
    "start_time": "2023-02-05T09:56:11.829Z"
   },
   {
    "duration": 13,
    "start_time": "2023-02-05T09:56:12.177Z"
   },
   {
    "duration": 12,
    "start_time": "2023-02-05T09:56:12.551Z"
   },
   {
    "duration": 9,
    "start_time": "2023-02-05T09:56:13.267Z"
   },
   {
    "duration": 232,
    "start_time": "2023-02-05T09:56:13.653Z"
   },
   {
    "duration": 292,
    "start_time": "2023-02-05T09:56:14.027Z"
   },
   {
    "duration": 277,
    "start_time": "2023-02-05T09:56:14.406Z"
   },
   {
    "duration": 399,
    "start_time": "2023-02-05T09:56:14.787Z"
   },
   {
    "duration": 293,
    "start_time": "2023-02-05T09:56:15.188Z"
   },
   {
    "duration": 533,
    "start_time": "2023-02-05T09:56:15.557Z"
   },
   {
    "duration": 335,
    "start_time": "2023-02-05T09:56:16.092Z"
   },
   {
    "duration": 16,
    "start_time": "2023-02-05T09:56:17.299Z"
   },
   {
    "duration": 508,
    "start_time": "2023-02-05T09:56:18.233Z"
   },
   {
    "duration": 4,
    "start_time": "2023-02-05T09:56:19.316Z"
   },
   {
    "duration": 34,
    "start_time": "2023-02-05T09:56:20.201Z"
   },
   {
    "duration": 11,
    "start_time": "2023-02-05T09:56:21.041Z"
   },
   {
    "duration": 14,
    "start_time": "2023-02-05T09:56:21.961Z"
   },
   {
    "duration": 26,
    "start_time": "2023-02-05T09:56:22.945Z"
   },
   {
    "duration": 15,
    "start_time": "2023-02-05T09:57:17.524Z"
   },
   {
    "duration": 4,
    "start_time": "2023-02-05T10:15:47.649Z"
   },
   {
    "duration": 70,
    "start_time": "2023-02-05T10:15:48.017Z"
   },
   {
    "duration": 28,
    "start_time": "2023-02-05T10:15:48.194Z"
   },
   {
    "duration": 12,
    "start_time": "2023-02-05T10:15:48.369Z"
   },
   {
    "duration": 11,
    "start_time": "2023-02-05T10:15:48.534Z"
   },
   {
    "duration": 2,
    "start_time": "2023-02-05T10:15:48.683Z"
   },
   {
    "duration": 3,
    "start_time": "2023-02-05T10:15:48.841Z"
   },
   {
    "duration": 7,
    "start_time": "2023-02-05T10:15:49.001Z"
   },
   {
    "duration": 26,
    "start_time": "2023-02-05T10:15:49.163Z"
   },
   {
    "duration": 4,
    "start_time": "2023-02-05T10:15:49.993Z"
   },
   {
    "duration": 16,
    "start_time": "2023-02-05T10:15:49.999Z"
   },
   {
    "duration": 16,
    "start_time": "2023-02-05T10:15:50.303Z"
   },
   {
    "duration": 12,
    "start_time": "2023-02-05T10:15:50.983Z"
   },
   {
    "duration": 231,
    "start_time": "2023-02-05T10:15:51.320Z"
   },
   {
    "duration": 253,
    "start_time": "2023-02-05T10:15:51.670Z"
   },
   {
    "duration": 274,
    "start_time": "2023-02-05T10:15:52.027Z"
   },
   {
    "duration": 403,
    "start_time": "2023-02-05T10:15:52.368Z"
   },
   {
    "duration": 301,
    "start_time": "2023-02-05T10:15:52.773Z"
   },
   {
    "duration": 356,
    "start_time": "2023-02-05T10:15:53.232Z"
   },
   {
    "duration": 320,
    "start_time": "2023-02-05T10:15:53.592Z"
   },
   {
    "duration": 15,
    "start_time": "2023-02-05T10:15:53.963Z"
   },
   {
    "duration": 480,
    "start_time": "2023-02-05T10:15:54.321Z"
   },
   {
    "duration": 5,
    "start_time": "2023-02-05T10:15:54.803Z"
   },
   {
    "duration": 29,
    "start_time": "2023-02-05T10:15:55.062Z"
   },
   {
    "duration": 11,
    "start_time": "2023-02-05T10:15:55.437Z"
   },
   {
    "duration": 12,
    "start_time": "2023-02-05T10:15:55.805Z"
   },
   {
    "duration": 148,
    "start_time": "2023-02-05T10:15:56.157Z"
   },
   {
    "duration": 13,
    "start_time": "2023-02-05T10:15:56.527Z"
   },
   {
    "duration": 3,
    "start_time": "2023-02-05T10:29:08.890Z"
   },
   {
    "duration": 65,
    "start_time": "2023-02-05T10:29:09.121Z"
   },
   {
    "duration": 24,
    "start_time": "2023-02-05T10:29:09.290Z"
   },
   {
    "duration": 11,
    "start_time": "2023-02-05T10:29:09.491Z"
   },
   {
    "duration": 12,
    "start_time": "2023-02-05T10:29:09.658Z"
   },
   {
    "duration": 3,
    "start_time": "2023-02-05T10:29:09.826Z"
   },
   {
    "duration": 4,
    "start_time": "2023-02-05T10:29:09.994Z"
   },
   {
    "duration": 6,
    "start_time": "2023-02-05T10:29:10.162Z"
   },
   {
    "duration": 31,
    "start_time": "2023-02-05T10:29:10.363Z"
   },
   {
    "duration": 4,
    "start_time": "2023-02-05T10:29:10.929Z"
   },
   {
    "duration": 12,
    "start_time": "2023-02-05T10:29:11.291Z"
   },
   {
    "duration": 12,
    "start_time": "2023-02-05T10:29:11.650Z"
   },
   {
    "duration": 10,
    "start_time": "2023-02-05T10:29:12.368Z"
   },
   {
    "duration": 232,
    "start_time": "2023-02-05T10:29:12.745Z"
   },
   {
    "duration": 259,
    "start_time": "2023-02-05T10:29:13.144Z"
   },
   {
    "duration": 3,
    "start_time": "2023-02-05T10:29:40.885Z"
   },
   {
    "duration": 65,
    "start_time": "2023-02-05T10:29:41.024Z"
   },
   {
    "duration": 26,
    "start_time": "2023-02-05T10:29:41.167Z"
   },
   {
    "duration": 11,
    "start_time": "2023-02-05T10:29:41.368Z"
   },
   {
    "duration": 11,
    "start_time": "2023-02-05T10:29:41.506Z"
   },
   {
    "duration": 3,
    "start_time": "2023-02-05T10:29:41.656Z"
   },
   {
    "duration": 4,
    "start_time": "2023-02-05T10:29:41.805Z"
   },
   {
    "duration": 8,
    "start_time": "2023-02-05T10:29:41.990Z"
   },
   {
    "duration": 24,
    "start_time": "2023-02-05T10:29:42.184Z"
   },
   {
    "duration": 3,
    "start_time": "2023-02-05T10:29:42.700Z"
   },
   {
    "duration": 13,
    "start_time": "2023-02-05T10:29:43.060Z"
   },
   {
    "duration": 12,
    "start_time": "2023-02-05T10:29:43.435Z"
   },
   {
    "duration": 10,
    "start_time": "2023-02-05T10:29:44.164Z"
   },
   {
    "duration": 234,
    "start_time": "2023-02-05T10:29:44.535Z"
   },
   {
    "duration": 257,
    "start_time": "2023-02-05T10:29:44.901Z"
   },
   {
    "duration": 255,
    "start_time": "2023-02-05T10:29:45.276Z"
   },
   {
    "duration": 388,
    "start_time": "2023-02-05T10:29:45.668Z"
   },
   {
    "duration": 298,
    "start_time": "2023-02-05T10:29:46.061Z"
   },
   {
    "duration": 368,
    "start_time": "2023-02-05T10:29:46.419Z"
   },
   {
    "duration": 323,
    "start_time": "2023-02-05T10:29:46.811Z"
   },
   {
    "duration": 16,
    "start_time": "2023-02-05T10:29:47.196Z"
   },
   {
    "duration": 494,
    "start_time": "2023-02-05T10:29:47.565Z"
   },
   {
    "duration": 4,
    "start_time": "2023-02-05T10:29:48.061Z"
   },
   {
    "duration": 25,
    "start_time": "2023-02-05T10:29:48.321Z"
   },
   {
    "duration": 11,
    "start_time": "2023-02-05T10:29:48.739Z"
   },
   {
    "duration": 13,
    "start_time": "2023-02-05T10:29:49.150Z"
   },
   {
    "duration": 28,
    "start_time": "2023-02-05T10:29:50.032Z"
   },
   {
    "duration": 13,
    "start_time": "2023-02-05T10:29:50.062Z"
   },
   {
    "duration": 1244,
    "start_time": "2023-02-05T11:33:12.654Z"
   },
   {
    "duration": 252,
    "start_time": "2023-02-05T11:33:13.900Z"
   },
   {
    "duration": 23,
    "start_time": "2023-02-05T11:33:14.154Z"
   },
   {
    "duration": 17,
    "start_time": "2023-02-05T11:33:14.178Z"
   },
   {
    "duration": 19,
    "start_time": "2023-02-05T11:33:14.197Z"
   },
   {
    "duration": 4,
    "start_time": "2023-02-05T11:33:14.217Z"
   },
   {
    "duration": 17,
    "start_time": "2023-02-05T11:33:14.222Z"
   },
   {
    "duration": 18,
    "start_time": "2023-02-05T11:33:14.240Z"
   },
   {
    "duration": 50,
    "start_time": "2023-02-05T11:33:14.260Z"
   },
   {
    "duration": 13,
    "start_time": "2023-02-05T11:33:14.312Z"
   },
   {
    "duration": 21,
    "start_time": "2023-02-05T11:33:14.327Z"
   },
   {
    "duration": 21,
    "start_time": "2023-02-05T11:33:14.350Z"
   },
   {
    "duration": 14,
    "start_time": "2023-02-05T11:33:14.373Z"
   },
   {
    "duration": 228,
    "start_time": "2023-02-05T11:33:14.388Z"
   },
   {
    "duration": 276,
    "start_time": "2023-02-05T11:33:14.617Z"
   },
   {
    "duration": 284,
    "start_time": "2023-02-05T11:33:14.895Z"
   },
   {
    "duration": 428,
    "start_time": "2023-02-05T11:33:15.181Z"
   },
   {
    "duration": 350,
    "start_time": "2023-02-05T11:33:15.610Z"
   },
   {
    "duration": 406,
    "start_time": "2023-02-05T11:33:15.962Z"
   },
   {
    "duration": 379,
    "start_time": "2023-02-05T11:33:16.370Z"
   },
   {
    "duration": 13,
    "start_time": "2023-02-05T11:33:16.751Z"
   },
   {
    "duration": 573,
    "start_time": "2023-02-05T11:33:16.765Z"
   },
   {
    "duration": 4,
    "start_time": "2023-02-05T11:33:17.340Z"
   },
   {
    "duration": 32,
    "start_time": "2023-02-05T11:33:17.346Z"
   },
   {
    "duration": 11,
    "start_time": "2023-02-05T11:33:17.392Z"
   },
   {
    "duration": 22,
    "start_time": "2023-02-05T11:33:17.405Z"
   },
   {
    "duration": 43,
    "start_time": "2023-02-05T11:33:17.428Z"
   },
   {
    "duration": 37,
    "start_time": "2023-02-05T11:33:17.475Z"
   }
  ],
  "kernelspec": {
   "display_name": "Python 3 (ipykernel)",
   "language": "python",
   "name": "python3"
  },
  "language_info": {
   "codemirror_mode": {
    "name": "ipython",
    "version": 3
   },
   "file_extension": ".py",
   "mimetype": "text/x-python",
   "name": "python",
   "nbconvert_exporter": "python",
   "pygments_lexer": "ipython3",
   "version": "3.9.5"
  },
  "toc": {
   "base_numbering": 1,
   "nav_menu": {},
   "number_sections": true,
   "sideBar": true,
   "skip_h1_title": true,
   "title_cell": "Table of Contents",
   "title_sidebar": "Contents",
   "toc_cell": false,
   "toc_position": {},
   "toc_section_display": true,
   "toc_window_display": false
  }
 },
 "nbformat": 4,
 "nbformat_minor": 2
}
